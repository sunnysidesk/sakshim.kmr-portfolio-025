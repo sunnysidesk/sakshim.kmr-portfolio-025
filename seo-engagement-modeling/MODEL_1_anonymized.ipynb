{
  "cells": [
    {
      "cell_type": "markdown",
      "metadata": {},
      "source": [
        "### Load libraries"
      ]
    },
    {
      "cell_type": "code",
      "execution_count": null,
      "metadata": {},
      "outputs": [],
      "source": [
        "import pandas as pd\n",
        "import numpy as np\n",
        "import os\n",
        "\n",
        "import matplotlib.pyplot as plt\n",
        "import seaborn as sns\n",
        "from sklearn.model_selection import LeaveOneOut, cross_val_score, train_test_split, KFold\n",
        "from sklearn.linear_model import ElasticNet, Ridge, Lasso\n",
        "from sklearn.ensemble import RandomForestRegressor, HistGradientBoostingRegressor\n",
        "from sklearn.tree import DecisionTreeRegressor\n",
        "from sklearn.preprocessing import StandardScaler\n",
        "from sklearn.linear_model import ElasticNet, Ridge, Lasso\n",
        "from sklearn.impute import SimpleImputer\n",
        "from sklearn.metrics import mean_squared_error, r2_score, accuracy_score"
      ]
    },
    {
      "cell_type": "markdown",
      "metadata": {},
      "source": [
        "### Load Model 1 Dataset Input"
      ]
    },
    {
      "cell_type": "code",
      "execution_count": null,
      "metadata": {},
      "outputs": [],
      "source": [
        "## CHANGE PATH TO DIRECTORY WHERE THE DATASET FOR MODEL 1 IS LOCATED\n",
        "\n",
        "os.chdir(\"/anonymized_path/sakshikumar/Documents/UCD/04. SP 2025/464 Practicum/KWSM finale/FINAL FILES\")\n",
        "data = pd.read_csv(\"dataset.csv\")\n",
        "data.head()"
      ]
    },
    {
      "cell_type": "code",
      "execution_count": null,
      "metadata": {},
      "outputs": [],
      "source": [
        "data.info()"
      ]
    },
    {
      "cell_type": "markdown",
      "metadata": {},
      "source": [
        "#### Correlation Matrix of all Variables"
      ]
    },
    {
      "cell_type": "code",
      "execution_count": null,
      "metadata": {},
      "outputs": [],
      "source": [
        "corr = data.select_dtypes(include=['float64', 'int64']).corr()\n",
        "\n",
        "plt.figure(figsize=(16,12))\n",
        "sns.heatmap(corr, cmap='coolwarm', annot=True)"
      ]
    },
    {
      "cell_type": "markdown",
      "metadata": {},
      "source": [
        "#### Preparing Variables for Modelling"
      ]
    },
    {
      "cell_type": "code",
      "execution_count": null,
      "metadata": {},
      "outputs": [],
      "source": [
        "features = [col for col in data.columns if col not in ['URL', 'Keyword', 'Source', 'Has_SERP_Feature', 'Position',\n",
        "                                                        'Active users',  'New users', 'Returning users', 'Total users', 'Event count',\n",
        "                                                        'Clicks', 'Transactional', 'Views per session', 'intent', 'Engaged sessions per active user',\n",
        "                                                        'Sessions']]\n",
        "data2 = data[features]\n",
        "\n",
        "corr2 = data2.select_dtypes(include=['float64', 'int64']).corr()\n",
        "plt.figure(figsize=(16,12))\n",
        "sns.heatmap(corr2, cmap='coolwarm', annot=True)"
      ]
    },
    {
      "cell_type": "markdown",
      "metadata": {},
      "source": [
        "#### Imputing Data for Missing Values in Data"
      ]
    },
    {
      "cell_type": "code",
      "execution_count": null,
      "metadata": {},
      "outputs": [],
      "source": [
        "numeric_cols = data2.select_dtypes(include=['float64', 'int64']).columns\n",
        "imputer = SimpleImputer(strategy='median')\n",
        "data2[numeric_cols] = imputer.fit_transform(data2[numeric_cols])"
      ]
    },
    {
      "cell_type": "markdown",
      "metadata": {},
      "source": [
        "#### Calculating inverse of Position for Ranking Ease\n",
        "This is the dependent variable"
      ]
    },
    {
      "cell_type": "code",
      "execution_count": null,
      "metadata": {},
      "outputs": [],
      "source": [
        "data2['Position_Inverse'] = 100 / (data['Position'] + 1)  # Transform position to a \"higher is better\" metric\n",
        "data2.head()"
      ]
    },
    {
      "cell_type": "markdown",
      "metadata": {},
      "source": [
        "#### Setting up Variables for Modelling"
      ]
    },
    {
      "cell_type": "code",
      "execution_count": null,
      "metadata": {},
      "outputs": [],
      "source": [
        "feats_final = [col for col in data2.columns if col not in ['CPC', 'Position_Inverse', 'Commercial_Trans_Ratio']]\n",
        "\n",
        "X = data2[feats_final]\n",
        "y = data2['Position_Inverse']  # Higher value = better position\n",
        "\n",
        "X.columns"
      ]
    },
    {
      "cell_type": "code",
      "execution_count": null,
      "metadata": {},
      "outputs": [],
      "source": [
        "X_train, X_test, y_train, y_test = train_test_split(X, y, test_size=0.2, random_state=57)\n",
        "print(f\"Training set size: {X_train.shape[0]}\")\n",
        "print(f\"Test set size: {X_test.shape[0]}\")"
      ]
    },
    {
      "cell_type": "markdown",
      "metadata": {},
      "source": [
        "#### Scaling Model Variables"
      ]
    },
    {
      "cell_type": "code",
      "execution_count": null,
      "metadata": {},
      "outputs": [],
      "source": [
        "# Scale features\n",
        "scaler = StandardScaler()\n",
        "X_train_scaled = scaler.fit_transform(X_train)\n",
        "X_test_scaled = scaler.transform(X_test)"
      ]
    },
    {
      "cell_type": "markdown",
      "metadata": {},
      "source": [
        "#### Model Pipeline - Fitting Model 1 to Data"
      ]
    },
    {
      "cell_type": "code",
      "execution_count": null,
      "metadata": {},
      "outputs": [],
      "source": [
        "lasso = Lasso(alpha=0.1, max_iter=50000)\n",
        "lasso.fit(X_train_scaled, y_train)\n",
        "print(lasso.dual_gap_)\n",
        "\n",
        "# Prediction\n",
        "y_pred = lasso.predict(X_test_scaled)\n",
        "\n",
        "# 8. Evaluate model\n",
        "mse = mean_squared_error(y_test, y_pred)\n",
        "rmse = np.sqrt(mse)\n",
        "r2 = r2_score(y_test, y_pred)\n",
        "\n",
        "print(\"\\nModel Evaluation:\")\n",
        "print(f\"MSE: {mse:.4f}\")\n",
        "print(f\"RMSE: {rmse:.4f}\")\n",
        "print(f\"R\u00b2: {r2:.4f}\")"
      ]
    },
    {
      "cell_type": "markdown",
      "metadata": {},
      "source": [
        "#### Extracting and Ordering Variables by Importance (Coefficient size)"
      ]
    },
    {
      "cell_type": "code",
      "execution_count": null,
      "metadata": {},
      "outputs": [],
      "source": [
        "feature_importance = pd.DataFrame({\n",
        "    'Feature': feats_final,\n",
        "    'Coefficient': lasso.coef_\n",
        "})\n",
        "feature_importance['Absolute_Coefficient'] = abs(feature_importance['Coefficient'])\n",
        "feature_importance = feature_importance.sort_values('Absolute_Coefficient', ascending=False)\n",
        "feature_importance"
      ]
    },
    {
      "cell_type": "markdown",
      "metadata": {},
      "source": [
        "#### Structuring Final Output\n",
        "Calculating Opportunity Score for Final Keywords Output"
      ]
    },
    {
      "cell_type": "code",
      "execution_count": null,
      "metadata": {},
      "outputs": [],
      "source": [
        "X_all_scaled = scaler.transform(X)\n",
        "predicted_inverse = lasso.predict(X_all_scaled)\n",
        "data['Predicted_Position'] = (100 / predicted_inverse) - 1\n",
        "\n",
        "data['Opportunity_Score'] = ((data['Commercial'] + data['Transactional']) * data['Volume']) / (data['KD'] + 1) / (data['Predicted_Position'] + 1)\n",
        "\n",
        "# Sort by opportunity score to find highest potential keywords\n",
        "best_keywords = data.sort_values('Opportunity_Score', ascending=False)\n",
        "print(\"\\nTop 20 Keywords to Target Based on Lasso Model:\")\n",
        "# result1 = best_keywords[['Keyword', 'Opportunity_Score', 'Position', 'Volume', 'KD', 'Commercial', 'Transactional']].sort_values(['Commercial', 'Transactional', 'KD'], \n",
        "#                                                                                                                                ascending=[False, False, True])\n",
        "\n",
        "result1 = best_keywords[['Keyword', 'Opportunity_Score', 'Position', 'Predicted_Position', 'Volume', 'KD', 'Commercial', 'Transactional']].sort_values('Opportunity_Score', ascending=False)\n",
        "result1.head(15)"
      ]
    },
    {
      "cell_type": "markdown",
      "metadata": {},
      "source": [
        "#### Export to CSV"
      ]
    },
    {
      "cell_type": "code",
      "execution_count": null,
      "metadata": {},
      "outputs": [],
      "source": [
        "## CHANGE PATH TO YOUR DIRECTORY TO SAVE THE MODEL 1 OUTPUT\n",
        "result1.to_csv('Model1_Table.csv', index=False)"
      ]
    },
    {
      "cell_type": "code",
      "execution_count": null,
      "metadata": {},
      "outputs": [],
      "source": []
    }
  ],
  "metadata": {
    "kernelspec": {
      "display_name": "Python 3",
      "language": "python",
      "name": "python3"
    },
    "language_info": {
      "codemirror_mode": {
        "name": "ipython",
        "version": 3
      },
      "file_extension": ".py",
      "mimetype": "text/x-python",
      "name": "python",
      "nbconvert_exporter": "python",
      "pygments_lexer": "ipython3",
      "version": ""
    }
  },
  "nbformat": 4,
  "nbformat_minor": 2
}