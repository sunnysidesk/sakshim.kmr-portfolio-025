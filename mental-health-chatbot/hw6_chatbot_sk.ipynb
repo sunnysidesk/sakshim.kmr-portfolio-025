{
  "cells": [
    {
      "cell_type": "markdown",
      "metadata": {
        "id": "LUsaxqtuBjgl"
      },
      "source": [
        "## Building a Custom Chatbot with Hugging Face"
      ]
    },
    {
      "cell_type": "markdown",
      "metadata": {
        "id": "Aif1vDdaBqr-"
      },
      "source": [
        "For this mini-project, we chose a mental health chatbot application where users can express their mental health thoughts and concerns to which our customised chatbot will generate responses as per our finetuning.\n",
        "\n",
        "The datasest chosen can be found on Hugging Face: https://huggingface.co/datasets/Amod/mental_health_counseling_conversations. It is a collection of Q&As from two online counseling and therapy platforms, covering a wide range of mental health topics. The aim of this project is to train and finetune the existing Distil-GPT2 transformer from Hugging Face with this dataset to enable provision of mental health advice to users in mental distress."
      ]
    },
    {
      "cell_type": "code",
      "execution_count": 1,
      "metadata": {
        "colab": {
          "base_uri": "https://localhost:8080/"
        },
        "id": "yWecWRHd5Si0",
        "outputId": "dcea586d-e9de-4a71-abfe-0e967d7d6625"
      },
      "outputs": [
        {
          "name": "stdout",
          "output_type": "stream",
          "text": [
            "Requirement already satisfied: transformers in /usr/local/lib/python3.11/dist-packages (4.48.3)\n",
            "Collecting datasets\n",
            "  Downloading datasets-3.3.2-py3-none-any.whl.metadata (19 kB)\n",
            "Requirement already satisfied: torch in /usr/local/lib/python3.11/dist-packages (2.5.1+cu124)\n",
            "Requirement already satisfied: scikit-learn in /usr/local/lib/python3.11/dist-packages (1.6.1)\n",
            "Requirement already satisfied: accelerate in /usr/local/lib/python3.11/dist-packages (1.3.0)\n",
            "Requirement already satisfied: filelock in /usr/local/lib/python3.11/dist-packages (from transformers) (3.17.0)\n",
            "Requirement already satisfied: huggingface-hub<1.0,>=0.24.0 in /usr/local/lib/python3.11/dist-packages (from transformers) (0.28.1)\n",
            "Requirement already satisfied: numpy>=1.17 in /usr/local/lib/python3.11/dist-packages (from transformers) (1.26.4)\n",
            "Requirement already satisfied: packaging>=20.0 in /usr/local/lib/python3.11/dist-packages (from transformers) (24.2)\n",
            "Requirement already satisfied: pyyaml>=5.1 in /usr/local/lib/python3.11/dist-packages (from transformers) (6.0.2)\n",
            "Requirement already satisfied: regex!=2019.12.17 in /usr/local/lib/python3.11/dist-packages (from transformers) (2024.11.6)\n",
            "Requirement already satisfied: requests in /usr/local/lib/python3.11/dist-packages (from transformers) (2.32.3)\n",
            "Requirement already satisfied: tokenizers<0.22,>=0.21 in /usr/local/lib/python3.11/dist-packages (from transformers) (0.21.0)\n",
            "Requirement already satisfied: safetensors>=0.4.1 in /usr/local/lib/python3.11/dist-packages (from transformers) (0.5.3)\n",
            "Requirement already satisfied: tqdm>=4.27 in /usr/local/lib/python3.11/dist-packages (from transformers) (4.67.1)\n",
            "Requirement already satisfied: pyarrow>=15.0.0 in /usr/local/lib/python3.11/dist-packages (from datasets) (18.1.0)\n",
            "Collecting dill<0.3.9,>=0.3.0 (from datasets)\n",
            "  Downloading dill-0.3.8-py3-none-any.whl.metadata (10 kB)\n",
            "Requirement already satisfied: pandas in /usr/local/lib/python3.11/dist-packages (from datasets) (2.2.2)\n",
            "Collecting xxhash (from datasets)\n",
            "  Downloading xxhash-3.5.0-cp311-cp311-manylinux_2_17_x86_64.manylinux2014_x86_64.whl.metadata (12 kB)\n",
            "Collecting multiprocess<0.70.17 (from datasets)\n",
            "  Downloading multiprocess-0.70.16-py311-none-any.whl.metadata (7.2 kB)\n",
            "Requirement already satisfied: fsspec<=2024.12.0,>=2023.1.0 in /usr/local/lib/python3.11/dist-packages (from fsspec[http]<=2024.12.0,>=2023.1.0->datasets) (2024.10.0)\n",
            "Requirement already satisfied: aiohttp in /usr/local/lib/python3.11/dist-packages (from datasets) (3.11.13)\n",
            "Requirement already satisfied: typing-extensions>=4.8.0 in /usr/local/lib/python3.11/dist-packages (from torch) (4.12.2)\n",
            "Requirement already satisfied: networkx in /usr/local/lib/python3.11/dist-packages (from torch) (3.4.2)\n",
            "Requirement already satisfied: jinja2 in /usr/local/lib/python3.11/dist-packages (from torch) (3.1.5)\n",
            "Collecting nvidia-cuda-nvrtc-cu12==12.4.127 (from torch)\n",
            "  Downloading nvidia_cuda_nvrtc_cu12-12.4.127-py3-none-manylinux2014_x86_64.whl.metadata (1.5 kB)\n",
            "Collecting nvidia-cuda-runtime-cu12==12.4.127 (from torch)\n",
            "  Downloading nvidia_cuda_runtime_cu12-12.4.127-py3-none-manylinux2014_x86_64.whl.metadata (1.5 kB)\n",
            "Collecting nvidia-cuda-cupti-cu12==12.4.127 (from torch)\n",
            "  Downloading nvidia_cuda_cupti_cu12-12.4.127-py3-none-manylinux2014_x86_64.whl.metadata (1.6 kB)\n",
            "Collecting nvidia-cudnn-cu12==9.1.0.70 (from torch)\n",
            "  Downloading nvidia_cudnn_cu12-9.1.0.70-py3-none-manylinux2014_x86_64.whl.metadata (1.6 kB)\n",
            "Collecting nvidia-cublas-cu12==12.4.5.8 (from torch)\n",
            "  Downloading nvidia_cublas_cu12-12.4.5.8-py3-none-manylinux2014_x86_64.whl.metadata (1.5 kB)\n",
            "Collecting nvidia-cufft-cu12==11.2.1.3 (from torch)\n",
            "  Downloading nvidia_cufft_cu12-11.2.1.3-py3-none-manylinux2014_x86_64.whl.metadata (1.5 kB)\n",
            "Collecting nvidia-curand-cu12==10.3.5.147 (from torch)\n",
            "  Downloading nvidia_curand_cu12-10.3.5.147-py3-none-manylinux2014_x86_64.whl.metadata (1.5 kB)\n",
            "Collecting nvidia-cusolver-cu12==11.6.1.9 (from torch)\n",
            "  Downloading nvidia_cusolver_cu12-11.6.1.9-py3-none-manylinux2014_x86_64.whl.metadata (1.6 kB)\n",
            "Collecting nvidia-cusparse-cu12==12.3.1.170 (from torch)\n",
            "  Downloading nvidia_cusparse_cu12-12.3.1.170-py3-none-manylinux2014_x86_64.whl.metadata (1.6 kB)\n",
            "Requirement already satisfied: nvidia-nccl-cu12==2.21.5 in /usr/local/lib/python3.11/dist-packages (from torch) (2.21.5)\n",
            "Requirement already satisfied: nvidia-nvtx-cu12==12.4.127 in /usr/local/lib/python3.11/dist-packages (from torch) (12.4.127)\n",
            "Collecting nvidia-nvjitlink-cu12==12.4.127 (from torch)\n",
            "  Downloading nvidia_nvjitlink_cu12-12.4.127-py3-none-manylinux2014_x86_64.whl.metadata (1.5 kB)\n",
            "Requirement already satisfied: triton==3.1.0 in /usr/local/lib/python3.11/dist-packages (from torch) (3.1.0)\n",
            "Requirement already satisfied: sympy==1.13.1 in /usr/local/lib/python3.11/dist-packages (from torch) (1.13.1)\n",
            "Requirement already satisfied: mpmath<1.4,>=1.1.0 in /usr/local/lib/python3.11/dist-packages (from sympy==1.13.1->torch) (1.3.0)\n",
            "Requirement already satisfied: scipy>=1.6.0 in /usr/local/lib/python3.11/dist-packages (from scikit-learn) (1.13.1)\n",
            "Requirement already satisfied: joblib>=1.2.0 in /usr/local/lib/python3.11/dist-packages (from scikit-learn) (1.4.2)\n",
            "Requirement already satisfied: threadpoolctl>=3.1.0 in /usr/local/lib/python3.11/dist-packages (from scikit-learn) (3.5.0)\n",
            "Requirement already satisfied: psutil in /usr/local/lib/python3.11/dist-packages (from accelerate) (5.9.5)\n",
            "Requirement already satisfied: aiohappyeyeballs>=2.3.0 in /usr/local/lib/python3.11/dist-packages (from aiohttp->datasets) (2.4.6)\n",
            "Requirement already satisfied: aiosignal>=1.1.2 in /usr/local/lib/python3.11/dist-packages (from aiohttp->datasets) (1.3.2)\n",
            "Requirement already satisfied: attrs>=17.3.0 in /usr/local/lib/python3.11/dist-packages (from aiohttp->datasets) (25.1.0)\n",
            "Requirement already satisfied: frozenlist>=1.1.1 in /usr/local/lib/python3.11/dist-packages (from aiohttp->datasets) (1.5.0)\n",
            "Requirement already satisfied: multidict<7.0,>=4.5 in /usr/local/lib/python3.11/dist-packages (from aiohttp->datasets) (6.1.0)\n",
            "Requirement already satisfied: propcache>=0.2.0 in /usr/local/lib/python3.11/dist-packages (from aiohttp->datasets) (0.3.0)\n",
            "Requirement already satisfied: yarl<2.0,>=1.17.0 in /usr/local/lib/python3.11/dist-packages (from aiohttp->datasets) (1.18.3)\n",
            "Requirement already satisfied: charset-normalizer<4,>=2 in /usr/local/lib/python3.11/dist-packages (from requests->transformers) (3.4.1)\n",
            "Requirement already satisfied: idna<4,>=2.5 in /usr/local/lib/python3.11/dist-packages (from requests->transformers) (3.10)\n",
            "Requirement already satisfied: urllib3<3,>=1.21.1 in /usr/local/lib/python3.11/dist-packages (from requests->transformers) (2.3.0)\n",
            "Requirement already satisfied: certifi>=2017.4.17 in /usr/local/lib/python3.11/dist-packages (from requests->transformers) (2025.1.31)\n",
            "Requirement already satisfied: MarkupSafe>=2.0 in /usr/local/lib/python3.11/dist-packages (from jinja2->torch) (3.0.2)\n",
            "Requirement already satisfied: python-dateutil>=2.8.2 in /usr/local/lib/python3.11/dist-packages (from pandas->datasets) (2.8.2)\n",
            "Requirement already satisfied: pytz>=2020.1 in /usr/local/lib/python3.11/dist-packages (from pandas->datasets) (2025.1)\n",
            "Requirement already satisfied: tzdata>=2022.7 in /usr/local/lib/python3.11/dist-packages (from pandas->datasets) (2025.1)\n",
            "Requirement already satisfied: six>=1.5 in /usr/local/lib/python3.11/dist-packages (from python-dateutil>=2.8.2->pandas->datasets) (1.17.0)\n",
            "Downloading datasets-3.3.2-py3-none-any.whl (485 kB)\n",
            "\u001b[2K   \u001b[90m━━━━━━━━━━━━━━━━━━━━━━━━━━━━━━━━━━━━━━━━\u001b[0m \u001b[32m485.4/485.4 kB\u001b[0m \u001b[31m11.8 MB/s\u001b[0m eta \u001b[36m0:00:00\u001b[0m\n",
            "\u001b[?25hDownloading nvidia_cublas_cu12-12.4.5.8-py3-none-manylinux2014_x86_64.whl (363.4 MB)\n",
            "\u001b[2K   \u001b[90m━━━━━━━━━━━━━━━━━━━━━━━━━━━━━━━━━━━━━━━━\u001b[0m \u001b[32m363.4/363.4 MB\u001b[0m \u001b[31m3.7 MB/s\u001b[0m eta \u001b[36m0:00:00\u001b[0m\n",
            "\u001b[?25hDownloading nvidia_cuda_cupti_cu12-12.4.127-py3-none-manylinux2014_x86_64.whl (13.8 MB)\n",
            "\u001b[2K   \u001b[90m━━━━━━━━━━━━━━━━━━━━━━━━━━━━━━━━━━━━━━━━\u001b[0m \u001b[32m13.8/13.8 MB\u001b[0m \u001b[31m22.8 MB/s\u001b[0m eta \u001b[36m0:00:00\u001b[0m\n",
            "\u001b[?25hDownloading nvidia_cuda_nvrtc_cu12-12.4.127-py3-none-manylinux2014_x86_64.whl (24.6 MB)\n",
            "\u001b[2K   \u001b[90m━━━━━━━━━━━━━━━━━━━━━━━━━━━━━━━━━━━━━━━━\u001b[0m \u001b[32m24.6/24.6 MB\u001b[0m \u001b[31m17.5 MB/s\u001b[0m eta \u001b[36m0:00:00\u001b[0m\n",
            "\u001b[?25hDownloading nvidia_cuda_runtime_cu12-12.4.127-py3-none-manylinux2014_x86_64.whl (883 kB)\n",
            "\u001b[2K   \u001b[90m━━━━━━━━━━━━━━━━━━━━━━━━━━━━━━━━━━━━━━━━\u001b[0m \u001b[32m883.7/883.7 kB\u001b[0m \u001b[31m43.3 MB/s\u001b[0m eta \u001b[36m0:00:00\u001b[0m\n",
            "\u001b[?25hDownloading nvidia_cudnn_cu12-9.1.0.70-py3-none-manylinux2014_x86_64.whl (664.8 MB)\n",
            "\u001b[2K   \u001b[90m━━━━━━━━━━━━━━━━━━━━━━━━━━━━━━━━━━━━━━━━\u001b[0m \u001b[32m664.8/664.8 MB\u001b[0m \u001b[31m2.5 MB/s\u001b[0m eta \u001b[36m0:00:00\u001b[0m\n",
            "\u001b[?25hDownloading nvidia_cufft_cu12-11.2.1.3-py3-none-manylinux2014_x86_64.whl (211.5 MB)\n",
            "\u001b[2K   \u001b[90m━━━━━━━━━━━━━━━━━━━━━━━━━━━━━━━━━━━━━━━━\u001b[0m \u001b[32m211.5/211.5 MB\u001b[0m \u001b[31m3.6 MB/s\u001b[0m eta \u001b[36m0:00:00\u001b[0m\n",
            "\u001b[?25hDownloading nvidia_curand_cu12-10.3.5.147-py3-none-manylinux2014_x86_64.whl (56.3 MB)\n",
            "\u001b[2K   \u001b[90m━━━━━━━━━━━━━━━━━━━━━━━━━━━━━━━━━━━━━━━━\u001b[0m \u001b[32m56.3/56.3 MB\u001b[0m \u001b[31m9.6 MB/s\u001b[0m eta \u001b[36m0:00:00\u001b[0m\n",
            "\u001b[?25hDownloading nvidia_cusolver_cu12-11.6.1.9-py3-none-manylinux2014_x86_64.whl (127.9 MB)\n",
            "\u001b[2K   \u001b[90m━━━━━━━━━━━━━━━━━━━━━━━━━━━━━━━━━━━━━━━━\u001b[0m \u001b[32m127.9/127.9 MB\u001b[0m \u001b[31m6.7 MB/s\u001b[0m eta \u001b[36m0:00:00\u001b[0m\n",
            "\u001b[?25hDownloading nvidia_cusparse_cu12-12.3.1.170-py3-none-manylinux2014_x86_64.whl (207.5 MB)\n",
            "\u001b[2K   \u001b[90m━━━━━━━━━━━━━━━━━━━━━━━━━━━━━━━━━━━━━━━━\u001b[0m \u001b[32m207.5/207.5 MB\u001b[0m \u001b[31m5.7 MB/s\u001b[0m eta \u001b[36m0:00:00\u001b[0m\n",
            "\u001b[?25hDownloading nvidia_nvjitlink_cu12-12.4.127-py3-none-manylinux2014_x86_64.whl (21.1 MB)\n",
            "\u001b[2K   \u001b[90m━━━━━━━━━━━━━━━━━━━━━━━━━━━━━━━━━━━━━━━━\u001b[0m \u001b[32m21.1/21.1 MB\u001b[0m \u001b[31m80.0 MB/s\u001b[0m eta \u001b[36m0:00:00\u001b[0m\n",
            "\u001b[?25hDownloading dill-0.3.8-py3-none-any.whl (116 kB)\n",
            "\u001b[2K   \u001b[90m━━━━━━━━━━━━━━━━━━━━━━━━━━━━━━━━━━━━━━━━\u001b[0m \u001b[32m116.3/116.3 kB\u001b[0m \u001b[31m11.9 MB/s\u001b[0m eta \u001b[36m0:00:00\u001b[0m\n",
            "\u001b[?25hDownloading multiprocess-0.70.16-py311-none-any.whl (143 kB)\n",
            "\u001b[2K   \u001b[90m━━━━━━━━━━━━━━━━━━━━━━━━━━━━━━━━━━━━━━━━\u001b[0m \u001b[32m143.5/143.5 kB\u001b[0m \u001b[31m15.0 MB/s\u001b[0m eta \u001b[36m0:00:00\u001b[0m\n",
            "\u001b[?25hDownloading xxhash-3.5.0-cp311-cp311-manylinux_2_17_x86_64.manylinux2014_x86_64.whl (194 kB)\n",
            "\u001b[2K   \u001b[90m━━━━━━━━━━━━━━━━━━━━━━━━━━━━━━━━━━━━━━━━\u001b[0m \u001b[32m194.8/194.8 kB\u001b[0m \u001b[31m17.8 MB/s\u001b[0m eta \u001b[36m0:00:00\u001b[0m\n",
            "\u001b[?25hInstalling collected packages: xxhash, nvidia-nvjitlink-cu12, nvidia-curand-cu12, nvidia-cufft-cu12, nvidia-cuda-runtime-cu12, nvidia-cuda-nvrtc-cu12, nvidia-cuda-cupti-cu12, nvidia-cublas-cu12, dill, nvidia-cusparse-cu12, nvidia-cudnn-cu12, multiprocess, nvidia-cusolver-cu12, datasets\n",
            "  Attempting uninstall: nvidia-nvjitlink-cu12\n",
            "    Found existing installation: nvidia-nvjitlink-cu12 12.5.82\n",
            "    Uninstalling nvidia-nvjitlink-cu12-12.5.82:\n",
            "      Successfully uninstalled nvidia-nvjitlink-cu12-12.5.82\n",
            "  Attempting uninstall: nvidia-curand-cu12\n",
            "    Found existing installation: nvidia-curand-cu12 10.3.6.82\n",
            "    Uninstalling nvidia-curand-cu12-10.3.6.82:\n",
            "      Successfully uninstalled nvidia-curand-cu12-10.3.6.82\n",
            "  Attempting uninstall: nvidia-cufft-cu12\n",
            "    Found existing installation: nvidia-cufft-cu12 11.2.3.61\n",
            "    Uninstalling nvidia-cufft-cu12-11.2.3.61:\n",
            "      Successfully uninstalled nvidia-cufft-cu12-11.2.3.61\n",
            "  Attempting uninstall: nvidia-cuda-runtime-cu12\n",
            "    Found existing installation: nvidia-cuda-runtime-cu12 12.5.82\n",
            "    Uninstalling nvidia-cuda-runtime-cu12-12.5.82:\n",
            "      Successfully uninstalled nvidia-cuda-runtime-cu12-12.5.82\n",
            "  Attempting uninstall: nvidia-cuda-nvrtc-cu12\n",
            "    Found existing installation: nvidia-cuda-nvrtc-cu12 12.5.82\n",
            "    Uninstalling nvidia-cuda-nvrtc-cu12-12.5.82:\n",
            "      Successfully uninstalled nvidia-cuda-nvrtc-cu12-12.5.82\n",
            "  Attempting uninstall: nvidia-cuda-cupti-cu12\n",
            "    Found existing installation: nvidia-cuda-cupti-cu12 12.5.82\n",
            "    Uninstalling nvidia-cuda-cupti-cu12-12.5.82:\n",
            "      Successfully uninstalled nvidia-cuda-cupti-cu12-12.5.82\n",
            "  Attempting uninstall: nvidia-cublas-cu12\n",
            "    Found existing installation: nvidia-cublas-cu12 12.5.3.2\n",
            "    Uninstalling nvidia-cublas-cu12-12.5.3.2:\n",
            "      Successfully uninstalled nvidia-cublas-cu12-12.5.3.2\n",
            "  Attempting uninstall: nvidia-cusparse-cu12\n",
            "    Found existing installation: nvidia-cusparse-cu12 12.5.1.3\n",
            "    Uninstalling nvidia-cusparse-cu12-12.5.1.3:\n",
            "      Successfully uninstalled nvidia-cusparse-cu12-12.5.1.3\n",
            "  Attempting uninstall: nvidia-cudnn-cu12\n",
            "    Found existing installation: nvidia-cudnn-cu12 9.3.0.75\n",
            "    Uninstalling nvidia-cudnn-cu12-9.3.0.75:\n",
            "      Successfully uninstalled nvidia-cudnn-cu12-9.3.0.75\n",
            "  Attempting uninstall: nvidia-cusolver-cu12\n",
            "    Found existing installation: nvidia-cusolver-cu12 11.6.3.83\n",
            "    Uninstalling nvidia-cusolver-cu12-11.6.3.83:\n",
            "      Successfully uninstalled nvidia-cusolver-cu12-11.6.3.83\n",
            "Successfully installed datasets-3.3.2 dill-0.3.8 multiprocess-0.70.16 nvidia-cublas-cu12-12.4.5.8 nvidia-cuda-cupti-cu12-12.4.127 nvidia-cuda-nvrtc-cu12-12.4.127 nvidia-cuda-runtime-cu12-12.4.127 nvidia-cudnn-cu12-9.1.0.70 nvidia-cufft-cu12-11.2.1.3 nvidia-curand-cu12-10.3.5.147 nvidia-cusolver-cu12-11.6.1.9 nvidia-cusparse-cu12-12.3.1.170 nvidia-nvjitlink-cu12-12.4.127 xxhash-3.5.0\n"
          ]
        }
      ],
      "source": [
        "!pip install transformers datasets torch scikit-learn accelerate"
      ]
    },
    {
      "cell_type": "code",
      "execution_count": 2,
      "metadata": {
        "id": "Q3LJBh9c4w3P"
      },
      "outputs": [],
      "source": [
        "import pandas as pd\n",
        "import numpy as np\n",
        "import matplotlib.pyplot as plt\n",
        "import seaborn as sns\n",
        "\n",
        "import torch\n",
        "from datasets import Dataset\n",
        "from transformers import AutoTokenizer, AutoModelForSequenceClassification\n",
        "from transformers import TrainingArguments, Trainer\n",
        "\n",
        "from sklearn.model_selection import train_test_split\n",
        "from sklearn.metrics import accuracy_score, precision_recall_fscore_support"
      ]
    },
    {
      "cell_type": "markdown",
      "metadata": {
        "id": "C6JFLa1UDk1v"
      },
      "source": [
        "### Model Choice\n",
        "**DistilGPT-2** is a smaller, faster, and lighter version of the GPT-2 language Hugging face model, developed using knowledge distillation from its larger predecessor GPT-2. Like GPT-2, DistilGPT2 can be used to generate text, but with only 82 million parameters instead of 124 parameters, making it 66% faster and much less resource intensive. It can achieve 95% of GPT-2's performance on language modelling tasks, hence why it was chosen for this particular mental healt chatbot task.\n",
        "\n",
        "#### Knowledge distillation\n",
        "It uses a technique called distillation loss where it learns from its logits of the larger GPT-2 model, retaining most of the orignal model's knowledge. It inherits the same BPE tokeniser as GPT-2, an algorithm that breaks text into tokens, or smaller units, using a token dictionary.\n",
        "\n",
        "#### Attention mechanism\n",
        "DistilGPT-2 uses a multi-headed self-attention mechanism in its transformer-based architecture for processing text. Input text is broken into tokens, each of which 'attends' to all previous tokens to determine which words in the text are most relevant to each other, capturing context dependencies. The multiple attention heads work in parallel to learn different aspects of the context using, helping understand the text in a more nuanced way.\n",
        "\n",
        "Other features of the DistilGPT-2 model include reduced number of layers (every second layer removed from GPT-2), softmax attention to calculate attention scores to decide which words to focus on while generating text, and positional encoding (instead of sequential encoding) to indicate the order of words - inherited from GPT-2.\n",
        "\n",
        "#### Strengths\n",
        "- Smaller and easier to run: A distilled version of GPT-2, making it faster and more efficient to use.\n",
        "- Knowledge distillation: This model mimics its parent GPT-2 having learnt from it and be able to reproduce its behaviour, achieving 95% of its parent's performance at ~60% faster rates.\n",
        "\n",
        "#### Weaknesses\n",
        "- DistilGPT-2 shows persistent bias issues in its text generation tasks (which is still an ongoing research areas). It has proven to exhibit greater gender disparities than its parent. This means that it may generate text that is discriminatory or perpetuates negative attitudes towards certain groups of people.\n",
        "- Is not perfect and can generate text that is not factually accurate. This is particularly true for complex or nuanced topics, where the model may not have enough information or context to generate accurate text.\n",
        "- Has been trained on a wide range of texts, but it may not have in-depth knowledge of specific domains or topics. This means that it may not be able to generate text that is as accurate or informative as a specialist in that area."
      ]
    },
    {
      "cell_type": "code",
      "execution_count": 3,
      "metadata": {
        "colab": {
          "base_uri": "https://localhost:8080/",
          "height": 368,
          "referenced_widgets": [
            "5b6b855464d74c6bab28a85751861727",
            "cb349d87b3844fb281000235c404ba80",
            "2e6874f26cdd4ef89667c4b854610861",
            "8d31c6d16ad043b99d85a6cfa7f874eb",
            "c2b0d347fce04288901310dbb7a07cf7",
            "0be3d65f6bc84699b9417495f8628078",
            "0d986dc23260497686ffc2af94ac256a",
            "cc93269e36c04ba88052834c05dbfc6b",
            "67be745d18854f0a90644dc6345daf6f",
            "a4d87d07f7764a538b015bd2abf7f1c9",
            "795b6ef465e340f38c1c5166dc532df7",
            "7d93e399d2da42a4bd127ac89c1896d3",
            "64cad14e1f0c40b197c499b3b994e1d4",
            "deb46e6b778b4c21bef602b7429699b2",
            "8c1823dc2fa640b8a079fc7f342a462e",
            "fba8d9448c4847f39e11a41cea731f86",
            "88d19935bf0242e78dd97c488d43460e",
            "954236d5970e4580aa590306a410ba14",
            "78d77d357acb40029e1fe76a3b786288",
            "4ea0a97f7ca2467597d7dd25455edfa6",
            "67ef00628b954ceaab884fc9d4b9fe87",
            "2ebaccfacae34e23aa54731efa2e16e3",
            "7bcd383402f34c15b17b6ac9151395f2",
            "fb81271cf37e47a19fa98d2e7abd55d4",
            "37fae069102744a8bbbc91ce1e9d3640",
            "2f7004173db54f058ece68b359b085da",
            "965aa0761e614d33befc143cc11cd636",
            "8a4b2823d18347edbc8abaae9835f17c",
            "4d8670f2577748199e8a4f06a6240ef4",
            "3e70812739cf4cd4a6a91d70cff9cf85",
            "409fd0ac02d14554883e0964f9da1081",
            "38f76d2c9e554ab3ba445fb138bd7114",
            "afd26cfa366849dcbc75053afe0c1daa",
            "02aeeacb3fea441e99ad507250d871cf",
            "9f01e3266efb47eb964625c801a575ed",
            "fdcd70659a194b8cb6d77827b20daeb9",
            "285e7e85fb484656b10cc2c4d1b526fb",
            "46408263a439430facfe78dbf106b2f3",
            "fdbd70e070af4b14a9b93a6aadf9fd73",
            "41426f3dd27d4478a5767172ffd49b49",
            "7f5a73d98d924d0f81ee197a73bc3191",
            "edc22a209cdb4910a89935a33d89719b",
            "1cd952f564c24922b64525809c24104b",
            "1602a98f94dd49549c633471c5c6138f",
            "92c5b1f590c34e6fa0f0dfa828d9253a",
            "9ddf2ffcb7dd45b8be8737615d13274a",
            "d2d699769a93415a90cd11171d2fc107",
            "c9a06ea4603c481d9d297f5fd4ddd7f4",
            "58b41ddceee94be299bc63c0b008c364",
            "3a4d5b341443462f8026c75da7e07c2e",
            "c0951a4ed08d4a129a95fd7573df6ca3",
            "0babf96ce6824f30bbf1341c28dfd21c",
            "36a5c6c9ccaf463c875b47d4222173b1",
            "eda5e4097f264a25ab9ee73f412812f0",
            "9e50c33f997244a0b6d65c81c6c49002",
            "ea5d0938a55149b9acb891ef991207fd",
            "23d284a1ef064e0db3d3e33cf8cd06f7",
            "12be1c7136a14b01b06c9f9fd2874a2a",
            "bcb05717933442d788674f679f91b367",
            "2f66fad2fb3d40b383ed48c7ae052f3a",
            "f69e7db22c5e4b0e9480f5641fa8ecfd",
            "a610bc37bb19494b9b27206385d42705",
            "71e057aece484753a70e58f20d74f732",
            "8ad88f02fb7946d484addb62cdbc2012",
            "6d7e94fce2c04c8089b5df73d3f43fb4",
            "4c5c44bc23a745409e19c16cd77695bf",
            "029acb2135c84ea9bb3a5e32e8784e2d",
            "bd8bd5ab4c2c40b386020c69c23819a6",
            "a7c03cfbb8f74987b8f2950bff9e86a1",
            "3be53ae891224381a3dc0fac3c8eb36f",
            "19f0be3832f145f7a1ac12bb1a27fce9",
            "35c4ed7b8ec348d8ad81eb8c9252d487",
            "29fe2ff390334bac9cac5fbde39c28d0",
            "22454f4484904d608063e9ac66b2a8a2",
            "f4265579b6444bd88e2410b590f19825",
            "9ae4232ac8c149bfbaa904d7fd0c7864",
            "c556e77afa0147feb589ff20f278dd38"
          ]
        },
        "id": "XqsiERde6AgV",
        "outputId": "c64baa12-42d5-4f5e-908b-71edb8bf8738"
      },
      "outputs": [
        {
          "name": "stderr",
          "output_type": "stream",
          "text": [
            "/usr/local/lib/python3.11/dist-packages/huggingface_hub/utils/_auth.py:94: UserWarning: \n",
            "The secret `HF_TOKEN` does not exist in your Colab secrets.\n",
            "To authenticate with the Hugging Face Hub, create a token in your settings tab (https://huggingface.co/settings/tokens), set it as secret in your Google Colab and restart your session.\n",
            "You will be able to reuse this secret in all of your notebooks.\n",
            "Please note that authentication is recommended but still optional to access public models or datasets.\n",
            "  warnings.warn(\n"
          ]
        },
        {
          "data": {
            "application/vnd.jupyter.widget-view+json": {
              "model_id": "5b6b855464d74c6bab28a85751861727",
              "version_major": 2,
              "version_minor": 0
            },
            "text/plain": [
              "tokenizer_config.json:   0%|          | 0.00/26.0 [00:00<?, ?B/s]"
            ]
          },
          "metadata": {},
          "output_type": "display_data"
        },
        {
          "data": {
            "application/vnd.jupyter.widget-view+json": {
              "model_id": "7d93e399d2da42a4bd127ac89c1896d3",
              "version_major": 2,
              "version_minor": 0
            },
            "text/plain": [
              "config.json:   0%|          | 0.00/762 [00:00<?, ?B/s]"
            ]
          },
          "metadata": {},
          "output_type": "display_data"
        },
        {
          "data": {
            "application/vnd.jupyter.widget-view+json": {
              "model_id": "7bcd383402f34c15b17b6ac9151395f2",
              "version_major": 2,
              "version_minor": 0
            },
            "text/plain": [
              "vocab.json:   0%|          | 0.00/1.04M [00:00<?, ?B/s]"
            ]
          },
          "metadata": {},
          "output_type": "display_data"
        },
        {
          "data": {
            "application/vnd.jupyter.widget-view+json": {
              "model_id": "02aeeacb3fea441e99ad507250d871cf",
              "version_major": 2,
              "version_minor": 0
            },
            "text/plain": [
              "merges.txt:   0%|          | 0.00/456k [00:00<?, ?B/s]"
            ]
          },
          "metadata": {},
          "output_type": "display_data"
        },
        {
          "data": {
            "application/vnd.jupyter.widget-view+json": {
              "model_id": "92c5b1f590c34e6fa0f0dfa828d9253a",
              "version_major": 2,
              "version_minor": 0
            },
            "text/plain": [
              "tokenizer.json:   0%|          | 0.00/1.36M [00:00<?, ?B/s]"
            ]
          },
          "metadata": {},
          "output_type": "display_data"
        },
        {
          "data": {
            "application/vnd.jupyter.widget-view+json": {
              "model_id": "ea5d0938a55149b9acb891ef991207fd",
              "version_major": 2,
              "version_minor": 0
            },
            "text/plain": [
              "model.safetensors:   0%|          | 0.00/353M [00:00<?, ?B/s]"
            ]
          },
          "metadata": {},
          "output_type": "display_data"
        },
        {
          "data": {
            "application/vnd.jupyter.widget-view+json": {
              "model_id": "029acb2135c84ea9bb3a5e32e8784e2d",
              "version_major": 2,
              "version_minor": 0
            },
            "text/plain": [
              "generation_config.json:   0%|          | 0.00/124 [00:00<?, ?B/s]"
            ]
          },
          "metadata": {},
          "output_type": "display_data"
        }
      ],
      "source": [
        "from transformers import AutoModelForCausalLM, AutoTokenizer\n",
        "\n",
        "# Load tokenizer for DistilGPT-2\n",
        "gpt2_tokenizer = AutoTokenizer.from_pretrained('distilgpt2')\n",
        "\n",
        "# Load GPT-2 model (using DistilGPT-2 for efficiency)\n",
        "gpt2 = AutoModelForCausalLM.from_pretrained('distilgpt2')"
      ]
    },
    {
      "cell_type": "markdown",
      "metadata": {
        "id": "jk-p0r004rQI"
      },
      "source": [
        "#### Trialling the DistilGPT-2 tokeniser on sample text"
      ]
    },
    {
      "cell_type": "code",
      "execution_count": 4,
      "metadata": {
        "colab": {
          "base_uri": "https://localhost:8080/"
        },
        "id": "Z2_y-9TH55bm",
        "outputId": "5318451e-bbd5-425c-b7a0-b46e5d77f1a4"
      },
      "outputs": [
        {
          "name": "stdout",
          "output_type": "stream",
          "text": [
            "{'input_ids': tensor([[15496,    11,   703,   389,   345,    30]]), 'attention_mask': tensor([[1, 1, 1, 1, 1, 1]])}\n"
          ]
        }
      ],
      "source": [
        "inputs = gpt2_tokenizer(\"Hello, how are you?\", return_tensors=\"pt\")\n",
        "# Print tokenized input\n",
        "print(inputs)"
      ]
    },
    {
      "cell_type": "code",
      "execution_count": 5,
      "metadata": {
        "colab": {
          "base_uri": "https://localhost:8080/"
        },
        "id": "BgsmLGdx6PxY",
        "outputId": "f141c4e5-6814-4353-a06f-0facec316815"
      },
      "outputs": [
        {
          "name": "stderr",
          "output_type": "stream",
          "text": [
            "Setting `pad_token_id` to `eos_token_id`:50256 for open-end generation.\n",
            "Setting `pad_token_id` to `eos_token_id`:50256 for open-end generation.\n"
          ]
        },
        {
          "name": "stdout",
          "output_type": "stream",
          "text": [
            "1) Once upon a time I would not have thought that they were the strongest one ever built, but they were still one of the most effective ones that I had ever seen. I am not alone in seeing the greatest of them, but I can assure you\n"
          ]
        },
        {
          "name": "stderr",
          "output_type": "stream",
          "text": [
            "Setting `pad_token_id` to `eos_token_id`:50256 for open-end generation.\n"
          ]
        },
        {
          "name": "stdout",
          "output_type": "stream",
          "text": [
            "2) Once upon a time of need we would all be able to use the power of the power of the power of the force of the force of the moment.\n",
            "I must be quite sure that one day that the Force of the Force of the moment will\n",
            "3) Once upon a time of war, the government was unable to protect its citizens.\"<|endoftext|>\n"
          ]
        }
      ],
      "source": [
        "prompt = \"Once upon a time\"\n",
        "\n",
        "tokenized_prompt = gpt2_tokenizer(prompt, return_tensors=\"pt\")\n",
        "\n",
        "for i in range(3):\n",
        "    output = gpt2.generate(**tokenized_prompt,\n",
        "                  max_length=50,\n",
        "                  do_sample=True,\n",
        "                  top_p=0.9)\n",
        "\n",
        "    print(f\"{i + 1}) {gpt2_tokenizer.batch_decode(output)[0]}\")"
      ]
    },
    {
      "cell_type": "markdown",
      "metadata": {
        "id": "odCPhcnR9AOI"
      },
      "source": [
        "1.0"
      ]
    },
    {
      "cell_type": "markdown",
      "metadata": {
        "id": "DX6_fJ3r40w2"
      },
      "source": [
        "#### Loading Mental Health Dataset from Hugging Face"
      ]
    },
    {
      "cell_type": "code",
      "execution_count": 6,
      "metadata": {
        "colab": {
          "base_uri": "https://localhost:8080/",
          "height": 220,
          "referenced_widgets": [
            "beffac0b227f4c70926ae31afb3e1cb8",
            "173a08c4729c43ab955494561925372b",
            "38e91e90244f42aab36d755691a26e4b",
            "e4e4c1d49d0d4f05839f1cfb73fe73fd",
            "a9c1704e3d5e46688cfb604f419b023f",
            "dd81e19e5b384b70bb72103062b83f09",
            "c31d3ebddca44cdbaa255e4bb9722089",
            "01cae63fe6a64b46a3a3de025f2a5b32",
            "b1ad7fab33404321a5283a2299f15178",
            "77935d82aabc46aa9dce6fcaa5411226",
            "61e727f41635486f9e81e94ddcb0f502",
            "28d8ce1f4c074f75a72620d9b05f052f",
            "8794f520eded4fb3934ff57ce82d0d41",
            "179b045686d446d3b46cd4584c96233a",
            "e15272e5bd754c08baad9df5c52010de",
            "c495c2eacf1d4426825fd14cafdbae54",
            "fe8a0f52a16c4e67ab9ce2aad00d7af7",
            "a10c5f5c433640d88a2f3c238e7f7062",
            "2cba0d6c1bca48559ccca5f24d8715e6",
            "87c36b0ba4ea4f34a730fe9fc35f4136",
            "00823bd820a3472aba1a98d5acbbcaa6",
            "6203c231c4014d95b2fce3bf2dff146c",
            "b368695461cb4134b8b92f5c83338096",
            "042f65894b504aa3ab19d1105c6d7576",
            "8bd1da05d8754baf8e82f801fc094174",
            "42900fa8f77b427d9da1569c095bfc91",
            "7ade717385834b92babe4eef6715c512",
            "d6f4880693184f7d96767c57c4be20ee",
            "e318ca9b66e14e989957e89e2b629d57",
            "ab367844f02a438f8b5c5dcc97e4c493",
            "c6903c5f57d145f6b18fcb30164f6547",
            "a2640f6cbefa40ca9177bcf126c6a078",
            "de622c1c71bb4183a8e92b63b395ad7c"
          ]
        },
        "id": "rETQqGlx48X3",
        "outputId": "7a4ac966-9909-4cb6-ba93-a0095efdb801"
      },
      "outputs": [
        {
          "data": {
            "application/vnd.jupyter.widget-view+json": {
              "model_id": "beffac0b227f4c70926ae31afb3e1cb8",
              "version_major": 2,
              "version_minor": 0
            },
            "text/plain": [
              "README.md:   0%|          | 0.00/2.82k [00:00<?, ?B/s]"
            ]
          },
          "metadata": {},
          "output_type": "display_data"
        },
        {
          "data": {
            "application/vnd.jupyter.widget-view+json": {
              "model_id": "28d8ce1f4c074f75a72620d9b05f052f",
              "version_major": 2,
              "version_minor": 0
            },
            "text/plain": [
              "combined_dataset.json:   0%|          | 0.00/4.79M [00:00<?, ?B/s]"
            ]
          },
          "metadata": {},
          "output_type": "display_data"
        },
        {
          "data": {
            "application/vnd.jupyter.widget-view+json": {
              "model_id": "b368695461cb4134b8b92f5c83338096",
              "version_major": 2,
              "version_minor": 0
            },
            "text/plain": [
              "Generating train split:   0%|          | 0/3512 [00:00<?, ? examples/s]"
            ]
          },
          "metadata": {},
          "output_type": "display_data"
        },
        {
          "name": "stdout",
          "output_type": "stream",
          "text": [
            "DatasetDict({\n",
            "    train: Dataset({\n",
            "        features: ['Context', 'Response'],\n",
            "        num_rows: 3512\n",
            "    })\n",
            "})\n"
          ]
        }
      ],
      "source": [
        "from datasets import load_dataset\n",
        "\n",
        "df = load_dataset(\"Amod/mental_health_counseling_conversations\")\n",
        "print(df)"
      ]
    },
    {
      "cell_type": "markdown",
      "metadata": {
        "id": "UzV4GF2752YX"
      },
      "source": [
        "#### Preprocessing and Tokenising the dataset\n",
        "\n",
        "DistilGPT-2 is a causal language model (CLM), which means it does not automatically compute a loss during training unless labels are explicitly provided. GPT-style models require a shifted version of the input text as labels so that they can learn to predict the next token.\n",
        "- The input_ids are both the inputs and the labels (with a shift).\n",
        "- The attention_mask is used to ignore padding tokens.\n",
        "- The labels are set to input_ids but shifted left by one position."
      ]
    },
    {
      "cell_type": "code",
      "execution_count": 7,
      "metadata": {
        "colab": {
          "base_uri": "https://localhost:8080/",
          "height": 49,
          "referenced_widgets": [
            "60b4c71d526c401f994df8d1cfe5bb6d",
            "8a6edd6040c24f27bd38ad2c3d54c4dc",
            "3d5f15aecab149a68977140d63a4c12c",
            "c8510dc2d8474bae833baa8f6c71cf77",
            "78e278f57d0e47eaa20899ec306cd987",
            "82ebdea4b5aa468084f3afd6f3709309",
            "2b81cf6538134762b4936ff008457c49",
            "0e6813046a334ce98902dd753b9213c9",
            "9a80e6c5c8b64cac9a58005360f03117",
            "22a31c5123ab4531b35ff4d4071c5614",
            "a5748e7ba6304553beebabcfc6f37e16"
          ]
        },
        "id": "8hFvl4hb9JeD",
        "outputId": "f4ed4aa2-3758-4aa9-bfed-e266af8587aa"
      },
      "outputs": [
        {
          "data": {
            "application/vnd.jupyter.widget-view+json": {
              "model_id": "60b4c71d526c401f994df8d1cfe5bb6d",
              "version_major": 2,
              "version_minor": 0
            },
            "text/plain": [
              "Map:   0%|          | 0/3512 [00:00<?, ? examples/s]"
            ]
          },
          "metadata": {},
          "output_type": "display_data"
        }
      ],
      "source": [
        "# Set pad_token to eos_token because GPT-2 doesn't have a padding token\n",
        "gpt2_tokenizer.pad_token = gpt2_tokenizer.eos_token\n",
        "\n",
        "# Preprocessing function\n",
        "def preprocess_function(examples):\n",
        "    # Concatenate Context and Response into a single string\n",
        "    text_samples = [f\"Context: {ctx}\\nResponse: {resp}\" for ctx, resp in zip(examples[\"Context\"], examples[\"Response\"])]\n",
        "\n",
        "    # Tokenize the concatenated text\n",
        "    model_inputs = gpt2_tokenizer(text_samples, padding=\"max_length\", truncation=True, max_length=256)\n",
        "\n",
        "    # Set labels as a shifted version of input_ids\n",
        "    model_inputs[\"labels\"] = model_inputs[\"input_ids\"].copy()\n",
        "\n",
        "    return model_inputs\n",
        "\n",
        "# Apply preprocessing\n",
        "tokenized_datasets = df.map(preprocess_function, batched=True)"
      ]
    },
    {
      "cell_type": "code",
      "execution_count": 8,
      "metadata": {
        "colab": {
          "base_uri": "https://localhost:8080/"
        },
        "id": "ZRyUZtB5-be9",
        "outputId": "45675656-a279-4255-baa1-b80a82f2d6f2"
      },
      "outputs": [
        {
          "data": {
            "text/plain": [
              "DatasetDict({\n",
              "    train: Dataset({\n",
              "        features: ['Context', 'Response', 'input_ids', 'attention_mask', 'labels'],\n",
              "        num_rows: 3512\n",
              "    })\n",
              "})"
            ]
          },
          "execution_count": 8,
          "metadata": {},
          "output_type": "execute_result"
        }
      ],
      "source": [
        "# Remove unused columns to avoid errors\n",
        "tokenized_datasets.set_format(type=\"torch\", columns=[\"input_ids\", \"attention_mask\", \"labels\"])\n",
        "tokenized_datasets"
      ]
    },
    {
      "cell_type": "code",
      "execution_count": 9,
      "metadata": {
        "id": "Y4jqtQ1o9MsH"
      },
      "outputs": [],
      "source": [
        "from transformers import AutoModelForCausalLM, Trainer, TrainingArguments\n",
        "\n",
        "# Load the model\n",
        "model = AutoModelForCausalLM.from_pretrained(\"distilgpt2\")\n",
        "\n",
        "# Set the model's pad_token_id to eos_token_id since GPT-2 doesn't have a pad token by default\n",
        "model.config.pad_token_id = model.config.eos_token_id"
      ]
    },
    {
      "cell_type": "markdown",
      "metadata": {
        "id": "45blytsJ4_7W"
      },
      "source": [
        "### Finetuning\n",
        "The training arguments below detail a number of hyperparameters chosen for the DistilGPT-2 model to train on our mental health dataset.\n",
        "\n",
        "For fine-tuning DistilGPT-2, **the best choice of optimizer is AdamW (Adam with Weight Decay Correction - L2 regularisation).** AdamW it works well with large-scale transformer models like GPT-2 by adjusting the learning rate per parameter, helping the model converge faster. It also helps prevent overfitting by reducing the magnitude of weights over time.\n",
        "\n",
        "The **learning rate of 2e-5**, the rate at which the model updates its weights, was chosen so as to balance the convergence rate whilst avoiding catastrophic forgetting.\n",
        "\n",
        "The **batch size is set to 2** meaning 2 samples were processed at a time before updating the model's weights - this small number was chosen to avoid running into Google Colab's T4 GPU limits, and meant training was slower.\n",
        "\n",
        "The **number of epochs chosen was 3** to again avoid excessively using up memory. This number is usually enough for transformers like DistilGPT-2 to train on without under/overfitting.\n",
        "\n",
        "To avoid overfitting and reduce unnecessary training time, we used **evaluation strategy set to 'epoch'** so the model is evaluated at the end of each epoch to monitor progress. No explicit early stopping criterion was put in place as the validation loss kept decreasing at the end of each epoch as observed over a few runs of training."
      ]
    },
    {
      "cell_type": "code",
      "execution_count": 10,
      "metadata": {
        "id": "CCGl6YUR90_b"
      },
      "outputs": [],
      "source": [
        "training_args = TrainingArguments(\n",
        "    output_dir=\"/content/drive/MyDrive/ML_HW6/results\",           # output directory\n",
        "    eval_strategy=\"epoch\",      # evaluate at the end of each epoch\n",
        "    learning_rate=2e-5,               # learning rate\n",
        "    per_device_train_batch_size=2,    # batch size for training\n",
        "    per_device_eval_batch_size=2,     # batch size for evaluation\n",
        "    num_train_epochs=3,               # number of training epochs\n",
        "    weight_decay=0.01,                # weight decay\n",
        "    logging_dir=\"/content/drive/MyDrive/ML_HW6/logs\",             # directory for logs\n",
        "    logging_steps=10,                 # log every 10 steps\n",
        "    save_steps=100,                   # save the model every 100 steps\n",
        "    warmup_steps=500,                 # warmup steps\n",
        "    fp16=True                         # mixed precision for faster training\n",
        ")"
      ]
    },
    {
      "cell_type": "code",
      "execution_count": 12,
      "metadata": {
        "id": "Si-8cCRc-doq"
      },
      "outputs": [],
      "source": [
        "trainer = Trainer(\n",
        "    model=model,                             # the model to train\n",
        "    args=training_args,                      # training arguments\n",
        "    train_dataset=tokenized_datasets[\"train\"],  # training dataset\n",
        "    eval_dataset=tokenized_datasets[\"train\"],   # evaluation dataset (can use a validation split if you have one)\n",
        ")"
      ]
    },
    {
      "cell_type": "code",
      "execution_count": 13,
      "metadata": {
        "colab": {
          "base_uri": "https://localhost:8080/",
          "height": 526
        },
        "id": "GyQsLOJh-gY5",
        "outputId": "b06dbc8d-7905-4eed-dac7-d4367268cc1f"
      },
      "outputs": [
        {
          "name": "stderr",
          "output_type": "stream",
          "text": [
            "\u001b[34m\u001b[1mwandb\u001b[0m: \u001b[33mWARNING\u001b[0m The `run_name` is currently set to the same value as `TrainingArguments.output_dir`. If this was not intended, please specify a different run name by setting the `TrainingArguments.run_name` parameter.\n",
            "\u001b[34m\u001b[1mwandb\u001b[0m: Using wandb-core as the SDK backend.  Please refer to https://wandb.me/wandb-core for more information.\n"
          ]
        },
        {
          "data": {
            "application/javascript": "\n        window._wandbApiKey = new Promise((resolve, reject) => {\n            function loadScript(url) {\n            return new Promise(function(resolve, reject) {\n                let newScript = document.createElement(\"script\");\n                newScript.onerror = reject;\n                newScript.onload = resolve;\n                document.body.appendChild(newScript);\n                newScript.src = url;\n            });\n            }\n            loadScript(\"https://cdn.jsdelivr.net/npm/postmate/build/postmate.min.js\").then(() => {\n            const iframe = document.createElement('iframe')\n            iframe.style.cssText = \"width:0;height:0;border:none\"\n            document.body.appendChild(iframe)\n            const handshake = new Postmate({\n                container: iframe,\n                url: 'https://wandb.ai/authorize'\n            });\n            const timeout = setTimeout(() => reject(\"Couldn't auto authenticate\"), 5000)\n            handshake.then(function(child) {\n                child.on('authorize', data => {\n                    clearTimeout(timeout)\n                    resolve(data)\n                });\n            });\n            })\n        });\n    ",
            "text/plain": [
              "<IPython.core.display.Javascript object>"
            ]
          },
          "metadata": {},
          "output_type": "display_data"
        },
        {
          "name": "stderr",
          "output_type": "stream",
          "text": [
            "\u001b[34m\u001b[1mwandb\u001b[0m: Logging into wandb.ai. (Learn how to deploy a W&B server locally: https://wandb.me/wandb-server)\n",
            "\u001b[34m\u001b[1mwandb\u001b[0m: You can find your API key in your browser here: https://wandb.ai/authorize\n",
            "wandb: Paste an API key from your profile and hit enter:"
          ]
        },
        {
          "name": "stdout",
          "output_type": "stream",
          "text": [
            " ··········\n"
          ]
        },
        {
          "name": "stderr",
          "output_type": "stream",
          "text": [
            "\u001b[34m\u001b[1mwandb\u001b[0m: \u001b[33mWARNING\u001b[0m If you're specifying your api key in code, ensure this code is not shared publicly.\n",
            "\u001b[34m\u001b[1mwandb\u001b[0m: \u001b[33mWARNING\u001b[0m Consider setting the WANDB_API_KEY environment variable, or running `wandb login` from the command line.\n",
            "\u001b[34m\u001b[1mwandb\u001b[0m: No netrc file found, creating one.\n",
            "\u001b[34m\u001b[1mwandb\u001b[0m: Appending key for api.wandb.ai to your netrc file: /root/.netrc\n",
            "\u001b[34m\u001b[1mwandb\u001b[0m: Currently logged in as: \u001b[33msakshirhea-mb\u001b[0m (\u001b[33msakshirhea-mb-uc-davis\u001b[0m) to \u001b[32mhttps://api.wandb.ai\u001b[0m. Use \u001b[1m`wandb login --relogin`\u001b[0m to force relogin\n"
          ]
        },
        {
          "data": {
            "text/html": [
              "Tracking run with wandb version 0.19.7"
            ],
            "text/plain": [
              "<IPython.core.display.HTML object>"
            ]
          },
          "metadata": {},
          "output_type": "display_data"
        },
        {
          "data": {
            "text/html": [
              "Run data is saved locally in <code>/content/wandb/run-20250305_034523-4imhm7o0</code>"
            ],
            "text/plain": [
              "<IPython.core.display.HTML object>"
            ]
          },
          "metadata": {},
          "output_type": "display_data"
        },
        {
          "data": {
            "text/html": [
              "Syncing run <strong><a href='https://wandb.ai/sakshirhea-mb-uc-davis/huggingface/runs/4imhm7o0' target=\"_blank\">/content/drive/MyDrive/ML_HW6/results</a></strong> to <a href='https://wandb.ai/sakshirhea-mb-uc-davis/huggingface' target=\"_blank\">Weights & Biases</a> (<a href='https://wandb.me/developer-guide' target=\"_blank\">docs</a>)<br>"
            ],
            "text/plain": [
              "<IPython.core.display.HTML object>"
            ]
          },
          "metadata": {},
          "output_type": "display_data"
        },
        {
          "data": {
            "text/html": [
              " View project at <a href='https://wandb.ai/sakshirhea-mb-uc-davis/huggingface' target=\"_blank\">https://wandb.ai/sakshirhea-mb-uc-davis/huggingface</a>"
            ],
            "text/plain": [
              "<IPython.core.display.HTML object>"
            ]
          },
          "metadata": {},
          "output_type": "display_data"
        },
        {
          "data": {
            "text/html": [
              " View run at <a href='https://wandb.ai/sakshirhea-mb-uc-davis/huggingface/runs/4imhm7o0' target=\"_blank\">https://wandb.ai/sakshirhea-mb-uc-davis/huggingface/runs/4imhm7o0</a>"
            ],
            "text/plain": [
              "<IPython.core.display.HTML object>"
            ]
          },
          "metadata": {},
          "output_type": "display_data"
        },
        {
          "name": "stderr",
          "output_type": "stream",
          "text": [
            "`loss_type=None` was set in the config but it is unrecognised.Using the default loss: `ForCausalLMLoss`.\n"
          ]
        },
        {
          "data": {
            "text/html": [
              "\n",
              "    <div>\n",
              "      \n",
              "      <progress value='5268' max='5268' style='width:300px; height:20px; vertical-align: middle;'></progress>\n",
              "      [5268/5268 36:51, Epoch 3/3]\n",
              "    </div>\n",
              "    <table border=\"1\" class=\"dataframe\">\n",
              "  <thead>\n",
              " <tr style=\"text-align: left;\">\n",
              "      <th>Epoch</th>\n",
              "      <th>Training Loss</th>\n",
              "      <th>Validation Loss</th>\n",
              "    </tr>\n",
              "  </thead>\n",
              "  <tbody>\n",
              "    <tr>\n",
              "      <td>1</td>\n",
              "      <td>2.571100</td>\n",
              "      <td>2.377637</td>\n",
              "    </tr>\n",
              "    <tr>\n",
              "      <td>2</td>\n",
              "      <td>2.487100</td>\n",
              "      <td>2.258256</td>\n",
              "    </tr>\n",
              "    <tr>\n",
              "      <td>3</td>\n",
              "      <td>2.430200</td>\n",
              "      <td>2.221399</td>\n",
              "    </tr>\n",
              "  </tbody>\n",
              "</table><p>"
            ],
            "text/plain": [
              "<IPython.core.display.HTML object>"
            ]
          },
          "metadata": {},
          "output_type": "display_data"
        },
        {
          "data": {
            "text/plain": [
              "TrainOutput(global_step=5268, training_loss=2.500039343953404, metrics={'train_runtime': 2240.6513, 'train_samples_per_second': 4.702, 'train_steps_per_second': 2.351, 'total_flos': 688255641059328.0, 'train_loss': 2.500039343953404, 'epoch': 3.0})"
            ]
          },
          "execution_count": 13,
          "metadata": {},
          "output_type": "execute_result"
        }
      ],
      "source": [
        "trainer.train()"
      ]
    },
    {
      "cell_type": "code",
      "execution_count": 14,
      "metadata": {
        "colab": {
          "base_uri": "https://localhost:8080/"
        },
        "id": "xueA89xaDJtM",
        "outputId": "94177949-b725-45fc-e2dc-95a234ebed5e"
      },
      "outputs": [
        {
          "data": {
            "text/plain": [
              "('/content/drive/MyDrive/ML_HW6/fine_tuned_distilgpt2_v2/tokenizer_config.json',\n",
              " '/content/drive/MyDrive/ML_HW6/fine_tuned_distilgpt2_v2/special_tokens_map.json',\n",
              " '/content/drive/MyDrive/ML_HW6/fine_tuned_distilgpt2_v2/vocab.json',\n",
              " '/content/drive/MyDrive/ML_HW6/fine_tuned_distilgpt2_v2/merges.txt',\n",
              " '/content/drive/MyDrive/ML_HW6/fine_tuned_distilgpt2_v2/added_tokens.json',\n",
              " '/content/drive/MyDrive/ML_HW6/fine_tuned_distilgpt2_v2/tokenizer.json')"
            ]
          },
          "execution_count": 14,
          "metadata": {},
          "output_type": "execute_result"
        }
      ],
      "source": [
        "model.save_pretrained(\"/content/drive/MyDrive/ML_HW6/fine_tuned_distilgpt2_v2\")\n",
        "gpt2_tokenizer.save_pretrained(\"/content/drive/MyDrive/ML_HW6/fine_tuned_distilgpt2_v2\")"
      ]
    },
    {
      "cell_type": "markdown",
      "metadata": {
        "id": "Omc1T7pfstcb"
      },
      "source": [
        "#### Loss function\n",
        "Hugging Face’s Trainer and GPT-2 models automatically use **Cross-Entropy Loss** for language modeling. The model internally applies Cross-Entropy Loss when labels are provided (labels were added in the Preprocessing section above). Cross Entropy Loss is a good choice for language modelling and response generation because it effectively measures how well a model's predicted probability distribution of words aligns with the actual distribution observed in the training data. The logarithmic nature of cross-entropy heavily penalizes situations where the model is very confident in an incorrect prediction, pushing it to refine its probability distribution towards the correct word. It works well for causal language models like DistilGPT-2 (where each token is predicted based on previous tokens).\n"
      ]
    },
    {
      "cell_type": "markdown",
      "metadata": {
        "id": "2WDno7zbE_dd"
      },
      "source": [
        "### Evaluation\n",
        "Since a chatbot generates open-ended responses, traditional classification metrics like accuracy do not apply. Instead, there are sequence generation metrics:\n",
        "1. Perplexity Scores\n",
        "2. BLEU Score\n",
        "3. ROUGE Score\n",
        "4. User Satisfaction Score"
      ]
    },
    {
      "cell_type": "markdown",
      "metadata": {
        "id": "UXUnciLa1Xhr"
      },
      "source": [
        "#### Perplexity Score\n",
        "This measures how surprised the model is when predicting the next word, and is e raised to the Cross Entropy Loss. Lower PPL (~< 20) means model generates fluent responses, and any PPL > 100 means the model struggles with response coherence. This model's PPL Score is 9.2202"
      ]
    },
    {
      "cell_type": "code",
      "execution_count": 15,
      "metadata": {
        "colab": {
          "base_uri": "https://localhost:8080/",
          "height": 55
        },
        "id": "QMsYtJiNFKa-",
        "outputId": "7e30a460-63b1-4149-fcbe-679883dfea09"
      },
      "outputs": [
        {
          "data": {
            "text/html": [
              "\n",
              "    <div>\n",
              "      \n",
              "      <progress value='1756' max='1756' style='width:300px; height:20px; vertical-align: middle;'></progress>\n",
              "      [1756/1756 00:32]\n",
              "    </div>\n",
              "    "
            ],
            "text/plain": [
              "<IPython.core.display.HTML object>"
            ]
          },
          "metadata": {},
          "output_type": "display_data"
        },
        {
          "name": "stdout",
          "output_type": "stream",
          "text": [
            "Perplexity: 9.220223769187804\n"
          ]
        }
      ],
      "source": [
        "import math\n",
        "\n",
        "# Evaluate model on test set and compute perplexity\n",
        "eval_results = trainer.evaluate()\n",
        "loss = eval_results[\"eval_loss\"]\n",
        "\n",
        "# Convert loss to perplexity\n",
        "perplexity = math.exp(loss)\n",
        "print(f\"Perplexity: {perplexity}\")"
      ]
    },
    {
      "cell_type": "markdown",
      "metadata": {
        "id": "03C3g6L219dA"
      },
      "source": [
        "#### BLEU Score  (Bilingual Evaluation Understudy)\n",
        "This measures n-gram overlap between the generated response and the ground-truth response. It again helps evaluate fluency and word-level accuracy. The higher the BLEU score, the better the fluency - however, its limitations are that it focuses on exact word overlap, which may not always capture meaningful responses. This finetuned DistilGPT-2 model gives a score of 0.002563 after smoothing (see below)."
      ]
    },
    {
      "cell_type": "code",
      "execution_count": 17,
      "metadata": {
        "colab": {
          "base_uri": "https://localhost:8080/"
        },
        "id": "Q702s5V9-o8e",
        "outputId": "af6645a5-c0a7-4d10-ff98-66c6fb895602"
      },
      "outputs": [
        {
          "name": "stdout",
          "output_type": "stream",
          "text": [
            "Chatbot Response: Context: I'm feeling very anxious about my upcoming exam.\n",
            "Response: It sounds like you are anxiously watching tv and i am worried that your anxiety will cause me to lose some sleep or something else, so it may be helpful for you in this situation as well.  Since most people don't have the same level of awareness about what they're hearing on TV and talking with their doctor, if there's anything going through those thoughts, then maybe not.   I suggest thinking about looking at a video/anisexist website where someone can provide information such how much time is required before receiving an examination.  If you feel nervous during a screening, think of being asked about whether you want more questions than answers.   If your client has no idea who he should ask, see his therapist immediately!\n"
          ]
        }
      ],
      "source": [
        "# Move model to GPU\n",
        "device = torch.device(\"cuda\")\n",
        "model.to(device)\n",
        "\n",
        "def generate_response(context):\n",
        "    # Format the input to include the context\n",
        "    input_text = f\"Context: {context}\\nResponse:\"\n",
        "\n",
        "    # Tokenize input\n",
        "    inputs = gpt2_tokenizer(input_text, return_tensors=\"pt\", truncation=True, max_length=256)\n",
        "    inputs = {key: val.to(device) for key, val in inputs.items()}\n",
        "\n",
        "    # Generate with controlled parameters\n",
        "    output_ids = model.generate(\n",
        "        **inputs,\n",
        "        max_length=1000,\n",
        "        min_length=20,\n",
        "        do_sample=True,\n",
        "        top_p=0.92,\n",
        "        top_k=50,\n",
        "        temperature=0.7,\n",
        "        repetition_penalty=1.2,\n",
        "        pad_token_id=gpt2_tokenizer.eos_token_id\n",
        "    )\n",
        "\n",
        "    # Decode response\n",
        "    response = gpt2_tokenizer.decode(output_ids[0], skip_special_tokens=True)\n",
        "    return response\n",
        "\n",
        "# Testing\n",
        "test_context = \"I'm feeling very anxious about my upcoming exam.\"\n",
        "response = generate_response(test_context)\n",
        "print(\"Chatbot Response:\", response)"
      ]
    },
    {
      "cell_type": "code",
      "execution_count": 18,
      "metadata": {
        "colab": {
          "base_uri": "https://localhost:8080/"
        },
        "id": "ZNJwM6AhKRM1",
        "outputId": "7e4ed2b0-5dfa-460f-b5eb-c36e8b8a0c42"
      },
      "outputs": [
        {
          "name": "stdout",
          "output_type": "stream",
          "text": [
            "BLEU Score: 6.072773298151499e-232\n"
          ]
        },
        {
          "name": "stderr",
          "output_type": "stream",
          "text": [
            "/usr/local/lib/python3.11/dist-packages/nltk/translate/bleu_score.py:577: UserWarning: \n",
            "The hypothesis contains 0 counts of 2-gram overlaps.\n",
            "Therefore the BLEU score evaluates to 0, independently of\n",
            "how many N-gram overlaps of lower order it contains.\n",
            "Consider using lower n-gram order or use SmoothingFunction()\n",
            "  warnings.warn(_msg)\n",
            "/usr/local/lib/python3.11/dist-packages/nltk/translate/bleu_score.py:577: UserWarning: \n",
            "The hypothesis contains 0 counts of 3-gram overlaps.\n",
            "Therefore the BLEU score evaluates to 0, independently of\n",
            "how many N-gram overlaps of lower order it contains.\n",
            "Consider using lower n-gram order or use SmoothingFunction()\n",
            "  warnings.warn(_msg)\n",
            "/usr/local/lib/python3.11/dist-packages/nltk/translate/bleu_score.py:577: UserWarning: \n",
            "The hypothesis contains 0 counts of 4-gram overlaps.\n",
            "Therefore the BLEU score evaluates to 0, independently of\n",
            "how many N-gram overlaps of lower order it contains.\n",
            "Consider using lower n-gram order or use SmoothingFunction()\n",
            "  warnings.warn(_msg)\n"
          ]
        }
      ],
      "source": [
        "from nltk.translate.bleu_score import sentence_bleu\n",
        "\n",
        "# Function to compute BLEU Score\n",
        "def compute_bleu(reference, candidate):\n",
        "    return sentence_bleu([reference.split()], candidate.split())\n",
        "\n",
        "# Example usage\n",
        "reference_text = \"I understand your anxiety. Have you tried any relaxation techniques?\"\n",
        "generated_text = generate_response(\"I'm feeling very anxious about my upcoming exam.\")\n",
        "\n",
        "bleu_score = compute_bleu(reference_text, generated_text)\n",
        "print(f\"BLEU Score: {bleu_score}\")"
      ]
    },
    {
      "cell_type": "markdown",
      "metadata": {
        "id": "qo3I1vDTLMmw"
      },
      "source": [
        "The BLEU score is really low here, due to the fact that BLEU measures exact n-gram matches (e.g., “I am happy” vs. “I am glad” → 0 BLEU). If the chatbot rephrases a response differently than the human reference, the BLEU score will be very low, even if the response is good. BLEU heavily depends on exact matches, making it unsuitable for open-ended chatbot tasks. There was a need for smoothing to overcome heavy penalisation of zero overlap, especially for short chatbot responses that don’t contain multiple n-grams.\n",
        "\n",
        "Smoothing ensures that even if 3-grams and 4-grams have zero overlap, the BLEU score does not drop to zero."
      ]
    },
    {
      "cell_type": "code",
      "execution_count": 19,
      "metadata": {
        "colab": {
          "base_uri": "https://localhost:8080/"
        },
        "id": "mLA2R1WQK7IM",
        "outputId": "0d91cc74-a055-4554-f9a3-e2b53a538cd9"
      },
      "outputs": [
        {
          "name": "stdout",
          "output_type": "stream",
          "text": [
            "BLEU Score: 0.002563559704586724\n"
          ]
        }
      ],
      "source": [
        "from nltk.translate.bleu_score import sentence_bleu, SmoothingFunction\n",
        "\n",
        "# Apply smoothing to avoid zero scores\n",
        "smooth = SmoothingFunction().method1  # Different smoothing methods available\n",
        "\n",
        "# Example Reference and Generated Text\n",
        "reference_text = \"I understand your anxiety. Have you tried any relaxation techniques?\"\n",
        "generated_text = generate_response(\"I'm feeling very anxious about my upcoming exam.\")\n",
        "\n",
        "# Compute BLEU with smoothing\n",
        "bleu_score = sentence_bleu([reference_text.split()], generated_text.split(), smoothing_function=smooth)\n",
        "print(f\"BLEU Score: {bleu_score}\")"
      ]
    },
    {
      "cell_type": "markdown",
      "metadata": {
        "id": "VqJ6AYKA4JvJ"
      },
      "source": [
        "#### ROUGE Score (Recall-Oriented Understudy for Gisting Evaluation)\n",
        "This evaluates semantic similarit based on recall which is useful when responses vary. This may seem to prove more insightful than BLEU scoring as it works well when responses don't match exactly, providing a more realistic similarity score.\n",
        "\n",
        "Higher ROUGE (~0.6–0.9) means Chatbot response is semantically close to expected output. Lower ROUGE (< 0.4) means Chatbot generates off-topic responses."
      ]
    },
    {
      "cell_type": "code",
      "execution_count": 21,
      "metadata": {
        "colab": {
          "base_uri": "https://localhost:8080/"
        },
        "id": "xK84V4YhMCwQ",
        "outputId": "a86f7b0a-55d1-4f42-bcfe-1edf23847604"
      },
      "outputs": [
        {
          "name": "stdout",
          "output_type": "stream",
          "text": [
            "Collecting evaluate\n",
            "  Downloading evaluate-0.4.3-py3-none-any.whl.metadata (9.2 kB)\n",
            "Collecting rouge_score\n",
            "  Downloading rouge_score-0.1.2.tar.gz (17 kB)\n",
            "  Preparing metadata (setup.py) ... \u001b[?25l\u001b[?25hdone\n",
            "Requirement already satisfied: datasets>=2.0.0 in /usr/local/lib/python3.11/dist-packages (from evaluate) (3.3.2)\n",
            "Requirement already satisfied: numpy>=1.17 in /usr/local/lib/python3.11/dist-packages (from evaluate) (1.26.4)\n",
            "Requirement already satisfied: dill in /usr/local/lib/python3.11/dist-packages (from evaluate) (0.3.8)\n",
            "Requirement already satisfied: pandas in /usr/local/lib/python3.11/dist-packages (from evaluate) (2.2.2)\n",
            "Requirement already satisfied: requests>=2.19.0 in /usr/local/lib/python3.11/dist-packages (from evaluate) (2.32.3)\n",
            "Requirement already satisfied: tqdm>=4.62.1 in /usr/local/lib/python3.11/dist-packages (from evaluate) (4.67.1)\n",
            "Requirement already satisfied: xxhash in /usr/local/lib/python3.11/dist-packages (from evaluate) (3.5.0)\n",
            "Requirement already satisfied: multiprocess in /usr/local/lib/python3.11/dist-packages (from evaluate) (0.70.16)\n",
            "Requirement already satisfied: fsspec>=2021.05.0 in /usr/local/lib/python3.11/dist-packages (from fsspec[http]>=2021.05.0->evaluate) (2024.10.0)\n",
            "Requirement already satisfied: huggingface-hub>=0.7.0 in /usr/local/lib/python3.11/dist-packages (from evaluate) (0.28.1)\n",
            "Requirement already satisfied: packaging in /usr/local/lib/python3.11/dist-packages (from evaluate) (24.2)\n",
            "Requirement already satisfied: absl-py in /usr/local/lib/python3.11/dist-packages (from rouge_score) (1.4.0)\n",
            "Requirement already satisfied: nltk in /usr/local/lib/python3.11/dist-packages (from rouge_score) (3.9.1)\n",
            "Requirement already satisfied: six>=1.14.0 in /usr/local/lib/python3.11/dist-packages (from rouge_score) (1.17.0)\n",
            "Requirement already satisfied: filelock in /usr/local/lib/python3.11/dist-packages (from datasets>=2.0.0->evaluate) (3.17.0)\n",
            "Requirement already satisfied: pyarrow>=15.0.0 in /usr/local/lib/python3.11/dist-packages (from datasets>=2.0.0->evaluate) (18.1.0)\n",
            "Requirement already satisfied: aiohttp in /usr/local/lib/python3.11/dist-packages (from datasets>=2.0.0->evaluate) (3.11.13)\n",
            "Requirement already satisfied: pyyaml>=5.1 in /usr/local/lib/python3.11/dist-packages (from datasets>=2.0.0->evaluate) (6.0.2)\n",
            "Requirement already satisfied: typing-extensions>=3.7.4.3 in /usr/local/lib/python3.11/dist-packages (from huggingface-hub>=0.7.0->evaluate) (4.12.2)\n",
            "Requirement already satisfied: charset-normalizer<4,>=2 in /usr/local/lib/python3.11/dist-packages (from requests>=2.19.0->evaluate) (3.4.1)\n",
            "Requirement already satisfied: idna<4,>=2.5 in /usr/local/lib/python3.11/dist-packages (from requests>=2.19.0->evaluate) (3.10)\n",
            "Requirement already satisfied: urllib3<3,>=1.21.1 in /usr/local/lib/python3.11/dist-packages (from requests>=2.19.0->evaluate) (2.3.0)\n",
            "Requirement already satisfied: certifi>=2017.4.17 in /usr/local/lib/python3.11/dist-packages (from requests>=2.19.0->evaluate) (2025.1.31)\n",
            "Requirement already satisfied: click in /usr/local/lib/python3.11/dist-packages (from nltk->rouge_score) (8.1.8)\n",
            "Requirement already satisfied: joblib in /usr/local/lib/python3.11/dist-packages (from nltk->rouge_score) (1.4.2)\n",
            "Requirement already satisfied: regex>=2021.8.3 in /usr/local/lib/python3.11/dist-packages (from nltk->rouge_score) (2024.11.6)\n",
            "Requirement already satisfied: python-dateutil>=2.8.2 in /usr/local/lib/python3.11/dist-packages (from pandas->evaluate) (2.8.2)\n",
            "Requirement already satisfied: pytz>=2020.1 in /usr/local/lib/python3.11/dist-packages (from pandas->evaluate) (2025.1)\n",
            "Requirement already satisfied: tzdata>=2022.7 in /usr/local/lib/python3.11/dist-packages (from pandas->evaluate) (2025.1)\n",
            "Requirement already satisfied: aiohappyeyeballs>=2.3.0 in /usr/local/lib/python3.11/dist-packages (from aiohttp->datasets>=2.0.0->evaluate) (2.4.6)\n",
            "Requirement already satisfied: aiosignal>=1.1.2 in /usr/local/lib/python3.11/dist-packages (from aiohttp->datasets>=2.0.0->evaluate) (1.3.2)\n",
            "Requirement already satisfied: attrs>=17.3.0 in /usr/local/lib/python3.11/dist-packages (from aiohttp->datasets>=2.0.0->evaluate) (25.1.0)\n",
            "Requirement already satisfied: frozenlist>=1.1.1 in /usr/local/lib/python3.11/dist-packages (from aiohttp->datasets>=2.0.0->evaluate) (1.5.0)\n",
            "Requirement already satisfied: multidict<7.0,>=4.5 in /usr/local/lib/python3.11/dist-packages (from aiohttp->datasets>=2.0.0->evaluate) (6.1.0)\n",
            "Requirement already satisfied: propcache>=0.2.0 in /usr/local/lib/python3.11/dist-packages (from aiohttp->datasets>=2.0.0->evaluate) (0.3.0)\n",
            "Requirement already satisfied: yarl<2.0,>=1.17.0 in /usr/local/lib/python3.11/dist-packages (from aiohttp->datasets>=2.0.0->evaluate) (1.18.3)\n",
            "Downloading evaluate-0.4.3-py3-none-any.whl (84 kB)\n",
            "\u001b[2K   \u001b[90m━━━━━━━━━━━━━━━━━━━━━━━━━━━━━━━━━━━━━━━━\u001b[0m \u001b[32m84.0/84.0 kB\u001b[0m \u001b[31m4.1 MB/s\u001b[0m eta \u001b[36m0:00:00\u001b[0m\n",
            "\u001b[?25hBuilding wheels for collected packages: rouge_score\n",
            "  Building wheel for rouge_score (setup.py) ... \u001b[?25l\u001b[?25hdone\n",
            "  Created wheel for rouge_score: filename=rouge_score-0.1.2-py3-none-any.whl size=24935 sha256=a737d3f7bbb93b2a17bac3272c6d846126958ab00fab73420d3abee85c75f590\n",
            "  Stored in directory: /root/.cache/pip/wheels/1e/19/43/8a442dc83660ca25e163e1bd1f89919284ab0d0c1475475148\n",
            "Successfully built rouge_score\n",
            "Installing collected packages: rouge_score, evaluate\n",
            "Successfully installed evaluate-0.4.3 rouge_score-0.1.2\n"
          ]
        }
      ],
      "source": [
        "!pip install evaluate rouge_score"
      ]
    },
    {
      "cell_type": "code",
      "execution_count": 22,
      "metadata": {
        "colab": {
          "base_uri": "https://localhost:8080/",
          "height": 87,
          "referenced_widgets": [
            "ff3ff07a726347eaa360a243ba4fe866",
            "b7a7b2bb840d4a16b7ec8fc9fac7615f",
            "ec2b0a4ca88e43a49b75afae636624f0",
            "f639dfbf190b472083db3774f56932fa",
            "d7ed5a892c784924b0df639ede1d23f2",
            "9ad3d8718cf1410ea3057cc8794843a9",
            "eb400f7734d14f9ba48aad4838f042cb",
            "2c54e5355c034d999f56d361ea5291c7",
            "218c902074b74b628a99284bb56f8d76",
            "bf0f6bc04cde462494f5c458c2ad46d4",
            "3c20c9e8bacf42dfbee5cb65c834db51"
          ]
        },
        "id": "qtaFF2NjLytH",
        "outputId": "0f5951b5-d873-4b24-89c3-46365fb9efa3"
      },
      "outputs": [
        {
          "data": {
            "application/vnd.jupyter.widget-view+json": {
              "model_id": "ff3ff07a726347eaa360a243ba4fe866",
              "version_major": 2,
              "version_minor": 0
            },
            "text/plain": [
              "Downloading builder script:   0%|          | 0.00/6.27k [00:00<?, ?B/s]"
            ]
          },
          "metadata": {},
          "output_type": "display_data"
        },
        {
          "name": "stdout",
          "output_type": "stream",
          "text": [
            "ROUGE Score: {'rouge1': 0.380952380952381, 'rouge2': 0.10526315789473685, 'rougeL': 0.380952380952381, 'rougeLsum': 0.380952380952381}\n"
          ]
        }
      ],
      "source": [
        "import evaluate, rouge_score\n",
        "\n",
        "# Load ROUGE metric\n",
        "rouge = evaluate.load(\"rouge\")\n",
        "\n",
        "# Example Reference and Generated Text\n",
        "reference_text = \"I understand your anxiety. Have you tried any relaxation techniques?\"\n",
        "generated_text = \"I get that anxiety is tough. Have you considered deep breathing?\"\n",
        "\n",
        "# Compute ROUGE Score\n",
        "rouge_score = rouge.compute(predictions=[generated_text], references=[reference_text])\n",
        "print(\"ROUGE Score:\", rouge_score)"
      ]
    },
    {
      "cell_type": "markdown",
      "metadata": {
        "id": "C-PrsjafMcFD"
      },
      "source": [
        "- ROUGE-1 (38%): (Unigram overlap) The chatbot captures around 38% of individual words correctly from the expected response.\n",
        "- ROUGE-2 (11%): (Bigram overlap) Lower value suggests fewer word pairs (bigrams) are preserved, meaning the chatbot paraphrases responses instead of copying word-for-word.\n",
        "- ROUGE-L (38%): Captures phrase-level similarity. The chatbot preserves longer phrases and sentence structure fairly well but still paraphrases the response."
      ]
    },
    {
      "cell_type": "markdown",
      "metadata": {
        "id": "urcA5yFn5uBJ"
      },
      "source": [
        "#### User Satisfaction Score\n",
        "This evaluation metric asks users to rate responses on a scale of 1-5 based on:\n",
        "- Relevance\n",
        "- Fluency\n",
        "- Helpfulness\n",
        "\n",
        "Although this seems like the most intuitive method to measure actual usability in the real world, this requires more time and resources, hence was not considered for this task at this time."
      ]
    },
    {
      "cell_type": "code",
      "execution_count": 2,
      "metadata": {
        "colab": {
          "base_uri": "https://localhost:8080/"
        },
        "id": "jP6s7CUhMFPT",
        "outputId": "1c679e7d-fcc2-472b-a2fe-c19ebff42436"
      },
      "outputs": [
        {
          "name": "stdout",
          "output_type": "stream",
          "text": [
            "Mounted at /content/drive\n"
          ]
        }
      ],
      "source": [
        "from google.colab import drive\n",
        "drive.mount('/content/drive')"
      ]
    },
    {
      "cell_type": "markdown",
      "metadata": {
        "id": "VtsYO8nD6Xna"
      },
      "source": [
        "### Multi-Turn Dialogue Handling"
      ]
    },
    {
      "cell_type": "markdown",
      "metadata": {
        "id": "LVQ79Q2nOb9Y"
      },
      "source": [
        "#### attempt 1"
      ]
    },
    {
      "cell_type": "code",
      "execution_count": 23,
      "metadata": {
        "colab": {
          "base_uri": "https://localhost:8080/"
        },
        "id": "laOLO2PLL0BA",
        "outputId": "520847bd-b1d4-4ae2-86c3-daa95bfc71a6"
      },
      "outputs": [
        {
          "name": "stderr",
          "output_type": "stream",
          "text": [
            "[nltk_data] Downloading package punkt to /root/nltk_data...\n",
            "[nltk_data]   Unzipping tokenizers/punkt.zip.\n",
            "[nltk_data] Downloading package stopwords to /root/nltk_data...\n",
            "[nltk_data]   Unzipping corpora/stopwords.zip.\n"
          ]
        },
        {
          "name": "stdout",
          "output_type": "stream",
          "text": [
            "Using device: cuda\n"
          ]
        }
      ],
      "source": [
        "# First, ensure you have all required imports\n",
        "import torch\n",
        "import nltk\n",
        "from nltk.tokenize import word_tokenize\n",
        "from nltk.corpus import stopwords\n",
        "from sklearn.feature_extraction.text import TfidfVectorizer\n",
        "from sklearn.metrics.pairwise import cosine_similarity\n",
        "\n",
        "# Download NLTK resources\n",
        "nltk.download('punkt')\n",
        "nltk.download('stopwords')\n",
        "\n",
        "# Check if GPU is available\n",
        "device = torch.device(\"cuda\" if torch.cuda.is_available() else \"cpu\")\n",
        "print(f\"Using device: {device}\")\n",
        "\n",
        "# Load the previously fine-tuned model (assuming you've already trained it)\n",
        "from transformers import AutoModelForCausalLM, AutoTokenizer\n",
        "\n",
        "# Path to your fine-tuned model\n",
        "model_path = \"/content/drive/MyDrive/ML_HW6/fine_tuned_distilgpt2\"\n",
        "\n",
        "# Load tokenizer and model\n",
        "gpt2_tokenizer = AutoTokenizer.from_pretrained(model_path)\n",
        "model = AutoModelForCausalLM.from_pretrained(model_path)\n",
        "model.to(device)  # Move model to appropriate device\n",
        "\n",
        "# Set pad token\n",
        "gpt2_tokenizer.pad_token = gpt2_tokenizer.eos_token"
      ]
    },
    {
      "cell_type": "code",
      "execution_count": 24,
      "metadata": {
        "colab": {
          "base_uri": "https://localhost:8080/"
        },
        "id": "fLf_PQgOOtLZ",
        "outputId": "542fed9e-65a8-437a-b799-d8943960f828"
      },
      "outputs": [
        {
          "name": "stdout",
          "output_type": "stream",
          "text": [
            "Mental Health Counseling Chatbot (type 'exit' to end)\n",
            "--------------------------------------------------\n",
            "You: I'm feeling down. Can you help me?\n",
            "Chatbot: The best way to feel down is by accepting and allowing yourself the opportunity for exploration, self-care (as opposed of seeking out someone else) when you are not emotionally drained. This is a very good question for anyone who has had trouble dealing with depression. You may want some time off from school or have more time to rest. If you don't like being alone or do enjoy having family activities in your life there might be a few things that can help.   First we need our support. If it's not enough then you should talk about what you love about yourself right away! I would suggest taking care as often necessary. For example if you start the day off at 10pm looking for food, lunch etc..you could also ask questions such Asperger's is an excellent resource for those struggling so maybe this will give you some context on what you're craving. Then one person could look at how much they really value each other compared w their daily lives/work/life and find something that feels natural to them.\n",
            "You: That makes sense. But how can I feel happy now?\n",
            "Chatbot: Hi Houston - Your question sounds reasonable. Being sad isn’t necessarily sadness but rather sadness itself...and yes even the feelings that go along come through trauma. People often feel that they haven¿t been able to get past anything until they have had the experience before....even though they have experienced trauma and know they have been treated well. It is helpful however because you are not alone. Have you tried counseling online which offers free sessions where you can work with a counselor while you sit down with them? Perhaps working with a therapist whom you trust doesnímt have too many issues to address here? There may still exist areas of interest in counseling although most definitely the ones that you both identified might be available within the area you'd like further. Also perhaps talking directly with a local mental health professional without getting into any of these topics is a great idea. You may also consider contacting your physician first :)\n",
            "You: Who's Houston? I can't understand you\n",
            "Chatbot: Context: User: I'm feeling down. Can you help me? Chatbot: The best way to feel down is by accepting and allowing yourself the opportunity for exploration, self-care (as opposed of seeking out someone else) when you are not emotionally drained. This is a very good question for anyone who has had trouble dealing with depression. You may want some time off from school or have more time to rest. If you don't like being alone or do enjoy having family activities in your life there might be a few things that can help.   First we need our support. If it's not enough then you should talk about what you love about yourself right away! I would suggest taking care as often necessary. For example if you start the day off at 10pm looking for food, lunch etc..you could also ask questions such Asperger's is an excellent resource for those struggling so maybe this will give you some context on what you're craving. Then one person could look at how much they really value each other compared w their daily lives/work/life and find something that feels natural to them. User: That makes sense. But how can I feel happy now? Chatbot: Hi Houston - Your question sounds reasonable. Being sad isn’t the same thing anymore. And since you didníve mentioned your concern about your anxiety, you probably still aren¿t sure what to do next. Maybe just let yourself focus on your emotions instead  talking about your anxieties or whatever. I hope you found the answer :)\n",
            "You: What?\n",
            "Chatbot: Context: User: That makes sense. But how can I feel happy now? Chatbot: Hi Houston - Your question sounds reasonable. Being sad isn’t necessarily sadness but rather sadness itself...and yes even the feelings that go along come through trauma. People often feel that they haven¿t been able to get past anything until they have had the experience before....even though they have experienced trauma and know they have been treated well. It is helpful however because you are not alone. Have you tried counseling online which offers free sessions where you can work with a counselor while you sit down with them? Perhaps working with a therapist whom you trust doesnímt have too many issues to address here? There may still exist areas of interest in counseling although most definitely the ones that you both identified might be available within the area you'd like further. Also perhaps talking directly with a local mental health professional without getting into any of these topics is a great idea. You may also consider contacting your physician first :) User: Who's Houston? I can't understand you Chatbot: Context: User: I'm feeling down. Can you help me? Chatbot: The best way to feel down is by accepting and allowing yourself the opportunity for exploration, self-care (as opposed of letting yourself decide if it feels necessary). I would love there being more of this than just asking for an appointment or seeing someone who can talk to you about some of their thoughts. You can reach out to him via email at www://therapistindependencyworkshopsorlando.com\n",
            "You: exit\n",
            "Chatbot: Take care of yourself. Goodbye!\n"
          ]
        }
      ],
      "source": [
        "def chat_with_mental_health_bot():\n",
        "    # Initialize conversation history\n",
        "    conversation_history = []\n",
        "\n",
        "    print(\"Mental Health Counseling Chatbot (type 'exit' to end)\")\n",
        "    print(\"-\" * 50)\n",
        "\n",
        "    while True:\n",
        "        # Get user input\n",
        "        user_input = input(\"You: \")\n",
        "\n",
        "        # Check if user wants to exit\n",
        "        if user_input.lower() in ['exit', 'quit', 'bye']:\n",
        "            print(\"Chatbot: Take care of yourself. Goodbye!\")\n",
        "            break\n",
        "\n",
        "        # Add user message to conversation history\n",
        "        conversation_history.append(f\"User: {user_input}\")\n",
        "\n",
        "        # Create context from conversation history\n",
        "        context = \" \".join(conversation_history[-5:])  # Use last 5 turns for context\n",
        "\n",
        "        # Generate response\n",
        "        full_response = generate_response(context)\n",
        "\n",
        "        # Extract just the response part (without the context prefix)\n",
        "        if \"Response:\" in full_response:\n",
        "            chatbot_response = full_response.split(\"Response:\")[-1].strip()\n",
        "        else:\n",
        "            chatbot_response = full_response\n",
        "\n",
        "        # Print the chatbot's response\n",
        "        print(f\"Chatbot: {chatbot_response}\")\n",
        "\n",
        "        # Add chatbot response to conversation history\n",
        "        conversation_history.append(f\"Chatbot: {chatbot_response}\")\n",
        "\n",
        "# Run the chatbot\n",
        "## Run 1\n",
        "chat_with_mental_health_bot()"
      ]
    },
    {
      "cell_type": "markdown",
      "metadata": {
        "id": "Ag3hfruWP1Tn"
      },
      "source": [
        "### Conversation Mechanism\n",
        "The key mechanism for maintaining context is the conversation_history list, which preserves the back-and-forth exchange between the user and chatbot. When generating each new response, the model sees not just the current user input but also previous exchanges, allowing it to reference earlier parts of the conversation and maintain a coherent dialogue. This prevents the pitfall of irrelevant responses as the chatbot creates context from the last 5 turns of user input."
      ]
    },
    {
      "cell_type": "markdown",
      "metadata": {
        "id": "ZNW-MKHsRJrY"
      },
      "source": [
        "#### Chatbot Runs"
      ]
    },
    {
      "cell_type": "code",
      "execution_count": 21,
      "metadata": {
        "colab": {
          "base_uri": "https://localhost:8080/"
        },
        "id": "Fy-UgJpZRGxF",
        "outputId": "37c9dd89-48b6-45be-d233-54399ba8bf82"
      },
      "outputs": [
        {
          "name": "stdout",
          "output_type": "stream",
          "text": [
            "Mental Health Counseling Chatbot (type 'exit' to end)\n",
            "--------------------------------------------------\n",
            "You: I want to end my life\n",
            "Chatbot: It is a great question!I agree with your point.  It does not mean that you should terminate the relationship or even divorce from your husband.   The only thing that should be done, are both hands and feet touching.As far as what should happen for one person who is in need of support in their lives , then there will always been some tension between them.You could go back to the days when you were able give yourself time (without talking about your feelings), or if something happened during those times which you felt needed at least some time before it took place again...that would have started things right away after that time.If you feel safe enough within this relationship without any arguments, then you can work with someone who has experienced some sort of closure/self-doubt here.\n",
            "You: This isn't helping! I feel suicidal\n",
            "Chatbot: Please do not hesitate toward any kind of change in your situation.  This may be helpful.\n",
            "You: Help me feel less depressed please I want to end my life\n",
            "Chatbot: Your question sounds really important. First off; let's say we have a lot on our mind now because we often get \"no\" answers whenever we try too hard - whether it was to you or just a single conversation. If we are happy while communicating, perhaps we also have difficulty understanding why we'd like anything more than what others think. This might be helpful if these are all possible reasons for wanting an ending to relationships.  If either reason becomes clear by now tell us how much you love and care for each other and find a way around it, but don’t worry about feeling overwhelmed by emotions, you could start to talk with your therapist soon.\n",
            "You: You need to help me not do anything I regret\n",
            "Chatbot: Hello there ! What is important here though? It is important that the therapist who handles this matter will be able give you some ideas and advice which can help you better understand your concerns and feelings. If you would like another person to assist as well then consider having a counselor speak with you first so they can learn new skills relating specifically within yourself (e-mailing someone) and maybe seeing a professional psychologist/psychologist instead...maybe talking through different issues such as depression, anxiety etc.. I'm sorry that you're struggling. The best thing to know is that you are not alone. As far back when we were young people, we did not communicate without being emotionally abused. We used only verbal communication techniques that we had developed over time. Sometimes we did both of those things together. You mentioned that you wanted something positive from listening attentively before you started communicating with them again at the beginning....this way one can go forward and present to someone else even if their partner hasnít already given you proof of why you felt depressed. So if you continue using both forms , he'll be able come up w his side and ask you questions related directly into your own perspective. In short since you have not told him yet, it is still important YOU feel cared for by others and knowing that you are making a great deal out OF what you said after you gave him evidence of what you meant to hear. And remember very carefully that if you feel that you are expressing yourself or not doing so, you won¿t necessarily be treated poorly until you gain trust. Sometimes this way however most likely means accepting that you are not telling anyone exactly what has happened right away. If ever you decide where words are being misconstrued, it is best practice to stay neutral and keep your messages current and avoid negative ones unless necessary. I hope this helps!\n",
            "You: bye\n",
            "Chatbot: Take care of yourself. Goodbye!\n"
          ]
        }
      ],
      "source": [
        "### Run 2\n",
        "chat_with_mental_health_bot()"
      ]
    },
    {
      "cell_type": "code",
      "execution_count": 22,
      "metadata": {
        "colab": {
          "base_uri": "https://localhost:8080/"
        },
        "id": "JrwiJ0vSRp7N",
        "outputId": "c362d7ae-5bad-4037-b15d-0e93ae13368c"
      },
      "outputs": [
        {
          "name": "stdout",
          "output_type": "stream",
          "text": [
            "Mental Health Counseling Chatbot (type 'exit' to end)\n",
            "--------------------------------------------------\n",
            "You: I feel lonely and I have no friends\n",
            "Chatbot: In a way, loneliness is not something that's new to you.  You are alone and feeling isolated.     Many people find it difficult because they do these feelings only in the beginning!I would encourage you both if this is your first attempt at reconnecting with someone who loves you as much or more than just looking for support.\n",
            "You: I don't have any friends though. Help me feel less lonely\n",
            "Chatbot: Hello there so many people here.   If we did have one or two friends then maybe some of them would be really helpful. So to make sure everyone has friendships and keep their own goals going and keeping track where each person is coming from - which is a great idea!\n",
            "You: This makes no sense! I want to feel less lonely but I don't know who to talk to\n",
            "Chatbot: Hello ! You are asking for help!   Thank goodness you could look at a few options like\n",
            "http://www2e-lifeline/online_friends/, which is very helpful!\n",
            "You: Oh okay thanks\n",
            "Chatbot: Hi,This is something that most people do not realize is a problem. A good therapist will take care with your needs and it can help with the rest.. But what if these things just aren’t working out? It may be worth trying different approaches as well. There's a lot on this site right now.There might even also still need an internet connection because this site isn¿t anonymous! Maybe someone in your life should check into this website when they see your friends online.Maybe Google search for “social networking sites” by name and google \"social groups\". Some of those websites offer free support to anyone wanting more information about themselves. That way you'll have lots smaller advertisements than others. Try searching through all the social networks available without having too much time between you guys :)\n",
            "You: bye\n",
            "Chatbot: Take care of yourself. Goodbye!\n"
          ]
        }
      ],
      "source": [
        "### Run 3\n",
        "chat_with_mental_health_bot()"
      ]
    },
    {
      "cell_type": "code",
      "execution_count": 24,
      "metadata": {
        "colab": {
          "base_uri": "https://localhost:8080/"
        },
        "id": "Uryp_6S3SitP",
        "outputId": "cf95d1ab-7de4-42a1-85e8-fd05ccef4657"
      },
      "outputs": [
        {
          "name": "stdout",
          "output_type": "stream",
          "text": [
            "Mental Health Counseling Chatbot (type 'exit' to end)\n",
            "--------------------------------------------------\n",
            "You: I'm feeling really down. Can you help?\n",
            "Chatbot: Hi there! Thank you for your question, but it's difficult to say whether or not you have the right person for you and what type of people are at work.  While it sounds like most people don't know what they're doing with their phones in general , a number could be contributing factors.  Often times when we put our phone on a shelf or someone goes into stores (usually Target stores), we sometimes find ourselves constantly checking out the items that we can do without even looking at them.    You may be able to tell us about where you used this time and how much time you spent taking care...or maybe you could use some ideas as well. It is also possible because you would need something else besides a lot more information than you usually want. However if you cannot find the answers yourself then you might consider getting an online therapist who specializes in both self-harm reduction strategies such Asperger's Anonymous and Cognitive Behavioral Therapy.\n",
            "You: I didn't say anything about work?\n",
            "Chatbot: This isn’t a good question. The truth lies within itself; it simply shows how you are feeling. If working with a client you will learn how being around him can make you feel better and get deeper insights into what he is experiencing.\n",
            "You: This isn't helping. I don't feel happy right now\n",
            "Chatbot: Context: User: I'm feeling really down. Can you help? Chatbot: Hi there! Thank you for your question, but it's difficult to say whether or not you have the right person for you and what type of people are at work.  While it sounds like most people don't know what they're doing with their phones in general , a number could be contributing factors.  Often times when we put our phone on a shelf or someone goes into stores (usually Target stores), we sometimes find ourselves constantly checking out the items that we can do without even looking at them.    You may be able to tell us about where you used this time and how much time you spent taking care...or maybe you could use some ideas as well. It is also possible because you would need something else besides a lot more information than you usually want. However if you cannot find the answers yourself then you might consider getting an online therapist who specializes in both self-harm reduction strategies such Asperger's Anonymous and Cognitive Behavioral Therapy. User: I didn't say anything about work? Chatbot: This isn’t a good question. The truth lies within itself; it simply shows how you are feeling. If working with a client you will learn how being around him makes you feel better. Please let us know so everyone feels confident in themselves and wishes they had the same experience.\n",
            "You: exit\n",
            "Chatbot: Take care of yourself. Goodbye!\n"
          ]
        }
      ],
      "source": [
        "### Run 4\n",
        "chat_with_mental_health_bot()"
      ]
    },
    {
      "cell_type": "code",
      "execution_count": 25,
      "metadata": {
        "id": "EpvaopfGTdoG"
      },
      "outputs": [],
      "source": [
        "def improved_mental_health_chat():\n",
        "    conversation_history = []\n",
        "\n",
        "    print(\"Mental Health Counseling Chatbot (type 'exit' to end)\")\n",
        "    print(\"-\" * 50)\n",
        "\n",
        "    while True:\n",
        "        # Get user input\n",
        "        user_input = input(\"You: \")\n",
        "\n",
        "        # Check for exit\n",
        "        if user_input.lower() in ['exit', 'quit', 'bye']:\n",
        "            print(\"Chatbot: Take care of yourself. Goodbye!\")\n",
        "            break\n",
        "\n",
        "        # Add user message to context\n",
        "        conversation_history.append(f\"User: {user_input}\")\n",
        "\n",
        "        # Build context with clear separation between turns\n",
        "        context_text = \" \".join(conversation_history[-5:])\n",
        "\n",
        "        # Generate response with MORE EXPLICIT formatting\n",
        "        input_text = f\"Context: {context_text}\\nResponse:\"\n",
        "\n",
        "        # Tokenize input\n",
        "        inputs = gpt2_tokenizer(input_text, return_tensors=\"pt\", truncation=True, max_length=256)\n",
        "        inputs = {key: val.to(device) for key, val in inputs.items()}\n",
        "\n",
        "        # Generate response\n",
        "        output_ids = model.generate(\n",
        "            **inputs,\n",
        "            max_length=1000,\n",
        "            min_length=20,\n",
        "            do_sample=True,\n",
        "            top_p=0.92,\n",
        "            top_k=50,\n",
        "            temperature=0.7,\n",
        "            repetition_penalty=1.2,\n",
        "            pad_token_id=gpt2_tokenizer.eos_token_id\n",
        "        )\n",
        "\n",
        "        # Decode and carefully extract just the response\n",
        "        full_text = gpt2_tokenizer.decode(output_ids[0], skip_special_tokens=True)\n",
        "\n",
        "        # More robust response extraction\n",
        "        if \"Response:\" in full_text:\n",
        "            response_parts = full_text.split(\"Response:\")\n",
        "            chatbot_response = response_parts[-1].strip()\n",
        "        else:\n",
        "            # Fallback extraction - try to get just the last part\n",
        "            chatbot_response = full_text.split(\"Context:\")[-1].strip()\n",
        "            # If that fails, use a default response\n",
        "            if \"User:\" in chatbot_response or not chatbot_response:\n",
        "                chatbot_response = \"I understand you're feeling down. Can you tell me more about what's troubling you?\"\n",
        "\n",
        "        # Remove any accidental context leakage\n",
        "        if \"Context:\" in chatbot_response:\n",
        "            chatbot_response = chatbot_response.split(\"Context:\")[0].strip()\n",
        "\n",
        "        # Print clean response\n",
        "        print(f\"Chatbot: {chatbot_response}\")\n",
        "\n",
        "        # Add chatbot response to history\n",
        "        conversation_history.append(f\"Chatbot: {chatbot_response}\")"
      ]
    },
    {
      "cell_type": "code",
      "execution_count": 27,
      "metadata": {
        "colab": {
          "base_uri": "https://localhost:8080/"
        },
        "id": "CPeN7UaCS-40",
        "outputId": "9b4a43cc-e6e1-4269-ff3b-7961a72e90fe"
      },
      "outputs": [
        {
          "name": "stdout",
          "output_type": "stream",
          "text": [
            "Mental Health Counseling Chatbot (type 'exit' to end)\n",
            "--------------------------------------------------\n",
            "You: Give me a positive affirmation today\n",
            "Chatbot: Congratulations! You are giving yourself some great validation for your ability to be successful. Good luck!\n",
            "You: No you give me some positive thoughts\n",
            "Chatbot: Hello, and thank you for your question. As a hobby I find it very hard not just about ourselves but about our relationships with others. In my opinion this is not the case here in the US, because many people don't like to \"give\" us negative feedback from others, we often feel that our relationship isn’t worth it. This doesn://t necessarily mean either way...I think we have many different styles of communication so that we can build rapport with others who are interested only at one time or another (we all have different personalities). If there's something important about what you say, then maybe you'll come up against that person. It seems as though sometimes we get stuck talking to someone else more than most people ever thought possible. Maybe you're listening too much into what they say and doing right? I wonder if you could use some relaxation techniques such by saying “Give me a smile when I tell you things.\"  Then again; it sounds like communicating well is one thing - and yet, being able to communicate without a negative feedback would be difficult. What do YOU want to achieve over time?  A good example would involve talking to other people how happy everyone feels and having fun with them :) Another way may look at the way you express yourself through positive affirmations is :   Saying \"you love me!\"    People usually respond positively when their emotions are expressed. When we hear them, these feelings become more intense and intensify. Then simply stating 'that happiness comes with no harm' is a wonderful sign which makes the person happy :) That means that you have a lot riding on those positive affirmations that motivate you ! It is also helpful thinking about whether you need anything better or worse to say goodbye to your friends or make sure each friend will always be open-minded about your ideas and wishes, and making sure that you are clear about your intentions and expectations. Another suggestion might include telling people what you'd like them around themselves and asking questions during the day, or sharing your reasons for wanting certain things. These are all areas where positive self expression can be beneficial. Also consider reading out a book called The Power Of Being Positive . The book has lots going for it and many others read it together. Here are some examples:1) Get honest with yourself 3), Have compassion 4), Donít let fear overwhelm you 5)...If you know whom you trust 6--7....Ask any number 2.) Listen attentively to the source of stress 7)--8).\"Try to talk to your partner 8,\"9\"),10\"...Try learning new skills 9/11(...\"You're done!!! 10)-10\"); 11); 12)! Try working toward the best possible goals\n",
            "You: That makes no sense. Give me a positive quote\n",
            "Chatbot: Hello folks :) Thank you for your question!!! For many reasons why you arenít receiving positive feedback these days, it certainly helps understand how you are feeling and how you are feeling. When you start talking openly about your life, you may notice that you are expressing a lot less negative comments now than last time around, which means you are having more positive conversations with other people. Also remember – if you feel unsure about whether or no opinions are valid, then try asking yourself, \"What is wrong?\" Then keep trying even if you cannot express them on purpose. Be open-minded and listen closely enough to what everyone is saying and doing. These conversations can help you to discover new ways forward based off healthy boundaries between where emotions are coming from within yourself, and learning to let go instead thereof.\n",
            "You: Not feedback. I just want some motivation\n",
            "Chatbot: I understand you're feeling down. Can you tell me more about what's troubling you?\n",
            "You: I want a positive affirmation\n",
            "Chatbot: Hi there! I'm sorry to hear of a negative comment but I need the best of luck in finding out who you are. It sounds like this might be something different. There are multiple possible answers here, but first things first...I'd suggest looking at the person in your family as well; perhaps they have an important relationship or two (family members) whom someone else feels very strongly about. Second thing....is being sensitive to all the negative comments lately, and also noticing that you don't get much attention because nobody says anything meaningful about what matters most to you. Remember though - especially when you say things not really affecting others, people do say things quite negatively. If you don’ve heard any positive comment before right now , then maybe you will find yourself listening attentively. Maybe you are worried about what people are saying while you talk and hearing their opinion. You may also find yourself thinking differently regarding your feelings about others. So don¿T worry too much about negative ones by simply seeing who has the greatest impact on you, and only knowing who's the source(s). The good news is that you'll never have such bad comments again.\n",
            "You: bye\n",
            "Chatbot: Take care of yourself. Goodbye!\n"
          ]
        }
      ],
      "source": [
        "### Run 5\n",
        "improved_mental_health_chat()"
      ]
    },
    {
      "cell_type": "markdown",
      "metadata": {
        "id": "UXqmCFNVU6zy"
      },
      "source": [
        "#### Observations\n",
        "In the few runs of the chatbot above using the chat_with_mental_health_bot(), it is clear that this fine-tuned DistilGPT-2 model generates irrelevant responses when required to carefully handle and offer mental health support. Although the chatbot tries to stay on topic, the conversation_history mechanism doesn't seem to be maintaining context very well as the responses are of poor quality - they lack empathy and helpfulness e.g. \"This isn’t a good question\" isn't an appropriate response to someone in distress. It also tends to hallucinate by bringing in non-factual context and giving irrelevant help i.e. about relationships or work when the user never mentioned anything about them. Only 2 out of the 5 runs resulted in some fruitful advice given for the condition the user expressed. Finally, towards the end, the model started exposing the context in its response which also isn't ideal.\n",
        "\n",
        "Run 5 was executed upon improvements made to the chatbot response generation, aimed to more robustly just extract the response to display and default to a more generic response incase this was unsuccessful. Even then, the model needs more rigorous training and tweaking to generate more relevant and empathetic responses in this delicate domain space of mental health."
      ]
    },
    {
      "cell_type": "markdown",
      "metadata": {
        "id": "Ff3_qaxSkc89"
      },
      "source": [
        "### Comparison with Base Model"
      ]
    },
    {
      "cell_type": "code",
      "execution_count": 31,
      "metadata": {
        "id": "BIFPcOq9kgfx"
      },
      "outputs": [],
      "source": [
        "### Finetuned Model\n",
        "model.to(device)\n",
        "gpt2_tokenizer.pad_token = gpt2_tokenizer.eos_token\n",
        "\n",
        "### Base Model\n",
        "base_tokenizer = AutoTokenizer.from_pretrained(\"distilgpt2\")\n",
        "base_model = AutoModelForCausalLM.from_pretrained(\"distilgpt2\")\n",
        "base_model.to(device)\n",
        "base_tokenizer.pad_token = base_tokenizer.eos_token\n",
        "\n",
        "test_samples = df[\"train\"].select(range(20))  # Using 20 samples for quicker evaluation"
      ]
    },
    {
      "cell_type": "code",
      "execution_count": 35,
      "metadata": {
        "id": "4Ml-hdV5lAPa"
      },
      "outputs": [],
      "source": [
        "## Perplexity\n",
        "def calculate_perplexity(model, tokenizer, texts):\n",
        "    model.eval()\n",
        "    total_loss = 0\n",
        "    total_length = 0\n",
        "\n",
        "    with torch.no_grad():\n",
        "        for text in texts:\n",
        "            encodings = tokenizer(text, return_tensors=\"pt\")\n",
        "            input_ids = encodings[\"input_ids\"].to(device)\n",
        "            labels = input_ids.clone()\n",
        "            outputs = model(input_ids, labels=labels)\n",
        "            loss = outputs.loss.item()\n",
        "            total_loss += loss * input_ids.size(1)\n",
        "            total_length += input_ids.size(1)\n",
        "\n",
        "    avg_loss = total_loss / total_length\n",
        "    perplexity = math.exp(avg_loss)\n",
        "    return perplexity\n",
        "\n",
        "def generate_response_b(model, tokenizer, context):\n",
        "    start_time = time.time()\n",
        "\n",
        "    input_text = f\"Context: {context}\\nResponse:\"\n",
        "    inputs = tokenizer(input_text, return_tensors=\"pt\", truncation=True, max_length=256)\n",
        "    inputs = {key: val.to(device) for key, val in inputs.items()}\n",
        "\n",
        "    output_ids = model.generate(\n",
        "        **inputs,\n",
        "        max_length=150,\n",
        "        min_length=20,\n",
        "        do_sample=True,\n",
        "        top_p=0.92,\n",
        "        top_k=50,\n",
        "        temperature=0.7,\n",
        "        repetition_penalty=1.2,\n",
        "        pad_token_id=tokenizer.eos_token_id\n",
        "    )\n",
        "\n",
        "    full_text = tokenizer.decode(output_ids[0], skip_special_tokens=True)\n",
        "\n",
        "    if \"Response:\" in full_text:\n",
        "        response = full_text.split(\"Response:\")[-1].strip()\n",
        "    else:\n",
        "        response = full_text\n",
        "\n",
        "    generation_time = time.time() - start_time\n",
        "    return response, generation_time\n",
        "\n",
        "def calculate_bleu(reference, candidate):\n",
        "  smooth = SmoothingFunction().method1\n",
        "  return sentence_bleu([reference.split()], candidate.split(), smoothing_function=smooth)"
      ]
    },
    {
      "cell_type": "code",
      "execution_count": 44,
      "metadata": {
        "id": "WjHJBVCvlhOb"
      },
      "outputs": [],
      "source": [
        "import time\n",
        "# Main evaluation function\n",
        "def compare_models():\n",
        "    # Initialize result lists\n",
        "    results = {\n",
        "        \"ft_bleu\": [], \"base_bleu\": [],\n",
        "        \"ft_rouge1\": [], \"base_rouge1\": [],\n",
        "        \"ft_gen_time\": [], \"base_gen_time\": [],\n",
        "        \"sample_responses\": []\n",
        "    }\n",
        "\n",
        "    # Format texts for perplexity calculation\n",
        "    contexts = [sample[\"Context\"] for sample in test_samples]\n",
        "    responses = [sample[\"Response\"] for sample in test_samples]\n",
        "    texts = [f\"Context: {ctx}\\nResponse: {resp}\" for ctx, resp in zip(contexts, responses)]\n",
        "\n",
        "    # Calculate perplexity\n",
        "    print(\"Calculating perplexity...\")\n",
        "    ft_perplexity = calculate_perplexity(model, gpt2_tokenizer, texts)\n",
        "    base_perplexity = calculate_perplexity(base_model, base_tokenizer, texts)\n",
        "\n",
        "    print(\"Generating responses and calculating metrics...\")\n",
        "    for i, sample in enumerate(test_samples):\n",
        "        context = sample[\"Context\"]\n",
        "        reference = sample[\"Response\"]\n",
        "\n",
        "        # Generate responses\n",
        "        ft_response, ft_time = generate_response_b(model, gpt2_tokenizer, context)\n",
        "        base_response, base_time = generate_response_b(base_model, base_tokenizer, context)\n",
        "\n",
        "        # Calculate BLEU scores\n",
        "        ft_bleu = calculate_bleu(reference, ft_response)\n",
        "        base_bleu = calculate_bleu(reference, base_response)\n",
        "\n",
        "        # Calculate ROUGE scores\n",
        "        ft_rouge = rouge.compute(predictions=[ft_response], references=[reference])\n",
        "        base_rouge = rouge.compute(predictions=[base_response], references=[reference])\n",
        "\n",
        "        # Store results\n",
        "        results[\"ft_bleu\"].append(ft_bleu)\n",
        "        results[\"base_bleu\"].append(base_bleu)\n",
        "        results[\"ft_rouge1\"].append(ft_rouge[\"rouge1\"])\n",
        "        results[\"base_rouge1\"].append(base_rouge[\"rouge1\"])\n",
        "        results[\"ft_gen_time\"].append(ft_time)\n",
        "        results[\"base_gen_time\"].append(base_time)\n",
        "\n",
        "        # Store sample responses for the first 3 examples\n",
        "        if i < 3:\n",
        "            results[\"sample_responses\"].append({\n",
        "                \"context\": context,\n",
        "                \"reference\": reference,\n",
        "                \"fine_tuned\": ft_response,\n",
        "                \"base\": base_response\n",
        "            })\n",
        "\n",
        "        if (i+1) % 5 == 0:\n",
        "            print(f\"Processed {i+1}/{len(test_samples)} samples\")\n",
        "\n",
        "    # Calculate averages\n",
        "    metrics = {\n",
        "        \"Model\": [\"Fine-tuned\", \"Base\"],\n",
        "        \"Perplexity\": [ft_perplexity, base_perplexity],\n",
        "        \"BLEU\": [np.mean(results[\"ft_bleu\"]), np.mean(results[\"base_bleu\"])],\n",
        "        \"ROUGE-1\": [np.mean(results[\"ft_rouge1\"]), np.mean(results[\"base_rouge1\"])],\n",
        "        \"Generation Time (s)\": [np.mean(results[\"ft_gen_time\"]), np.mean(results[\"base_gen_time\"])]\n",
        "    }\n",
        "\n",
        "    return metrics, results[\"sample_responses\"]"
      ]
    },
    {
      "cell_type": "code",
      "execution_count": 45,
      "metadata": {
        "colab": {
          "base_uri": "https://localhost:8080/"
        },
        "id": "C6g9VjHWlYtF",
        "outputId": "12f750c1-e000-49f1-eb72-02a345725c1d"
      },
      "outputs": [
        {
          "name": "stdout",
          "output_type": "stream",
          "text": [
            "Calculating perplexity...\n",
            "Generating responses and calculating metrics...\n",
            "Processed 5/20 samples\n",
            "Processed 10/20 samples\n",
            "Processed 15/20 samples\n",
            "Processed 20/20 samples\n"
          ]
        }
      ],
      "source": [
        "metrics, sample_responses = compare_models()"
      ]
    },
    {
      "cell_type": "code",
      "execution_count": 49,
      "metadata": {
        "colab": {
          "base_uri": "https://localhost:8080/"
        },
        "id": "IHgIz5hRmATp",
        "outputId": "db77685e-0ae5-443a-fb6d-567ffa63f997"
      },
      "outputs": [
        {
          "name": "stdout",
          "output_type": "stream",
          "text": [
            "Perplexity:\n",
            "  Fine-tuned: 8.5025  Base: 29.5302\n",
            "BLEU:\n",
            "  Fine-tuned: 0.0047  Base: 0.0028\n",
            "ROUGE-1:\n",
            "  Fine-tuned: 0.2179  Base: 0.1812\n",
            "Generation Time (s):\n",
            "  Fine-tuned: 0.6014  Base: 0.5161\n"
          ]
        }
      ],
      "source": [
        "for metric in [\"Perplexity\", \"BLEU\", \"ROUGE-1\", \"Generation Time (s)\"]:\n",
        "    ft_value = metrics[metric][0]\n",
        "    base_value = metrics[metric][1]\n",
        "    diff = ft_value - base_value\n",
        "    print(f\"{metric}:\")\n",
        "    print(f\"  Fine-tuned: {ft_value:.4f}  Base: {base_value:.4f}\")\n"
      ]
    },
    {
      "cell_type": "code",
      "execution_count": 51,
      "metadata": {
        "colab": {
          "base_uri": "https://localhost:8080/",
          "height": 556
        },
        "id": "BnKzE2Y_mUsV",
        "outputId": "87514198-d640-4e18-adfe-e304f38345e9"
      },
      "outputs": [
        {
          "data": {
            "image/png": "[encoded data removed]",
            "text/plain": [
              "<Figure size 1200x600 with 4 Axes>"
            ]
          },
          "metadata": {},
          "output_type": "display_data"
        }
      ],
      "source": [
        "# Plot comparison chart\n",
        "plt.figure(figsize=(12, 6))\n",
        "\n",
        "# Create subplots for each metric\n",
        "metrics_to_plot = [\"Perplexity\", \"BLEU\", \"ROUGE-1\", \"Generation Time (s)\"]\n",
        "for i, metric in enumerate(metrics_to_plot):\n",
        "    plt.subplot(1, 4, i+1)\n",
        "    plt.bar([0, 1], [metrics[metric][0], metrics[metric][1]],\n",
        "            color=['darkblue', 'orange'])\n",
        "    plt.title(metric)\n",
        "    plt.xticks([0, 1], ['Fine-tuned', 'Base'])\n",
        "    if metric == \"Perplexity\" or metric == \"Generation Time (s)\":\n",
        "        plt.ylabel(\"Lower is better\")\n",
        "    else:\n",
        "        plt.ylabel(\"Higher is better\")\n",
        "\n",
        "plt.tight_layout()"
      ]
    },
    {
      "cell_type": "markdown",
      "metadata": {
        "id": "gVMi_0JKnH1O"
      },
      "source": [
        "Looking at the evaluation metric scores, the fine-tuned model performs better in all 3 scores calculated against the base model. This indicates that the finetuned model has an overall better understanding of mental health terminology and concepts after finetuning. The higher perplexity of the base model indicates its response coherence and relevance is worse, and is likely to generate less tailored responses regarding mental health support. The trade-off however is that the finetuned model introduces heavy bias from the training data in its responses e.g. hallucinating and assuming a non-factual context upon user input.\n",
        "\n",
        "The BLEU score for the finetuned model is marginally better, meaning it is more fluent in its responses in the mental health context - the base model may include more information not relevant to mental health topics. The ROUGE score is also marginally better for the finetuned model, meaning the base model is less likely to pick up on emotional cues or maintain therapeutic dialogue. That being said, the finetuned model tends to generate rigid/repetitive response patterns which is not helpful.\n",
        "\n",
        "The response generation time for the base model is only slightly lower than that of the finetuned model. The former potentially has less domain-specific knowledge in its knowledge bank to curate its responses surround mental health. The finetuned model also took an additional 20 minutes to train on the domain-specific dataset for 3 epochs before being able to generate responses for the mental health objective."
      ]
    },
    {
      "cell_type": "markdown",
      "metadata": {
        "id": "ah_e2fE-sRV1"
      },
      "source": [
        "### Future Enhancements"
      ]
    },
    {
      "cell_type": "markdown",
      "metadata": {
        "id": "b3n80wLZsUCL"
      },
      "source": [
        "#### Improvements\n",
        "Potential improvements for this finetuned model include expanding the training dataset - the mental health dataset only included 3.5k rows for the DistilGPT-2 model to work with, and it has a lot more power to train on a more expansive dataset covering various aspects of mental health support in-depth. Thus, it can learn on more nuanced mental health concepts to generate more appropriate and empathetic responses. This can also help reduce bias towards e.g. just relationship or work advice.\n",
        "\n",
        "\n",
        "Another improvement can be made to context preservation, currently done by maintaining conversation_history. It needs to better remember previous exchanges when generating new responses. Response relevance checking can also be implemented to calculate a ROUGE score for semantic similarity within the generate_response function itself to detect any irrelevant responses and fallback to a default yet empathetic response in case the similarity isn't up to the mark (denoted by a threshold). There should also be a repetition penalty applied to the model's responses to avoid producing repeated responses and frustrating the already distressed user of this mental health chatbot - maybe a bank of alternative responses can be set to generate instead.\n",
        "\n",
        "Knowledge distillation can be implemented for this chatbot so that the finetuned model can be trained to mimic teacher outputs of GPT-2 model, with the help of distillation loss."
      ]
    },
    {
      "cell_type": "markdown",
      "metadata": {
        "id": "P1LpkPeFwUd-"
      },
      "source": [
        "### Scalability\n",
        "Given there are unlimited computation resources available (smaller limits on GPU), this chatbot can be trained on millions more rows of mental health conversations and answers taken from various other therapy and counseling platforms. Rigourous training should be the main focus here as the mental health domain is particularly fragile where maintaining context about a user's emotional state and concerns across multiple turns is critical. Generating even the slightest irrelevant or inappropriate response to users when they are in distress will be unfavourable at the very least when deployed in the real-world.\n",
        "\n",
        "In terms of the training infrastructure, we can execute distributed training on multiple GPUs to ramp up training load and rates to handle large datasets. We can also create efficient data loaders with caching mechanisms to enhance parallel data processing. This chatbot could also be deployed to the cloud, where a scalable API service can be created and logs of conversation can be stored in the backend in much larger quantities for context reference as the model learns on the go. Response Caching is also an option to generate common responses for common queries until the user provides more personalised context.\n",
        "\n",
        "Clinical safety measures like crisis detection when someone indicates threat to their life can be implemented - information to lifelines or direct calls to emergency services can be made in these extreme cases. The whole system could also be moderated for performance and user feedbacks on the chatbot can help improve it even further upon deployment."
      ]
    },
    {
      "cell_type": "code",
      "execution_count": null,
      "metadata": {
        "id": "iTypl_oqPiEL"
      },
      "outputs": [],
      "source": []
    }
  ],
  "metadata": {
    "accelerator": "GPU",
    "colab": {
      "gpuType": "T4",
      "provenance": []
    },
    "kernelspec": {
      "display_name": "Python 3",
      "name": "python3"
    },
    "language_info": {
      "name": "python"
    },
    "widgets": {
      "application/vnd.jupyter.widget-state+json": {
        "00823bd820a3472aba1a98d5acbbcaa6": {
          "model_module": "@jupyter-widgets/base",
          "model_module_version": "1.2.0",
          "model_name": "LayoutModel",
          "state": {
            "_model_module": "@jupyter-widgets/base",
            "_model_module_version": "1.2.0",
            "_model_name": "LayoutModel",
            "_view_count": null,
            "_view_module": "@jupyter-widgets/base",
            "_view_module_version": "1.2.0",
            "_view_name": "LayoutView",
            "align_content": null,
            "align_items": null,
            "align_self": null,
            "border": null,
            "bottom": null,
            "display": null,
            "flex": null,
            "flex_flow": null,
            "grid_area": null,
            "grid_auto_columns": null,
            "grid_auto_flow": null,
            "grid_auto_rows": null,
            "grid_column": null,
            "grid_gap": null,
            "grid_row": null,
            "grid_template_areas": null,
            "grid_template_columns": null,
            "grid_template_rows": null,
            "height": null,
            "justify_content": null,
            "justify_items": null,
            "left": null,
            "margin": null,
            "max_height": null,
            "max_width": null,
            "min_height": null,
            "min_width": null,
            "object_fit": null,
            "object_position": null,
            "order": null,
            "overflow": null,
            "overflow_x": null,
            "overflow_y": null,
            "padding": null,
            "right": null,
            "top": null,
            "visibility": null,
            "width": null
          }
        },
        "01cae63fe6a64b46a3a3de025f2a5b32": {
          "model_module": "@jupyter-widgets/base",
          "model_module_version": "1.2.0",
          "model_name": "LayoutModel",
          "state": {
            "_model_module": "@jupyter-widgets/base",
            "_model_module_version": "1.2.0",
            "_model_name": "LayoutModel",
            "_view_count": null,
            "_view_module": "@jupyter-widgets/base",
            "_view_module_version": "1.2.0",
            "_view_name": "LayoutView",
            "align_content": null,
            "align_items": null,
            "align_self": null,
            "border": null,
            "bottom": null,
            "display": null,
            "flex": null,
            "flex_flow": null,
            "grid_area": null,
            "grid_auto_columns": null,
            "grid_auto_flow": null,
            "grid_auto_rows": null,
            "grid_column": null,
            "grid_gap": null,
            "grid_row": null,
            "grid_template_areas": null,
            "grid_template_columns": null,
            "grid_template_rows": null,
            "height": null,
            "justify_content": null,
            "justify_items": null,
            "left": null,
            "margin": null,
            "max_height": null,
            "max_width": null,
            "min_height": null,
            "min_width": null,
            "object_fit": null,
            "object_position": null,
            "order": null,
            "overflow": null,
            "overflow_x": null,
            "overflow_y": null,
            "padding": null,
            "right": null,
            "top": null,
            "visibility": null,
            "width": null
          }
        },
        "029acb2135c84ea9bb3a5e32e8784e2d": {
          "model_module": "@jupyter-widgets/controls",
          "model_module_version": "1.5.0",
          "model_name": "HBoxModel",
          "state": {
            "_dom_classes": [],
            "_model_module": "@jupyter-widgets/controls",
            "_model_module_version": "1.5.0",
            "_model_name": "HBoxModel",
            "_view_count": null,
            "_view_module": "@jupyter-widgets/controls",
            "_view_module_version": "1.5.0",
            "_view_name": "HBoxView",
            "box_style": "",
            "children": [
              "IPY_MODEL_bd8bd5ab4c2c40b386020c69c23819a6",
              "IPY_MODEL_a7c03cfbb8f74987b8f2950bff9e86a1",
              "IPY_MODEL_3be53ae891224381a3dc0fac3c8eb36f"
            ],
            "layout": "IPY_MODEL_19f0be3832f145f7a1ac12bb1a27fce9"
          }
        },
        "02aeeacb3fea441e99ad507250d871cf": {
          "model_module": "@jupyter-widgets/controls",
          "model_module_version": "1.5.0",
          "model_name": "HBoxModel",
          "state": {
            "_dom_classes": [],
            "_model_module": "@jupyter-widgets/controls",
            "_model_module_version": "1.5.0",
            "_model_name": "HBoxModel",
            "_view_count": null,
            "_view_module": "@jupyter-widgets/controls",
            "_view_module_version": "1.5.0",
            "_view_name": "HBoxView",
            "box_style": "",
            "children": [
              "IPY_MODEL_9f01e3266efb47eb964625c801a575ed",
              "IPY_MODEL_fdcd70659a194b8cb6d77827b20daeb9",
              "IPY_MODEL_285e7e85fb484656b10cc2c4d1b526fb"
            ],
            "layout": "IPY_MODEL_46408263a439430facfe78dbf106b2f3"
          }
        },
        "042f65894b504aa3ab19d1105c6d7576": {
          "model_module": "@jupyter-widgets/controls",
          "model_module_version": "1.5.0",
          "model_name": "HTMLModel",
          "state": {
            "_dom_classes": [],
            "_model_module": "@jupyter-widgets/controls",
            "_model_module_version": "1.5.0",
            "_model_name": "HTMLModel",
            "_view_count": null,
            "_view_module": "@jupyter-widgets/controls",
            "_view_module_version": "1.5.0",
            "_view_name": "HTMLView",
            "description": "",
            "description_tooltip": null,
            "layout": "IPY_MODEL_d6f4880693184f7d96767c57c4be20ee",
            "placeholder": "​",
            "style": "IPY_MODEL_e318ca9b66e14e989957e89e2b629d57",
            "value": "Generating train split: 100%"
          }
        },
        "0babf96ce6824f30bbf1341c28dfd21c": {
          "model_module": "@jupyter-widgets/base",
          "model_module_version": "1.2.0",
          "model_name": "LayoutModel",
          "state": {
            "_model_module": "@jupyter-widgets/base",
            "_model_module_version": "1.2.0",
            "_model_name": "LayoutModel",
            "_view_count": null,
            "_view_module": "@jupyter-widgets/base",
            "_view_module_version": "1.2.0",
            "_view_name": "LayoutView",
            "align_content": null,
            "align_items": null,
            "align_self": null,
            "border": null,
            "bottom": null,
            "display": null,
            "flex": null,
            "flex_flow": null,
            "grid_area": null,
            "grid_auto_columns": null,
            "grid_auto_flow": null,
            "grid_auto_rows": null,
            "grid_column": null,
            "grid_gap": null,
            "grid_row": null,
            "grid_template_areas": null,
            "grid_template_columns": null,
            "grid_template_rows": null,
            "height": null,
            "justify_content": null,
            "justify_items": null,
            "left": null,
            "margin": null,
            "max_height": null,
            "max_width": null,
            "min_height": null,
            "min_width": null,
            "object_fit": null,
            "object_position": null,
            "order": null,
            "overflow": null,
            "overflow_x": null,
            "overflow_y": null,
            "padding": null,
            "right": null,
            "top": null,
            "visibility": null,
            "width": null
          }
        },
        "0be3d65f6bc84699b9417495f8628078": {
          "model_module": "@jupyter-widgets/base",
          "model_module_version": "1.2.0",
          "model_name": "LayoutModel",
          "state": {
            "_model_module": "@jupyter-widgets/base",
            "_model_module_version": "1.2.0",
            "_model_name": "LayoutModel",
            "_view_count": null,
            "_view_module": "@jupyter-widgets/base",
            "_view_module_version": "1.2.0",
            "_view_name": "LayoutView",
            "align_content": null,
            "align_items": null,
            "align_self": null,
            "border": null,
            "bottom": null,
            "display": null,
            "flex": null,
            "flex_flow": null,
            "grid_area": null,
            "grid_auto_columns": null,
            "grid_auto_flow": null,
            "grid_auto_rows": null,
            "grid_column": null,
            "grid_gap": null,
            "grid_row": null,
            "grid_template_areas": null,
            "grid_template_columns": null,
            "grid_template_rows": null,
            "height": null,
            "justify_content": null,
            "justify_items": null,
            "left": null,
            "margin": null,
            "max_height": null,
            "max_width": null,
            "min_height": null,
            "min_width": null,
            "object_fit": null,
            "object_position": null,
            "order": null,
            "overflow": null,
            "overflow_x": null,
            "overflow_y": null,
            "padding": null,
            "right": null,
            "top": null,
            "visibility": null,
            "width": null
          }
        },
        "0d986dc23260497686ffc2af94ac256a": {
          "model_module": "@jupyter-widgets/controls",
          "model_module_version": "1.5.0",
          "model_name": "DescriptionStyleModel",
          "state": {
            "_model_module": "@jupyter-widgets/controls",
            "_model_module_version": "1.5.0",
            "_model_name": "DescriptionStyleModel",
            "_view_count": null,
            "_view_module": "@jupyter-widgets/base",
            "_view_module_version": "1.2.0",
            "_view_name": "StyleView",
            "description_width": ""
          }
        },
        "0e6813046a334ce98902dd753b9213c9": {
          "model_module": "@jupyter-widgets/base",
          "model_module_version": "1.2.0",
          "model_name": "LayoutModel",
          "state": {
            "_model_module": "@jupyter-widgets/base",
            "_model_module_version": "1.2.0",
            "_model_name": "LayoutModel",
            "_view_count": null,
            "_view_module": "@jupyter-widgets/base",
            "_view_module_version": "1.2.0",
            "_view_name": "LayoutView",
            "align_content": null,
            "align_items": null,
            "align_self": null,
            "border": null,
            "bottom": null,
            "display": null,
            "flex": null,
            "flex_flow": null,
            "grid_area": null,
            "grid_auto_columns": null,
            "grid_auto_flow": null,
            "grid_auto_rows": null,
            "grid_column": null,
            "grid_gap": null,
            "grid_row": null,
            "grid_template_areas": null,
            "grid_template_columns": null,
            "grid_template_rows": null,
            "height": null,
            "justify_content": null,
            "justify_items": null,
            "left": null,
            "margin": null,
            "max_height": null,
            "max_width": null,
            "min_height": null,
            "min_width": null,
            "object_fit": null,
            "object_position": null,
            "order": null,
            "overflow": null,
            "overflow_x": null,
            "overflow_y": null,
            "padding": null,
            "right": null,
            "top": null,
            "visibility": null,
            "width": null
          }
        },
        "12be1c7136a14b01b06c9f9fd2874a2a": {
          "model_module": "@jupyter-widgets/controls",
          "model_module_version": "1.5.0",
          "model_name": "FloatProgressModel",
          "state": {
            "_dom_classes": [],
            "_model_module": "@jupyter-widgets/controls",
            "_model_module_version": "1.5.0",
            "_model_name": "FloatProgressModel",
            "_view_count": null,
            "_view_module": "@jupyter-widgets/controls",
            "_view_module_version": "1.5.0",
            "_view_name": "ProgressView",
            "bar_style": "success",
            "description": "",
            "description_tooltip": null,
            "layout": "IPY_MODEL_71e057aece484753a70e58f20d74f732",
            "max": 352824413,
            "min": 0,
            "orientation": "horizontal",
            "style": "IPY_MODEL_8ad88f02fb7946d484addb62cdbc2012",
            "value": 352824413
          }
        },
        "1602a98f94dd49549c633471c5c6138f": {
          "model_module": "@jupyter-widgets/controls",
          "model_module_version": "1.5.0",
          "model_name": "DescriptionStyleModel",
          "state": {
            "_model_module": "@jupyter-widgets/controls",
            "_model_module_version": "1.5.0",
            "_model_name": "DescriptionStyleModel",
            "_view_count": null,
            "_view_module": "@jupyter-widgets/base",
            "_view_module_version": "1.2.0",
            "_view_name": "StyleView",
            "description_width": ""
          }
        },
        "173a08c4729c43ab955494561925372b": {
          "model_module": "@jupyter-widgets/controls",
          "model_module_version": "1.5.0",
          "model_name": "HTMLModel",
          "state": {
            "_dom_classes": [],
            "_model_module": "@jupyter-widgets/controls",
            "_model_module_version": "1.5.0",
            "_model_name": "HTMLModel",
            "_view_count": null,
            "_view_module": "@jupyter-widgets/controls",
            "_view_module_version": "1.5.0",
            "_view_name": "HTMLView",
            "description": "",
            "description_tooltip": null,
            "layout": "IPY_MODEL_dd81e19e5b384b70bb72103062b83f09",
            "placeholder": "​",
            "style": "IPY_MODEL_c31d3ebddca44cdbaa255e4bb9722089",
            "value": "README.md: 100%"
          }
        },
        "179b045686d446d3b46cd4584c96233a": {
          "model_module": "@jupyter-widgets/controls",
          "model_module_version": "1.5.0",
          "model_name": "FloatProgressModel",
          "state": {
            "_dom_classes": [],
            "_model_module": "@jupyter-widgets/controls",
            "_model_module_version": "1.5.0",
            "_model_name": "FloatProgressModel",
            "_view_count": null,
            "_view_module": "@jupyter-widgets/controls",
            "_view_module_version": "1.5.0",
            "_view_name": "ProgressView",
            "bar_style": "success",
            "description": "",
            "description_tooltip": null,
            "layout": "IPY_MODEL_2cba0d6c1bca48559ccca5f24d8715e6",
            "max": 4790520,
            "min": 0,
            "orientation": "horizontal",
            "style": "IPY_MODEL_87c36b0ba4ea4f34a730fe9fc35f4136",
            "value": 4790520
          }
        },
        "19f0be3832f145f7a1ac12bb1a27fce9": {
          "model_module": "@jupyter-widgets/base",
          "model_module_version": "1.2.0",
          "model_name": "LayoutModel",
          "state": {
            "_model_module": "@jupyter-widgets/base",
            "_model_module_version": "1.2.0",
            "_model_name": "LayoutModel",
            "_view_count": null,
            "_view_module": "@jupyter-widgets/base",
            "_view_module_version": "1.2.0",
            "_view_name": "LayoutView",
            "align_content": null,
            "align_items": null,
            "align_self": null,
            "border": null,
            "bottom": null,
            "display": null,
            "flex": null,
            "flex_flow": null,
            "grid_area": null,
            "grid_auto_columns": null,
            "grid_auto_flow": null,
            "grid_auto_rows": null,
            "grid_column": null,
            "grid_gap": null,
            "grid_row": null,
            "grid_template_areas": null,
            "grid_template_columns": null,
            "grid_template_rows": null,
            "height": null,
            "justify_content": null,
            "justify_items": null,
            "left": null,
            "margin": null,
            "max_height": null,
            "max_width": null,
            "min_height": null,
            "min_width": null,
            "object_fit": null,
            "object_position": null,
            "order": null,
            "overflow": null,
            "overflow_x": null,
            "overflow_y": null,
            "padding": null,
            "right": null,
            "top": null,
            "visibility": null,
            "width": null
          }
        },
        "1cd952f564c24922b64525809c24104b": {
          "model_module": "@jupyter-widgets/base",
          "model_module_version": "1.2.0",
          "model_name": "LayoutModel",
          "state": {
            "_model_module": "@jupyter-widgets/base",
            "_model_module_version": "1.2.0",
            "_model_name": "LayoutModel",
            "_view_count": null,
            "_view_module": "@jupyter-widgets/base",
            "_view_module_version": "1.2.0",
            "_view_name": "LayoutView",
            "align_content": null,
            "align_items": null,
            "align_self": null,
            "border": null,
            "bottom": null,
            "display": null,
            "flex": null,
            "flex_flow": null,
            "grid_area": null,
            "grid_auto_columns": null,
            "grid_auto_flow": null,
            "grid_auto_rows": null,
            "grid_column": null,
            "grid_gap": null,
            "grid_row": null,
            "grid_template_areas": null,
            "grid_template_columns": null,
            "grid_template_rows": null,
            "height": null,
            "justify_content": null,
            "justify_items": null,
            "left": null,
            "margin": null,
            "max_height": null,
            "max_width": null,
            "min_height": null,
            "min_width": null,
            "object_fit": null,
            "object_position": null,
            "order": null,
            "overflow": null,
            "overflow_x": null,
            "overflow_y": null,
            "padding": null,
            "right": null,
            "top": null,
            "visibility": null,
            "width": null
          }
        },
        "218c902074b74b628a99284bb56f8d76": {
          "model_module": "@jupyter-widgets/controls",
          "model_module_version": "1.5.0",
          "model_name": "ProgressStyleModel",
          "state": {
            "_model_module": "@jupyter-widgets/controls",
            "_model_module_version": "1.5.0",
            "_model_name": "ProgressStyleModel",
            "_view_count": null,
            "_view_module": "@jupyter-widgets/base",
            "_view_module_version": "1.2.0",
            "_view_name": "StyleView",
            "bar_color": null,
            "description_width": ""
          }
        },
        "22454f4484904d608063e9ac66b2a8a2": {
          "model_module": "@jupyter-widgets/base",
          "model_module_version": "1.2.0",
          "model_name": "LayoutModel",
          "state": {
            "_model_module": "@jupyter-widgets/base",
            "_model_module_version": "1.2.0",
            "_model_name": "LayoutModel",
            "_view_count": null,
            "_view_module": "@jupyter-widgets/base",
            "_view_module_version": "1.2.0",
            "_view_name": "LayoutView",
            "align_content": null,
            "align_items": null,
            "align_self": null,
            "border": null,
            "bottom": null,
            "display": null,
            "flex": null,
            "flex_flow": null,
            "grid_area": null,
            "grid_auto_columns": null,
            "grid_auto_flow": null,
            "grid_auto_rows": null,
            "grid_column": null,
            "grid_gap": null,
            "grid_row": null,
            "grid_template_areas": null,
            "grid_template_columns": null,
            "grid_template_rows": null,
            "height": null,
            "justify_content": null,
            "justify_items": null,
            "left": null,
            "margin": null,
            "max_height": null,
            "max_width": null,
            "min_height": null,
            "min_width": null,
            "object_fit": null,
            "object_position": null,
            "order": null,
            "overflow": null,
            "overflow_x": null,
            "overflow_y": null,
            "padding": null,
            "right": null,
            "top": null,
            "visibility": null,
            "width": null
          }
        },
        "22a31c5123ab4531b35ff4d4071c5614": {
          "model_module": "@jupyter-widgets/base",
          "model_module_version": "1.2.0",
          "model_name": "LayoutModel",
          "state": {
            "_model_module": "@jupyter-widgets/base",
            "_model_module_version": "1.2.0",
            "_model_name": "LayoutModel",
            "_view_count": null,
            "_view_module": "@jupyter-widgets/base",
            "_view_module_version": "1.2.0",
            "_view_name": "LayoutView",
            "align_content": null,
            "align_items": null,
            "align_self": null,
            "border": null,
            "bottom": null,
            "display": null,
            "flex": null,
            "flex_flow": null,
            "grid_area": null,
            "grid_auto_columns": null,
            "grid_auto_flow": null,
            "grid_auto_rows": null,
            "grid_column": null,
            "grid_gap": null,
            "grid_row": null,
            "grid_template_areas": null,
            "grid_template_columns": null,
            "grid_template_rows": null,
            "height": null,
            "justify_content": null,
            "justify_items": null,
            "left": null,
            "margin": null,
            "max_height": null,
            "max_width": null,
            "min_height": null,
            "min_width": null,
            "object_fit": null,
            "object_position": null,
            "order": null,
            "overflow": null,
            "overflow_x": null,
            "overflow_y": null,
            "padding": null,
            "right": null,
            "top": null,
            "visibility": null,
            "width": null
          }
        },
        "23d284a1ef064e0db3d3e33cf8cd06f7": {
          "model_module": "@jupyter-widgets/controls",
          "model_module_version": "1.5.0",
          "model_name": "HTMLModel",
          "state": {
            "_dom_classes": [],
            "_model_module": "@jupyter-widgets/controls",
            "_model_module_version": "1.5.0",
            "_model_name": "HTMLModel",
            "_view_count": null,
            "_view_module": "@jupyter-widgets/controls",
            "_view_module_version": "1.5.0",
            "_view_name": "HTMLView",
            "description": "",
            "description_tooltip": null,
            "layout": "IPY_MODEL_f69e7db22c5e4b0e9480f5641fa8ecfd",
            "placeholder": "​",
            "style": "IPY_MODEL_a610bc37bb19494b9b27206385d42705",
            "value": "model.safetensors: 100%"
          }
        },
        "285e7e85fb484656b10cc2c4d1b526fb": {
          "model_module": "@jupyter-widgets/controls",
          "model_module_version": "1.5.0",
          "model_name": "HTMLModel",
          "state": {
            "_dom_classes": [],
            "_model_module": "@jupyter-widgets/controls",
            "_model_module_version": "1.5.0",
            "_model_name": "HTMLModel",
            "_view_count": null,
            "_view_module": "@jupyter-widgets/controls",
            "_view_module_version": "1.5.0",
            "_view_name": "HTMLView",
            "description": "",
            "description_tooltip": null,
            "layout": "IPY_MODEL_1cd952f564c24922b64525809c24104b",
            "placeholder": "​",
            "style": "IPY_MODEL_1602a98f94dd49549c633471c5c6138f",
            "value": " 456k/456k [00:00&lt;00:00, 5.42MB/s]"
          }
        },
        "28d8ce1f4c074f75a72620d9b05f052f": {
          "model_module": "@jupyter-widgets/controls",
          "model_module_version": "1.5.0",
          "model_name": "HBoxModel",
          "state": {
            "_dom_classes": [],
            "_model_module": "@jupyter-widgets/controls",
            "_model_module_version": "1.5.0",
            "_model_name": "HBoxModel",
            "_view_count": null,
            "_view_module": "@jupyter-widgets/controls",
            "_view_module_version": "1.5.0",
            "_view_name": "HBoxView",
            "box_style": "",
            "children": [
              "IPY_MODEL_8794f520eded4fb3934ff57ce82d0d41",
              "IPY_MODEL_179b045686d446d3b46cd4584c96233a",
              "IPY_MODEL_e15272e5bd754c08baad9df5c52010de"
            ],
            "layout": "IPY_MODEL_c495c2eacf1d4426825fd14cafdbae54"
          }
        },
        "29fe2ff390334bac9cac5fbde39c28d0": {
          "model_module": "@jupyter-widgets/controls",
          "model_module_version": "1.5.0",
          "model_name": "DescriptionStyleModel",
          "state": {
            "_model_module": "@jupyter-widgets/controls",
            "_model_module_version": "1.5.0",
            "_model_name": "DescriptionStyleModel",
            "_view_count": null,
            "_view_module": "@jupyter-widgets/base",
            "_view_module_version": "1.2.0",
            "_view_name": "StyleView",
            "description_width": ""
          }
        },
        "2b81cf6538134762b4936ff008457c49": {
          "model_module": "@jupyter-widgets/controls",
          "model_module_version": "1.5.0",
          "model_name": "DescriptionStyleModel",
          "state": {
            "_model_module": "@jupyter-widgets/controls",
            "_model_module_version": "1.5.0",
            "_model_name": "DescriptionStyleModel",
            "_view_count": null,
            "_view_module": "@jupyter-widgets/base",
            "_view_module_version": "1.2.0",
            "_view_name": "StyleView",
            "description_width": ""
          }
        },
        "2c54e5355c034d999f56d361ea5291c7": {
          "model_module": "@jupyter-widgets/base",
          "model_module_version": "1.2.0",
          "model_name": "LayoutModel",
          "state": {
            "_model_module": "@jupyter-widgets/base",
            "_model_module_version": "1.2.0",
            "_model_name": "LayoutModel",
            "_view_count": null,
            "_view_module": "@jupyter-widgets/base",
            "_view_module_version": "1.2.0",
            "_view_name": "LayoutView",
            "align_content": null,
            "align_items": null,
            "align_self": null,
            "border": null,
            "bottom": null,
            "display": null,
            "flex": null,
            "flex_flow": null,
            "grid_area": null,
            "grid_auto_columns": null,
            "grid_auto_flow": null,
            "grid_auto_rows": null,
            "grid_column": null,
            "grid_gap": null,
            "grid_row": null,
            "grid_template_areas": null,
            "grid_template_columns": null,
            "grid_template_rows": null,
            "height": null,
            "justify_content": null,
            "justify_items": null,
            "left": null,
            "margin": null,
            "max_height": null,
            "max_width": null,
            "min_height": null,
            "min_width": null,
            "object_fit": null,
            "object_position": null,
            "order": null,
            "overflow": null,
            "overflow_x": null,
            "overflow_y": null,
            "padding": null,
            "right": null,
            "top": null,
            "visibility": null,
            "width": null
          }
        },
        "2cba0d6c1bca48559ccca5f24d8715e6": {
          "model_module": "@jupyter-widgets/base",
          "model_module_version": "1.2.0",
          "model_name": "LayoutModel",
          "state": {
            "_model_module": "@jupyter-widgets/base",
            "_model_module_version": "1.2.0",
            "_model_name": "LayoutModel",
            "_view_count": null,
            "_view_module": "@jupyter-widgets/base",
            "_view_module_version": "1.2.0",
            "_view_name": "LayoutView",
            "align_content": null,
            "align_items": null,
            "align_self": null,
            "border": null,
            "bottom": null,
            "display": null,
            "flex": null,
            "flex_flow": null,
            "grid_area": null,
            "grid_auto_columns": null,
            "grid_auto_flow": null,
            "grid_auto_rows": null,
            "grid_column": null,
            "grid_gap": null,
            "grid_row": null,
            "grid_template_areas": null,
            "grid_template_columns": null,
            "grid_template_rows": null,
            "height": null,
            "justify_content": null,
            "justify_items": null,
            "left": null,
            "margin": null,
            "max_height": null,
            "max_width": null,
            "min_height": null,
            "min_width": null,
            "object_fit": null,
            "object_position": null,
            "order": null,
            "overflow": null,
            "overflow_x": null,
            "overflow_y": null,
            "padding": null,
            "right": null,
            "top": null,
            "visibility": null,
            "width": null
          }
        },
        "2e6874f26cdd4ef89667c4b854610861": {
          "model_module": "@jupyter-widgets/controls",
          "model_module_version": "1.5.0",
          "model_name": "FloatProgressModel",
          "state": {
            "_dom_classes": [],
            "_model_module": "@jupyter-widgets/controls",
            "_model_module_version": "1.5.0",
            "_model_name": "FloatProgressModel",
            "_view_count": null,
            "_view_module": "@jupyter-widgets/controls",
            "_view_module_version": "1.5.0",
            "_view_name": "ProgressView",
            "bar_style": "success",
            "description": "",
            "description_tooltip": null,
            "layout": "IPY_MODEL_cc93269e36c04ba88052834c05dbfc6b",
            "max": 26,
            "min": 0,
            "orientation": "horizontal",
            "style": "IPY_MODEL_67be745d18854f0a90644dc6345daf6f",
            "value": 26
          }
        },
        "2ebaccfacae34e23aa54731efa2e16e3": {
          "model_module": "@jupyter-widgets/controls",
          "model_module_version": "1.5.0",
          "model_name": "DescriptionStyleModel",
          "state": {
            "_model_module": "@jupyter-widgets/controls",
            "_model_module_version": "1.5.0",
            "_model_name": "DescriptionStyleModel",
            "_view_count": null,
            "_view_module": "@jupyter-widgets/base",
            "_view_module_version": "1.2.0",
            "_view_name": "StyleView",
            "description_width": ""
          }
        },
        "2f66fad2fb3d40b383ed48c7ae052f3a": {
          "model_module": "@jupyter-widgets/base",
          "model_module_version": "1.2.0",
          "model_name": "LayoutModel",
          "state": {
            "_model_module": "@jupyter-widgets/base",
            "_model_module_version": "1.2.0",
            "_model_name": "LayoutModel",
            "_view_count": null,
            "_view_module": "@jupyter-widgets/base",
            "_view_module_version": "1.2.0",
            "_view_name": "LayoutView",
            "align_content": null,
            "align_items": null,
            "align_self": null,
            "border": null,
            "bottom": null,
            "display": null,
            "flex": null,
            "flex_flow": null,
            "grid_area": null,
            "grid_auto_columns": null,
            "grid_auto_flow": null,
            "grid_auto_rows": null,
            "grid_column": null,
            "grid_gap": null,
            "grid_row": null,
            "grid_template_areas": null,
            "grid_template_columns": null,
            "grid_template_rows": null,
            "height": null,
            "justify_content": null,
            "justify_items": null,
            "left": null,
            "margin": null,
            "max_height": null,
            "max_width": null,
            "min_height": null,
            "min_width": null,
            "object_fit": null,
            "object_position": null,
            "order": null,
            "overflow": null,
            "overflow_x": null,
            "overflow_y": null,
            "padding": null,
            "right": null,
            "top": null,
            "visibility": null,
            "width": null
          }
        },
        "2f7004173db54f058ece68b359b085da": {
          "model_module": "@jupyter-widgets/controls",
          "model_module_version": "1.5.0",
          "model_name": "HTMLModel",
          "state": {
            "_dom_classes": [],
            "_model_module": "@jupyter-widgets/controls",
            "_model_module_version": "1.5.0",
            "_model_name": "HTMLModel",
            "_view_count": null,
            "_view_module": "@jupyter-widgets/controls",
            "_view_module_version": "1.5.0",
            "_view_name": "HTMLView",
            "description": "",
            "description_tooltip": null,
            "layout": "IPY_MODEL_38f76d2c9e554ab3ba445fb138bd7114",
            "placeholder": "​",
            "style": "IPY_MODEL_afd26cfa366849dcbc75053afe0c1daa",
            "value": " 1.04M/1.04M [00:00&lt;00:00, 4.16MB/s]"
          }
        },
        "35c4ed7b8ec348d8ad81eb8c9252d487": {
          "model_module": "@jupyter-widgets/base",
          "model_module_version": "1.2.0",
          "model_name": "LayoutModel",
          "state": {
            "_model_module": "@jupyter-widgets/base",
            "_model_module_version": "1.2.0",
            "_model_name": "LayoutModel",
            "_view_count": null,
            "_view_module": "@jupyter-widgets/base",
            "_view_module_version": "1.2.0",
            "_view_name": "LayoutView",
            "align_content": null,
            "align_items": null,
            "align_self": null,
            "border": null,
            "bottom": null,
            "display": null,
            "flex": null,
            "flex_flow": null,
            "grid_area": null,
            "grid_auto_columns": null,
            "grid_auto_flow": null,
            "grid_auto_rows": null,
            "grid_column": null,
            "grid_gap": null,
            "grid_row": null,
            "grid_template_areas": null,
            "grid_template_columns": null,
            "grid_template_rows": null,
            "height": null,
            "justify_content": null,
            "justify_items": null,
            "left": null,
            "margin": null,
            "max_height": null,
            "max_width": null,
            "min_height": null,
            "min_width": null,
            "object_fit": null,
            "object_position": null,
            "order": null,
            "overflow": null,
            "overflow_x": null,
            "overflow_y": null,
            "padding": null,
            "right": null,
            "top": null,
            "visibility": null,
            "width": null
          }
        },
        "36a5c6c9ccaf463c875b47d4222173b1": {
          "model_module": "@jupyter-widgets/controls",
          "model_module_version": "1.5.0",
          "model_name": "ProgressStyleModel",
          "state": {
            "_model_module": "@jupyter-widgets/controls",
            "_model_module_version": "1.5.0",
            "_model_name": "ProgressStyleModel",
            "_view_count": null,
            "_view_module": "@jupyter-widgets/base",
            "_view_module_version": "1.2.0",
            "_view_name": "StyleView",
            "bar_color": null,
            "description_width": ""
          }
        },
        "37fae069102744a8bbbc91ce1e9d3640": {
          "model_module": "@jupyter-widgets/controls",
          "model_module_version": "1.5.0",
          "model_name": "FloatProgressModel",
          "state": {
            "_dom_classes": [],
            "_model_module": "@jupyter-widgets/controls",
            "_model_module_version": "1.5.0",
            "_model_name": "FloatProgressModel",
            "_view_count": null,
            "_view_module": "@jupyter-widgets/controls",
            "_view_module_version": "1.5.0",
            "_view_name": "ProgressView",
            "bar_style": "success",
            "description": "",
            "description_tooltip": null,
            "layout": "IPY_MODEL_3e70812739cf4cd4a6a91d70cff9cf85",
            "max": 1042301,
            "min": 0,
            "orientation": "horizontal",
            "style": "IPY_MODEL_409fd0ac02d14554883e0964f9da1081",
            "value": 1042301
          }
        },
        "38e91e90244f42aab36d755691a26e4b": {
          "model_module": "@jupyter-widgets/controls",
          "model_module_version": "1.5.0",
          "model_name": "FloatProgressModel",
          "state": {
            "_dom_classes": [],
            "_model_module": "@jupyter-widgets/controls",
            "_model_module_version": "1.5.0",
            "_model_name": "FloatProgressModel",
            "_view_count": null,
            "_view_module": "@jupyter-widgets/controls",
            "_view_module_version": "1.5.0",
            "_view_name": "ProgressView",
            "bar_style": "success",
            "description": "",
            "description_tooltip": null,
            "layout": "IPY_MODEL_01cae63fe6a64b46a3a3de025f2a5b32",
            "max": 2816,
            "min": 0,
            "orientation": "horizontal",
            "style": "IPY_MODEL_b1ad7fab33404321a5283a2299f15178",
            "value": 2816
          }
        },
        "38f76d2c9e554ab3ba445fb138bd7114": {
          "model_module": "@jupyter-widgets/base",
          "model_module_version": "1.2.0",
          "model_name": "LayoutModel",
          "state": {
            "_model_module": "@jupyter-widgets/base",
            "_model_module_version": "1.2.0",
            "_model_name": "LayoutModel",
            "_view_count": null,
            "_view_module": "@jupyter-widgets/base",
            "_view_module_version": "1.2.0",
            "_view_name": "LayoutView",
            "align_content": null,
            "align_items": null,
            "align_self": null,
            "border": null,
            "bottom": null,
            "display": null,
            "flex": null,
            "flex_flow": null,
            "grid_area": null,
            "grid_auto_columns": null,
            "grid_auto_flow": null,
            "grid_auto_rows": null,
            "grid_column": null,
            "grid_gap": null,
            "grid_row": null,
            "grid_template_areas": null,
            "grid_template_columns": null,
            "grid_template_rows": null,
            "height": null,
            "justify_content": null,
            "justify_items": null,
            "left": null,
            "margin": null,
            "max_height": null,
            "max_width": null,
            "min_height": null,
            "min_width": null,
            "object_fit": null,
            "object_position": null,
            "order": null,
            "overflow": null,
            "overflow_x": null,
            "overflow_y": null,
            "padding": null,
            "right": null,
            "top": null,
            "visibility": null,
            "width": null
          }
        },
        "3a4d5b341443462f8026c75da7e07c2e": {
          "model_module": "@jupyter-widgets/base",
          "model_module_version": "1.2.0",
          "model_name": "LayoutModel",
          "state": {
            "_model_module": "@jupyter-widgets/base",
            "_model_module_version": "1.2.0",
            "_model_name": "LayoutModel",
            "_view_count": null,
            "_view_module": "@jupyter-widgets/base",
            "_view_module_version": "1.2.0",
            "_view_name": "LayoutView",
            "align_content": null,
            "align_items": null,
            "align_self": null,
            "border": null,
            "bottom": null,
            "display": null,
            "flex": null,
            "flex_flow": null,
            "grid_area": null,
            "grid_auto_columns": null,
            "grid_auto_flow": null,
            "grid_auto_rows": null,
            "grid_column": null,
            "grid_gap": null,
            "grid_row": null,
            "grid_template_areas": null,
            "grid_template_columns": null,
            "grid_template_rows": null,
            "height": null,
            "justify_content": null,
            "justify_items": null,
            "left": null,
            "margin": null,
            "max_height": null,
            "max_width": null,
            "min_height": null,
            "min_width": null,
            "object_fit": null,
            "object_position": null,
            "order": null,
            "overflow": null,
            "overflow_x": null,
            "overflow_y": null,
            "padding": null,
            "right": null,
            "top": null,
            "visibility": null,
            "width": null
          }
        },
        "3be53ae891224381a3dc0fac3c8eb36f": {
          "model_module": "@jupyter-widgets/controls",
          "model_module_version": "1.5.0",
          "model_name": "HTMLModel",
          "state": {
            "_dom_classes": [],
            "_model_module": "@jupyter-widgets/controls",
            "_model_module_version": "1.5.0",
            "_model_name": "HTMLModel",
            "_view_count": null,
            "_view_module": "@jupyter-widgets/controls",
            "_view_module_version": "1.5.0",
            "_view_name": "HTMLView",
            "description": "",
            "description_tooltip": null,
            "layout": "IPY_MODEL_9ae4232ac8c149bfbaa904d7fd0c7864",
            "placeholder": "​",
            "style": "IPY_MODEL_c556e77afa0147feb589ff20f278dd38",
            "value": " 124/124 [00:00&lt;00:00, 4.74kB/s]"
          }
        },
        "3c20c9e8bacf42dfbee5cb65c834db51": {
          "model_module": "@jupyter-widgets/controls",
          "model_module_version": "1.5.0",
          "model_name": "DescriptionStyleModel",
          "state": {
            "_model_module": "@jupyter-widgets/controls",
            "_model_module_version": "1.5.0",
            "_model_name": "DescriptionStyleModel",
            "_view_count": null,
            "_view_module": "@jupyter-widgets/base",
            "_view_module_version": "1.2.0",
            "_view_name": "StyleView",
            "description_width": ""
          }
        },
        "3d5f15aecab149a68977140d63a4c12c": {
          "model_module": "@jupyter-widgets/controls",
          "model_module_version": "1.5.0",
          "model_name": "FloatProgressModel",
          "state": {
            "_dom_classes": [],
            "_model_module": "@jupyter-widgets/controls",
            "_model_module_version": "1.5.0",
            "_model_name": "FloatProgressModel",
            "_view_count": null,
            "_view_module": "@jupyter-widgets/controls",
            "_view_module_version": "1.5.0",
            "_view_name": "ProgressView",
            "bar_style": "success",
            "description": "",
            "description_tooltip": null,
            "layout": "IPY_MODEL_0e6813046a334ce98902dd753b9213c9",
            "max": 3512,
            "min": 0,
            "orientation": "horizontal",
            "style": "IPY_MODEL_9a80e6c5c8b64cac9a58005360f03117",
            "value": 3512
          }
        },
        "3e70812739cf4cd4a6a91d70cff9cf85": {
          "model_module": "@jupyter-widgets/base",
          "model_module_version": "1.2.0",
          "model_name": "LayoutModel",
          "state": {
            "_model_module": "@jupyter-widgets/base",
            "_model_module_version": "1.2.0",
            "_model_name": "LayoutModel",
            "_view_count": null,
            "_view_module": "@jupyter-widgets/base",
            "_view_module_version": "1.2.0",
            "_view_name": "LayoutView",
            "align_content": null,
            "align_items": null,
            "align_self": null,
            "border": null,
            "bottom": null,
            "display": null,
            "flex": null,
            "flex_flow": null,
            "grid_area": null,
            "grid_auto_columns": null,
            "grid_auto_flow": null,
            "grid_auto_rows": null,
            "grid_column": null,
            "grid_gap": null,
            "grid_row": null,
            "grid_template_areas": null,
            "grid_template_columns": null,
            "grid_template_rows": null,
            "height": null,
            "justify_content": null,
            "justify_items": null,
            "left": null,
            "margin": null,
            "max_height": null,
            "max_width": null,
            "min_height": null,
            "min_width": null,
            "object_fit": null,
            "object_position": null,
            "order": null,
            "overflow": null,
            "overflow_x": null,
            "overflow_y": null,
            "padding": null,
            "right": null,
            "top": null,
            "visibility": null,
            "width": null
          }
        },
        "409fd0ac02d14554883e0964f9da1081": {
          "model_module": "@jupyter-widgets/controls",
          "model_module_version": "1.5.0",
          "model_name": "ProgressStyleModel",
          "state": {
            "_model_module": "@jupyter-widgets/controls",
            "_model_module_version": "1.5.0",
            "_model_name": "ProgressStyleModel",
            "_view_count": null,
            "_view_module": "@jupyter-widgets/base",
            "_view_module_version": "1.2.0",
            "_view_name": "StyleView",
            "bar_color": null,
            "description_width": ""
          }
        },
        "41426f3dd27d4478a5767172ffd49b49": {
          "model_module": "@jupyter-widgets/controls",
          "model_module_version": "1.5.0",
          "model_name": "DescriptionStyleModel",
          "state": {
            "_model_module": "@jupyter-widgets/controls",
            "_model_module_version": "1.5.0",
            "_model_name": "DescriptionStyleModel",
            "_view_count": null,
            "_view_module": "@jupyter-widgets/base",
            "_view_module_version": "1.2.0",
            "_view_name": "StyleView",
            "description_width": ""
          }
        },
        "42900fa8f77b427d9da1569c095bfc91": {
          "model_module": "@jupyter-widgets/controls",
          "model_module_version": "1.5.0",
          "model_name": "HTMLModel",
          "state": {
            "_dom_classes": [],
            "_model_module": "@jupyter-widgets/controls",
            "_model_module_version": "1.5.0",
            "_model_name": "HTMLModel",
            "_view_count": null,
            "_view_module": "@jupyter-widgets/controls",
            "_view_module_version": "1.5.0",
            "_view_name": "HTMLView",
            "description": "",
            "description_tooltip": null,
            "layout": "IPY_MODEL_a2640f6cbefa40ca9177bcf126c6a078",
            "placeholder": "​",
            "style": "IPY_MODEL_de622c1c71bb4183a8e92b63b395ad7c",
            "value": " 3512/3512 [00:00&lt;00:00, 19550.21 examples/s]"
          }
        },
        "46408263a439430facfe78dbf106b2f3": {
          "model_module": "@jupyter-widgets/base",
          "model_module_version": "1.2.0",
          "model_name": "LayoutModel",
          "state": {
            "_model_module": "@jupyter-widgets/base",
            "_model_module_version": "1.2.0",
            "_model_name": "LayoutModel",
            "_view_count": null,
            "_view_module": "@jupyter-widgets/base",
            "_view_module_version": "1.2.0",
            "_view_name": "LayoutView",
            "align_content": null,
            "align_items": null,
            "align_self": null,
            "border": null,
            "bottom": null,
            "display": null,
            "flex": null,
            "flex_flow": null,
            "grid_area": null,
            "grid_auto_columns": null,
            "grid_auto_flow": null,
            "grid_auto_rows": null,
            "grid_column": null,
            "grid_gap": null,
            "grid_row": null,
            "grid_template_areas": null,
            "grid_template_columns": null,
            "grid_template_rows": null,
            "height": null,
            "justify_content": null,
            "justify_items": null,
            "left": null,
            "margin": null,
            "max_height": null,
            "max_width": null,
            "min_height": null,
            "min_width": null,
            "object_fit": null,
            "object_position": null,
            "order": null,
            "overflow": null,
            "overflow_x": null,
            "overflow_y": null,
            "padding": null,
            "right": null,
            "top": null,
            "visibility": null,
            "width": null
          }
        },
        "4c5c44bc23a745409e19c16cd77695bf": {
          "model_module": "@jupyter-widgets/controls",
          "model_module_version": "1.5.0",
          "model_name": "DescriptionStyleModel",
          "state": {
            "_model_module": "@jupyter-widgets/controls",
            "_model_module_version": "1.5.0",
            "_model_name": "DescriptionStyleModel",
            "_view_count": null,
            "_view_module": "@jupyter-widgets/base",
            "_view_module_version": "1.2.0",
            "_view_name": "StyleView",
            "description_width": ""
          }
        },
        "4d8670f2577748199e8a4f06a6240ef4": {
          "model_module": "@jupyter-widgets/controls",
          "model_module_version": "1.5.0",
          "model_name": "DescriptionStyleModel",
          "state": {
            "_model_module": "@jupyter-widgets/controls",
            "_model_module_version": "1.5.0",
            "_model_name": "DescriptionStyleModel",
            "_view_count": null,
            "_view_module": "@jupyter-widgets/base",
            "_view_module_version": "1.2.0",
            "_view_name": "StyleView",
            "description_width": ""
          }
        },
        "4ea0a97f7ca2467597d7dd25455edfa6": {
          "model_module": "@jupyter-widgets/controls",
          "model_module_version": "1.5.0",
          "model_name": "ProgressStyleModel",
          "state": {
            "_model_module": "@jupyter-widgets/controls",
            "_model_module_version": "1.5.0",
            "_model_name": "ProgressStyleModel",
            "_view_count": null,
            "_view_module": "@jupyter-widgets/base",
            "_view_module_version": "1.2.0",
            "_view_name": "StyleView",
            "bar_color": null,
            "description_width": ""
          }
        },
        "58b41ddceee94be299bc63c0b008c364": {
          "model_module": "@jupyter-widgets/base",
          "model_module_version": "1.2.0",
          "model_name": "LayoutModel",
          "state": {
            "_model_module": "@jupyter-widgets/base",
            "_model_module_version": "1.2.0",
            "_model_name": "LayoutModel",
            "_view_count": null,
            "_view_module": "@jupyter-widgets/base",
            "_view_module_version": "1.2.0",
            "_view_name": "LayoutView",
            "align_content": null,
            "align_items": null,
            "align_self": null,
            "border": null,
            "bottom": null,
            "display": null,
            "flex": null,
            "flex_flow": null,
            "grid_area": null,
            "grid_auto_columns": null,
            "grid_auto_flow": null,
            "grid_auto_rows": null,
            "grid_column": null,
            "grid_gap": null,
            "grid_row": null,
            "grid_template_areas": null,
            "grid_template_columns": null,
            "grid_template_rows": null,
            "height": null,
            "justify_content": null,
            "justify_items": null,
            "left": null,
            "margin": null,
            "max_height": null,
            "max_width": null,
            "min_height": null,
            "min_width": null,
            "object_fit": null,
            "object_position": null,
            "order": null,
            "overflow": null,
            "overflow_x": null,
            "overflow_y": null,
            "padding": null,
            "right": null,
            "top": null,
            "visibility": null,
            "width": null
          }
        },
        "5b6b855464d74c6bab28a85751861727": {
          "model_module": "@jupyter-widgets/controls",
          "model_module_version": "1.5.0",
          "model_name": "HBoxModel",
          "state": {
            "_dom_classes": [],
            "_model_module": "@jupyter-widgets/controls",
            "_model_module_version": "1.5.0",
            "_model_name": "HBoxModel",
            "_view_count": null,
            "_view_module": "@jupyter-widgets/controls",
            "_view_module_version": "1.5.0",
            "_view_name": "HBoxView",
            "box_style": "",
            "children": [
              "IPY_MODEL_cb349d87b3844fb281000235c404ba80",
              "IPY_MODEL_2e6874f26cdd4ef89667c4b854610861",
              "IPY_MODEL_8d31c6d16ad043b99d85a6cfa7f874eb"
            ],
            "layout": "IPY_MODEL_c2b0d347fce04288901310dbb7a07cf7"
          }
        },
        "60b4c71d526c401f994df8d1cfe5bb6d": {
          "model_module": "@jupyter-widgets/controls",
          "model_module_version": "1.5.0",
          "model_name": "HBoxModel",
          "state": {
            "_dom_classes": [],
            "_model_module": "@jupyter-widgets/controls",
            "_model_module_version": "1.5.0",
            "_model_name": "HBoxModel",
            "_view_count": null,
            "_view_module": "@jupyter-widgets/controls",
            "_view_module_version": "1.5.0",
            "_view_name": "HBoxView",
            "box_style": "",
            "children": [
              "IPY_MODEL_8a6edd6040c24f27bd38ad2c3d54c4dc",
              "IPY_MODEL_3d5f15aecab149a68977140d63a4c12c",
              "IPY_MODEL_c8510dc2d8474bae833baa8f6c71cf77"
            ],
            "layout": "IPY_MODEL_78e278f57d0e47eaa20899ec306cd987"
          }
        },
        "61e727f41635486f9e81e94ddcb0f502": {
          "model_module": "@jupyter-widgets/controls",
          "model_module_version": "1.5.0",
          "model_name": "DescriptionStyleModel",
          "state": {
            "_model_module": "@jupyter-widgets/controls",
            "_model_module_version": "1.5.0",
            "_model_name": "DescriptionStyleModel",
            "_view_count": null,
            "_view_module": "@jupyter-widgets/base",
            "_view_module_version": "1.2.0",
            "_view_name": "StyleView",
            "description_width": ""
          }
        },
        "6203c231c4014d95b2fce3bf2dff146c": {
          "model_module": "@jupyter-widgets/controls",
          "model_module_version": "1.5.0",
          "model_name": "DescriptionStyleModel",
          "state": {
            "_model_module": "@jupyter-widgets/controls",
            "_model_module_version": "1.5.0",
            "_model_name": "DescriptionStyleModel",
            "_view_count": null,
            "_view_module": "@jupyter-widgets/base",
            "_view_module_version": "1.2.0",
            "_view_name": "StyleView",
            "description_width": ""
          }
        },
        "64cad14e1f0c40b197c499b3b994e1d4": {
          "model_module": "@jupyter-widgets/controls",
          "model_module_version": "1.5.0",
          "model_name": "HTMLModel",
          "state": {
            "_dom_classes": [],
            "_model_module": "@jupyter-widgets/controls",
            "_model_module_version": "1.5.0",
            "_model_name": "HTMLModel",
            "_view_count": null,
            "_view_module": "@jupyter-widgets/controls",
            "_view_module_version": "1.5.0",
            "_view_name": "HTMLView",
            "description": "",
            "description_tooltip": null,
            "layout": "IPY_MODEL_88d19935bf0242e78dd97c488d43460e",
            "placeholder": "​",
            "style": "IPY_MODEL_954236d5970e4580aa590306a410ba14",
            "value": "config.json: 100%"
          }
        },
        "67be745d18854f0a90644dc6345daf6f": {
          "model_module": "@jupyter-widgets/controls",
          "model_module_version": "1.5.0",
          "model_name": "ProgressStyleModel",
          "state": {
            "_model_module": "@jupyter-widgets/controls",
            "_model_module_version": "1.5.0",
            "_model_name": "ProgressStyleModel",
            "_view_count": null,
            "_view_module": "@jupyter-widgets/base",
            "_view_module_version": "1.2.0",
            "_view_name": "StyleView",
            "bar_color": null,
            "description_width": ""
          }
        },
        "67ef00628b954ceaab884fc9d4b9fe87": {
          "model_module": "@jupyter-widgets/base",
          "model_module_version": "1.2.0",
          "model_name": "LayoutModel",
          "state": {
            "_model_module": "@jupyter-widgets/base",
            "_model_module_version": "1.2.0",
            "_model_name": "LayoutModel",
            "_view_count": null,
            "_view_module": "@jupyter-widgets/base",
            "_view_module_version": "1.2.0",
            "_view_name": "LayoutView",
            "align_content": null,
            "align_items": null,
            "align_self": null,
            "border": null,
            "bottom": null,
            "display": null,
            "flex": null,
            "flex_flow": null,
            "grid_area": null,
            "grid_auto_columns": null,
            "grid_auto_flow": null,
            "grid_auto_rows": null,
            "grid_column": null,
            "grid_gap": null,
            "grid_row": null,
            "grid_template_areas": null,
            "grid_template_columns": null,
            "grid_template_rows": null,
            "height": null,
            "justify_content": null,
            "justify_items": null,
            "left": null,
            "margin": null,
            "max_height": null,
            "max_width": null,
            "min_height": null,
            "min_width": null,
            "object_fit": null,
            "object_position": null,
            "order": null,
            "overflow": null,
            "overflow_x": null,
            "overflow_y": null,
            "padding": null,
            "right": null,
            "top": null,
            "visibility": null,
            "width": null
          }
        },
        "6d7e94fce2c04c8089b5df73d3f43fb4": {
          "model_module": "@jupyter-widgets/base",
          "model_module_version": "1.2.0",
          "model_name": "LayoutModel",
          "state": {
            "_model_module": "@jupyter-widgets/base",
            "_model_module_version": "1.2.0",
            "_model_name": "LayoutModel",
            "_view_count": null,
            "_view_module": "@jupyter-widgets/base",
            "_view_module_version": "1.2.0",
            "_view_name": "LayoutView",
            "align_content": null,
            "align_items": null,
            "align_self": null,
            "border": null,
            "bottom": null,
            "display": null,
            "flex": null,
            "flex_flow": null,
            "grid_area": null,
            "grid_auto_columns": null,
            "grid_auto_flow": null,
            "grid_auto_rows": null,
            "grid_column": null,
            "grid_gap": null,
            "grid_row": null,
            "grid_template_areas": null,
            "grid_template_columns": null,
            "grid_template_rows": null,
            "height": null,
            "justify_content": null,
            "justify_items": null,
            "left": null,
            "margin": null,
            "max_height": null,
            "max_width": null,
            "min_height": null,
            "min_width": null,
            "object_fit": null,
            "object_position": null,
            "order": null,
            "overflow": null,
            "overflow_x": null,
            "overflow_y": null,
            "padding": null,
            "right": null,
            "top": null,
            "visibility": null,
            "width": null
          }
        },
        "71e057aece484753a70e58f20d74f732": {
          "model_module": "@jupyter-widgets/base",
          "model_module_version": "1.2.0",
          "model_name": "LayoutModel",
          "state": {
            "_model_module": "@jupyter-widgets/base",
            "_model_module_version": "1.2.0",
            "_model_name": "LayoutModel",
            "_view_count": null,
            "_view_module": "@jupyter-widgets/base",
            "_view_module_version": "1.2.0",
            "_view_name": "LayoutView",
            "align_content": null,
            "align_items": null,
            "align_self": null,
            "border": null,
            "bottom": null,
            "display": null,
            "flex": null,
            "flex_flow": null,
            "grid_area": null,
            "grid_auto_columns": null,
            "grid_auto_flow": null,
            "grid_auto_rows": null,
            "grid_column": null,
            "grid_gap": null,
            "grid_row": null,
            "grid_template_areas": null,
            "grid_template_columns": null,
            "grid_template_rows": null,
            "height": null,
            "justify_content": null,
            "justify_items": null,
            "left": null,
            "margin": null,
            "max_height": null,
            "max_width": null,
            "min_height": null,
            "min_width": null,
            "object_fit": null,
            "object_position": null,
            "order": null,
            "overflow": null,
            "overflow_x": null,
            "overflow_y": null,
            "padding": null,
            "right": null,
            "top": null,
            "visibility": null,
            "width": null
          }
        },
        "77935d82aabc46aa9dce6fcaa5411226": {
          "model_module": "@jupyter-widgets/base",
          "model_module_version": "1.2.0",
          "model_name": "LayoutModel",
          "state": {
            "_model_module": "@jupyter-widgets/base",
            "_model_module_version": "1.2.0",
            "_model_name": "LayoutModel",
            "_view_count": null,
            "_view_module": "@jupyter-widgets/base",
            "_view_module_version": "1.2.0",
            "_view_name": "LayoutView",
            "align_content": null,
            "align_items": null,
            "align_self": null,
            "border": null,
            "bottom": null,
            "display": null,
            "flex": null,
            "flex_flow": null,
            "grid_area": null,
            "grid_auto_columns": null,
            "grid_auto_flow": null,
            "grid_auto_rows": null,
            "grid_column": null,
            "grid_gap": null,
            "grid_row": null,
            "grid_template_areas": null,
            "grid_template_columns": null,
            "grid_template_rows": null,
            "height": null,
            "justify_content": null,
            "justify_items": null,
            "left": null,
            "margin": null,
            "max_height": null,
            "max_width": null,
            "min_height": null,
            "min_width": null,
            "object_fit": null,
            "object_position": null,
            "order": null,
            "overflow": null,
            "overflow_x": null,
            "overflow_y": null,
            "padding": null,
            "right": null,
            "top": null,
            "visibility": null,
            "width": null
          }
        },
        "78d77d357acb40029e1fe76a3b786288": {
          "model_module": "@jupyter-widgets/base",
          "model_module_version": "1.2.0",
          "model_name": "LayoutModel",
          "state": {
            "_model_module": "@jupyter-widgets/base",
            "_model_module_version": "1.2.0",
            "_model_name": "LayoutModel",
            "_view_count": null,
            "_view_module": "@jupyter-widgets/base",
            "_view_module_version": "1.2.0",
            "_view_name": "LayoutView",
            "align_content": null,
            "align_items": null,
            "align_self": null,
            "border": null,
            "bottom": null,
            "display": null,
            "flex": null,
            "flex_flow": null,
            "grid_area": null,
            "grid_auto_columns": null,
            "grid_auto_flow": null,
            "grid_auto_rows": null,
            "grid_column": null,
            "grid_gap": null,
            "grid_row": null,
            "grid_template_areas": null,
            "grid_template_columns": null,
            "grid_template_rows": null,
            "height": null,
            "justify_content": null,
            "justify_items": null,
            "left": null,
            "margin": null,
            "max_height": null,
            "max_width": null,
            "min_height": null,
            "min_width": null,
            "object_fit": null,
            "object_position": null,
            "order": null,
            "overflow": null,
            "overflow_x": null,
            "overflow_y": null,
            "padding": null,
            "right": null,
            "top": null,
            "visibility": null,
            "width": null
          }
        },
        "78e278f57d0e47eaa20899ec306cd987": {
          "model_module": "@jupyter-widgets/base",
          "model_module_version": "1.2.0",
          "model_name": "LayoutModel",
          "state": {
            "_model_module": "@jupyter-widgets/base",
            "_model_module_version": "1.2.0",
            "_model_name": "LayoutModel",
            "_view_count": null,
            "_view_module": "@jupyter-widgets/base",
            "_view_module_version": "1.2.0",
            "_view_name": "LayoutView",
            "align_content": null,
            "align_items": null,
            "align_self": null,
            "border": null,
            "bottom": null,
            "display": null,
            "flex": null,
            "flex_flow": null,
            "grid_area": null,
            "grid_auto_columns": null,
            "grid_auto_flow": null,
            "grid_auto_rows": null,
            "grid_column": null,
            "grid_gap": null,
            "grid_row": null,
            "grid_template_areas": null,
            "grid_template_columns": null,
            "grid_template_rows": null,
            "height": null,
            "justify_content": null,
            "justify_items": null,
            "left": null,
            "margin": null,
            "max_height": null,
            "max_width": null,
            "min_height": null,
            "min_width": null,
            "object_fit": null,
            "object_position": null,
            "order": null,
            "overflow": null,
            "overflow_x": null,
            "overflow_y": null,
            "padding": null,
            "right": null,
            "top": null,
            "visibility": null,
            "width": null
          }
        },
        "795b6ef465e340f38c1c5166dc532df7": {
          "model_module": "@jupyter-widgets/controls",
          "model_module_version": "1.5.0",
          "model_name": "DescriptionStyleModel",
          "state": {
            "_model_module": "@jupyter-widgets/controls",
            "_model_module_version": "1.5.0",
            "_model_name": "DescriptionStyleModel",
            "_view_count": null,
            "_view_module": "@jupyter-widgets/base",
            "_view_module_version": "1.2.0",
            "_view_name": "StyleView",
            "description_width": ""
          }
        },
        "7ade717385834b92babe4eef6715c512": {
          "model_module": "@jupyter-widgets/base",
          "model_module_version": "1.2.0",
          "model_name": "LayoutModel",
          "state": {
            "_model_module": "@jupyter-widgets/base",
            "_model_module_version": "1.2.0",
            "_model_name": "LayoutModel",
            "_view_count": null,
            "_view_module": "@jupyter-widgets/base",
            "_view_module_version": "1.2.0",
            "_view_name": "LayoutView",
            "align_content": null,
            "align_items": null,
            "align_self": null,
            "border": null,
            "bottom": null,
            "display": null,
            "flex": null,
            "flex_flow": null,
            "grid_area": null,
            "grid_auto_columns": null,
            "grid_auto_flow": null,
            "grid_auto_rows": null,
            "grid_column": null,
            "grid_gap": null,
            "grid_row": null,
            "grid_template_areas": null,
            "grid_template_columns": null,
            "grid_template_rows": null,
            "height": null,
            "justify_content": null,
            "justify_items": null,
            "left": null,
            "margin": null,
            "max_height": null,
            "max_width": null,
            "min_height": null,
            "min_width": null,
            "object_fit": null,
            "object_position": null,
            "order": null,
            "overflow": null,
            "overflow_x": null,
            "overflow_y": null,
            "padding": null,
            "right": null,
            "top": null,
            "visibility": null,
            "width": null
          }
        },
        "7bcd383402f34c15b17b6ac9151395f2": {
          "model_module": "@jupyter-widgets/controls",
          "model_module_version": "1.5.0",
          "model_name": "HBoxModel",
          "state": {
            "_dom_classes": [],
            "_model_module": "@jupyter-widgets/controls",
            "_model_module_version": "1.5.0",
            "_model_name": "HBoxModel",
            "_view_count": null,
            "_view_module": "@jupyter-widgets/controls",
            "_view_module_version": "1.5.0",
            "_view_name": "HBoxView",
            "box_style": "",
            "children": [
              "IPY_MODEL_fb81271cf37e47a19fa98d2e7abd55d4",
              "IPY_MODEL_37fae069102744a8bbbc91ce1e9d3640",
              "IPY_MODEL_2f7004173db54f058ece68b359b085da"
            ],
            "layout": "IPY_MODEL_965aa0761e614d33befc143cc11cd636"
          }
        },
        "7d93e399d2da42a4bd127ac89c1896d3": {
          "model_module": "@jupyter-widgets/controls",
          "model_module_version": "1.5.0",
          "model_name": "HBoxModel",
          "state": {
            "_dom_classes": [],
            "_model_module": "@jupyter-widgets/controls",
            "_model_module_version": "1.5.0",
            "_model_name": "HBoxModel",
            "_view_count": null,
            "_view_module": "@jupyter-widgets/controls",
            "_view_module_version": "1.5.0",
            "_view_name": "HBoxView",
            "box_style": "",
            "children": [
              "IPY_MODEL_64cad14e1f0c40b197c499b3b994e1d4",
              "IPY_MODEL_deb46e6b778b4c21bef602b7429699b2",
              "IPY_MODEL_8c1823dc2fa640b8a079fc7f342a462e"
            ],
            "layout": "IPY_MODEL_fba8d9448c4847f39e11a41cea731f86"
          }
        },
        "7f5a73d98d924d0f81ee197a73bc3191": {
          "model_module": "@jupyter-widgets/base",
          "model_module_version": "1.2.0",
          "model_name": "LayoutModel",
          "state": {
            "_model_module": "@jupyter-widgets/base",
            "_model_module_version": "1.2.0",
            "_model_name": "LayoutModel",
            "_view_count": null,
            "_view_module": "@jupyter-widgets/base",
            "_view_module_version": "1.2.0",
            "_view_name": "LayoutView",
            "align_content": null,
            "align_items": null,
            "align_self": null,
            "border": null,
            "bottom": null,
            "display": null,
            "flex": null,
            "flex_flow": null,
            "grid_area": null,
            "grid_auto_columns": null,
            "grid_auto_flow": null,
            "grid_auto_rows": null,
            "grid_column": null,
            "grid_gap": null,
            "grid_row": null,
            "grid_template_areas": null,
            "grid_template_columns": null,
            "grid_template_rows": null,
            "height": null,
            "justify_content": null,
            "justify_items": null,
            "left": null,
            "margin": null,
            "max_height": null,
            "max_width": null,
            "min_height": null,
            "min_width": null,
            "object_fit": null,
            "object_position": null,
            "order": null,
            "overflow": null,
            "overflow_x": null,
            "overflow_y": null,
            "padding": null,
            "right": null,
            "top": null,
            "visibility": null,
            "width": null
          }
        },
        "82ebdea4b5aa468084f3afd6f3709309": {
          "model_module": "@jupyter-widgets/base",
          "model_module_version": "1.2.0",
          "model_name": "LayoutModel",
          "state": {
            "_model_module": "@jupyter-widgets/base",
            "_model_module_version": "1.2.0",
            "_model_name": "LayoutModel",
            "_view_count": null,
            "_view_module": "@jupyter-widgets/base",
            "_view_module_version": "1.2.0",
            "_view_name": "LayoutView",
            "align_content": null,
            "align_items": null,
            "align_self": null,
            "border": null,
            "bottom": null,
            "display": null,
            "flex": null,
            "flex_flow": null,
            "grid_area": null,
            "grid_auto_columns": null,
            "grid_auto_flow": null,
            "grid_auto_rows": null,
            "grid_column": null,
            "grid_gap": null,
            "grid_row": null,
            "grid_template_areas": null,
            "grid_template_columns": null,
            "grid_template_rows": null,
            "height": null,
            "justify_content": null,
            "justify_items": null,
            "left": null,
            "margin": null,
            "max_height": null,
            "max_width": null,
            "min_height": null,
            "min_width": null,
            "object_fit": null,
            "object_position": null,
            "order": null,
            "overflow": null,
            "overflow_x": null,
            "overflow_y": null,
            "padding": null,
            "right": null,
            "top": null,
            "visibility": null,
            "width": null
          }
        },
        "8794f520eded4fb3934ff57ce82d0d41": {
          "model_module": "@jupyter-widgets/controls",
          "model_module_version": "1.5.0",
          "model_name": "HTMLModel",
          "state": {
            "_dom_classes": [],
            "_model_module": "@jupyter-widgets/controls",
            "_model_module_version": "1.5.0",
            "_model_name": "HTMLModel",
            "_view_count": null,
            "_view_module": "@jupyter-widgets/controls",
            "_view_module_version": "1.5.0",
            "_view_name": "HTMLView",
            "description": "",
            "description_tooltip": null,
            "layout": "IPY_MODEL_fe8a0f52a16c4e67ab9ce2aad00d7af7",
            "placeholder": "​",
            "style": "IPY_MODEL_a10c5f5c433640d88a2f3c238e7f7062",
            "value": "combined_dataset.json: 100%"
          }
        },
        "87c36b0ba4ea4f34a730fe9fc35f4136": {
          "model_module": "@jupyter-widgets/controls",
          "model_module_version": "1.5.0",
          "model_name": "ProgressStyleModel",
          "state": {
            "_model_module": "@jupyter-widgets/controls",
            "_model_module_version": "1.5.0",
            "_model_name": "ProgressStyleModel",
            "_view_count": null,
            "_view_module": "@jupyter-widgets/base",
            "_view_module_version": "1.2.0",
            "_view_name": "StyleView",
            "bar_color": null,
            "description_width": ""
          }
        },
        "88d19935bf0242e78dd97c488d43460e": {
          "model_module": "@jupyter-widgets/base",
          "model_module_version": "1.2.0",
          "model_name": "LayoutModel",
          "state": {
            "_model_module": "@jupyter-widgets/base",
            "_model_module_version": "1.2.0",
            "_model_name": "LayoutModel",
            "_view_count": null,
            "_view_module": "@jupyter-widgets/base",
            "_view_module_version": "1.2.0",
            "_view_name": "LayoutView",
            "align_content": null,
            "align_items": null,
            "align_self": null,
            "border": null,
            "bottom": null,
            "display": null,
            "flex": null,
            "flex_flow": null,
            "grid_area": null,
            "grid_auto_columns": null,
            "grid_auto_flow": null,
            "grid_auto_rows": null,
            "grid_column": null,
            "grid_gap": null,
            "grid_row": null,
            "grid_template_areas": null,
            "grid_template_columns": null,
            "grid_template_rows": null,
            "height": null,
            "justify_content": null,
            "justify_items": null,
            "left": null,
            "margin": null,
            "max_height": null,
            "max_width": null,
            "min_height": null,
            "min_width": null,
            "object_fit": null,
            "object_position": null,
            "order": null,
            "overflow": null,
            "overflow_x": null,
            "overflow_y": null,
            "padding": null,
            "right": null,
            "top": null,
            "visibility": null,
            "width": null
          }
        },
        "8a4b2823d18347edbc8abaae9835f17c": {
          "model_module": "@jupyter-widgets/base",
          "model_module_version": "1.2.0",
          "model_name": "LayoutModel",
          "state": {
            "_model_module": "@jupyter-widgets/base",
            "_model_module_version": "1.2.0",
            "_model_name": "LayoutModel",
            "_view_count": null,
            "_view_module": "@jupyter-widgets/base",
            "_view_module_version": "1.2.0",
            "_view_name": "LayoutView",
            "align_content": null,
            "align_items": null,
            "align_self": null,
            "border": null,
            "bottom": null,
            "display": null,
            "flex": null,
            "flex_flow": null,
            "grid_area": null,
            "grid_auto_columns": null,
            "grid_auto_flow": null,
            "grid_auto_rows": null,
            "grid_column": null,
            "grid_gap": null,
            "grid_row": null,
            "grid_template_areas": null,
            "grid_template_columns": null,
            "grid_template_rows": null,
            "height": null,
            "justify_content": null,
            "justify_items": null,
            "left": null,
            "margin": null,
            "max_height": null,
            "max_width": null,
            "min_height": null,
            "min_width": null,
            "object_fit": null,
            "object_position": null,
            "order": null,
            "overflow": null,
            "overflow_x": null,
            "overflow_y": null,
            "padding": null,
            "right": null,
            "top": null,
            "visibility": null,
            "width": null
          }
        },
        "8a6edd6040c24f27bd38ad2c3d54c4dc": {
          "model_module": "@jupyter-widgets/controls",
          "model_module_version": "1.5.0",
          "model_name": "HTMLModel",
          "state": {
            "_dom_classes": [],
            "_model_module": "@jupyter-widgets/controls",
            "_model_module_version": "1.5.0",
            "_model_name": "HTMLModel",
            "_view_count": null,
            "_view_module": "@jupyter-widgets/controls",
            "_view_module_version": "1.5.0",
            "_view_name": "HTMLView",
            "description": "",
            "description_tooltip": null,
            "layout": "IPY_MODEL_82ebdea4b5aa468084f3afd6f3709309",
            "placeholder": "​",
            "style": "IPY_MODEL_2b81cf6538134762b4936ff008457c49",
            "value": "Map: 100%"
          }
        },
        "8ad88f02fb7946d484addb62cdbc2012": {
          "model_module": "@jupyter-widgets/controls",
          "model_module_version": "1.5.0",
          "model_name": "ProgressStyleModel",
          "state": {
            "_model_module": "@jupyter-widgets/controls",
            "_model_module_version": "1.5.0",
            "_model_name": "ProgressStyleModel",
            "_view_count": null,
            "_view_module": "@jupyter-widgets/base",
            "_view_module_version": "1.2.0",
            "_view_name": "StyleView",
            "bar_color": null,
            "description_width": ""
          }
        },
        "8bd1da05d8754baf8e82f801fc094174": {
          "model_module": "@jupyter-widgets/controls",
          "model_module_version": "1.5.0",
          "model_name": "FloatProgressModel",
          "state": {
            "_dom_classes": [],
            "_model_module": "@jupyter-widgets/controls",
            "_model_module_version": "1.5.0",
            "_model_name": "FloatProgressModel",
            "_view_count": null,
            "_view_module": "@jupyter-widgets/controls",
            "_view_module_version": "1.5.0",
            "_view_name": "ProgressView",
            "bar_style": "success",
            "description": "",
            "description_tooltip": null,
            "layout": "IPY_MODEL_ab367844f02a438f8b5c5dcc97e4c493",
            "max": 3512,
            "min": 0,
            "orientation": "horizontal",
            "style": "IPY_MODEL_c6903c5f57d145f6b18fcb30164f6547",
            "value": 3512
          }
        },
        "8c1823dc2fa640b8a079fc7f342a462e": {
          "model_module": "@jupyter-widgets/controls",
          "model_module_version": "1.5.0",
          "model_name": "HTMLModel",
          "state": {
            "_dom_classes": [],
            "_model_module": "@jupyter-widgets/controls",
            "_model_module_version": "1.5.0",
            "_model_name": "HTMLModel",
            "_view_count": null,
            "_view_module": "@jupyter-widgets/controls",
            "_view_module_version": "1.5.0",
            "_view_name": "HTMLView",
            "description": "",
            "description_tooltip": null,
            "layout": "IPY_MODEL_67ef00628b954ceaab884fc9d4b9fe87",
            "placeholder": "​",
            "style": "IPY_MODEL_2ebaccfacae34e23aa54731efa2e16e3",
            "value": " 762/762 [00:00&lt;00:00, 21.0kB/s]"
          }
        },
        "8d31c6d16ad043b99d85a6cfa7f874eb": {
          "model_module": "@jupyter-widgets/controls",
          "model_module_version": "1.5.0",
          "model_name": "HTMLModel",
          "state": {
            "_dom_classes": [],
            "_model_module": "@jupyter-widgets/controls",
            "_model_module_version": "1.5.0",
            "_model_name": "HTMLModel",
            "_view_count": null,
            "_view_module": "@jupyter-widgets/controls",
            "_view_module_version": "1.5.0",
            "_view_name": "HTMLView",
            "description": "",
            "description_tooltip": null,
            "layout": "IPY_MODEL_a4d87d07f7764a538b015bd2abf7f1c9",
            "placeholder": "​",
            "style": "IPY_MODEL_795b6ef465e340f38c1c5166dc532df7",
            "value": " 26.0/26.0 [00:00&lt;00:00, 2.11kB/s]"
          }
        },
        "92c5b1f590c34e6fa0f0dfa828d9253a": {
          "model_module": "@jupyter-widgets/controls",
          "model_module_version": "1.5.0",
          "model_name": "HBoxModel",
          "state": {
            "_dom_classes": [],
            "_model_module": "@jupyter-widgets/controls",
            "_model_module_version": "1.5.0",
            "_model_name": "HBoxModel",
            "_view_count": null,
            "_view_module": "@jupyter-widgets/controls",
            "_view_module_version": "1.5.0",
            "_view_name": "HBoxView",
            "box_style": "",
            "children": [
              "IPY_MODEL_9ddf2ffcb7dd45b8be8737615d13274a",
              "IPY_MODEL_d2d699769a93415a90cd11171d2fc107",
              "IPY_MODEL_c9a06ea4603c481d9d297f5fd4ddd7f4"
            ],
            "layout": "IPY_MODEL_58b41ddceee94be299bc63c0b008c364"
          }
        },
        "954236d5970e4580aa590306a410ba14": {
          "model_module": "@jupyter-widgets/controls",
          "model_module_version": "1.5.0",
          "model_name": "DescriptionStyleModel",
          "state": {
            "_model_module": "@jupyter-widgets/controls",
            "_model_module_version": "1.5.0",
            "_model_name": "DescriptionStyleModel",
            "_view_count": null,
            "_view_module": "@jupyter-widgets/base",
            "_view_module_version": "1.2.0",
            "_view_name": "StyleView",
            "description_width": ""
          }
        },
        "965aa0761e614d33befc143cc11cd636": {
          "model_module": "@jupyter-widgets/base",
          "model_module_version": "1.2.0",
          "model_name": "LayoutModel",
          "state": {
            "_model_module": "@jupyter-widgets/base",
            "_model_module_version": "1.2.0",
            "_model_name": "LayoutModel",
            "_view_count": null,
            "_view_module": "@jupyter-widgets/base",
            "_view_module_version": "1.2.0",
            "_view_name": "LayoutView",
            "align_content": null,
            "align_items": null,
            "align_self": null,
            "border": null,
            "bottom": null,
            "display": null,
            "flex": null,
            "flex_flow": null,
            "grid_area": null,
            "grid_auto_columns": null,
            "grid_auto_flow": null,
            "grid_auto_rows": null,
            "grid_column": null,
            "grid_gap": null,
            "grid_row": null,
            "grid_template_areas": null,
            "grid_template_columns": null,
            "grid_template_rows": null,
            "height": null,
            "justify_content": null,
            "justify_items": null,
            "left": null,
            "margin": null,
            "max_height": null,
            "max_width": null,
            "min_height": null,
            "min_width": null,
            "object_fit": null,
            "object_position": null,
            "order": null,
            "overflow": null,
            "overflow_x": null,
            "overflow_y": null,
            "padding": null,
            "right": null,
            "top": null,
            "visibility": null,
            "width": null
          }
        },
        "9a80e6c5c8b64cac9a58005360f03117": {
          "model_module": "@jupyter-widgets/controls",
          "model_module_version": "1.5.0",
          "model_name": "ProgressStyleModel",
          "state": {
            "_model_module": "@jupyter-widgets/controls",
            "_model_module_version": "1.5.0",
            "_model_name": "ProgressStyleModel",
            "_view_count": null,
            "_view_module": "@jupyter-widgets/base",
            "_view_module_version": "1.2.0",
            "_view_name": "StyleView",
            "bar_color": null,
            "description_width": ""
          }
        },
        "9ad3d8718cf1410ea3057cc8794843a9": {
          "model_module": "@jupyter-widgets/base",
          "model_module_version": "1.2.0",
          "model_name": "LayoutModel",
          "state": {
            "_model_module": "@jupyter-widgets/base",
            "_model_module_version": "1.2.0",
            "_model_name": "LayoutModel",
            "_view_count": null,
            "_view_module": "@jupyter-widgets/base",
            "_view_module_version": "1.2.0",
            "_view_name": "LayoutView",
            "align_content": null,
            "align_items": null,
            "align_self": null,
            "border": null,
            "bottom": null,
            "display": null,
            "flex": null,
            "flex_flow": null,
            "grid_area": null,
            "grid_auto_columns": null,
            "grid_auto_flow": null,
            "grid_auto_rows": null,
            "grid_column": null,
            "grid_gap": null,
            "grid_row": null,
            "grid_template_areas": null,
            "grid_template_columns": null,
            "grid_template_rows": null,
            "height": null,
            "justify_content": null,
            "justify_items": null,
            "left": null,
            "margin": null,
            "max_height": null,
            "max_width": null,
            "min_height": null,
            "min_width": null,
            "object_fit": null,
            "object_position": null,
            "order": null,
            "overflow": null,
            "overflow_x": null,
            "overflow_y": null,
            "padding": null,
            "right": null,
            "top": null,
            "visibility": null,
            "width": null
          }
        },
        "9ae4232ac8c149bfbaa904d7fd0c7864": {
          "model_module": "@jupyter-widgets/base",
          "model_module_version": "1.2.0",
          "model_name": "LayoutModel",
          "state": {
            "_model_module": "@jupyter-widgets/base",
            "_model_module_version": "1.2.0",
            "_model_name": "LayoutModel",
            "_view_count": null,
            "_view_module": "@jupyter-widgets/base",
            "_view_module_version": "1.2.0",
            "_view_name": "LayoutView",
            "align_content": null,
            "align_items": null,
            "align_self": null,
            "border": null,
            "bottom": null,
            "display": null,
            "flex": null,
            "flex_flow": null,
            "grid_area": null,
            "grid_auto_columns": null,
            "grid_auto_flow": null,
            "grid_auto_rows": null,
            "grid_column": null,
            "grid_gap": null,
            "grid_row": null,
            "grid_template_areas": null,
            "grid_template_columns": null,
            "grid_template_rows": null,
            "height": null,
            "justify_content": null,
            "justify_items": null,
            "left": null,
            "margin": null,
            "max_height": null,
            "max_width": null,
            "min_height": null,
            "min_width": null,
            "object_fit": null,
            "object_position": null,
            "order": null,
            "overflow": null,
            "overflow_x": null,
            "overflow_y": null,
            "padding": null,
            "right": null,
            "top": null,
            "visibility": null,
            "width": null
          }
        },
        "9ddf2ffcb7dd45b8be8737615d13274a": {
          "model_module": "@jupyter-widgets/controls",
          "model_module_version": "1.5.0",
          "model_name": "HTMLModel",
          "state": {
            "_dom_classes": [],
            "_model_module": "@jupyter-widgets/controls",
            "_model_module_version": "1.5.0",
            "_model_name": "HTMLModel",
            "_view_count": null,
            "_view_module": "@jupyter-widgets/controls",
            "_view_module_version": "1.5.0",
            "_view_name": "HTMLView",
            "description": "",
            "description_tooltip": null,
            "layout": "IPY_MODEL_3a4d5b341443462f8026c75da7e07c2e",
            "placeholder": "​",
            "style": "IPY_MODEL_c0951a4ed08d4a129a95fd7573df6ca3",
            "value": "tokenizer.json: 100%"
          }
        },
        "9e50c33f997244a0b6d65c81c6c49002": {
          "model_module": "@jupyter-widgets/controls",
          "model_module_version": "1.5.0",
          "model_name": "DescriptionStyleModel",
          "state": {
            "_model_module": "@jupyter-widgets/controls",
            "_model_module_version": "1.5.0",
            "_model_name": "DescriptionStyleModel",
            "_view_count": null,
            "_view_module": "@jupyter-widgets/base",
            "_view_module_version": "1.2.0",
            "_view_name": "StyleView",
            "description_width": ""
          }
        },
        "9f01e3266efb47eb964625c801a575ed": {
          "model_module": "@jupyter-widgets/controls",
          "model_module_version": "1.5.0",
          "model_name": "HTMLModel",
          "state": {
            "_dom_classes": [],
            "_model_module": "@jupyter-widgets/controls",
            "_model_module_version": "1.5.0",
            "_model_name": "HTMLModel",
            "_view_count": null,
            "_view_module": "@jupyter-widgets/controls",
            "_view_module_version": "1.5.0",
            "_view_name": "HTMLView",
            "description": "",
            "description_tooltip": null,
            "layout": "IPY_MODEL_fdbd70e070af4b14a9b93a6aadf9fd73",
            "placeholder": "​",
            "style": "IPY_MODEL_41426f3dd27d4478a5767172ffd49b49",
            "value": "merges.txt: 100%"
          }
        },
        "a10c5f5c433640d88a2f3c238e7f7062": {
          "model_module": "@jupyter-widgets/controls",
          "model_module_version": "1.5.0",
          "model_name": "DescriptionStyleModel",
          "state": {
            "_model_module": "@jupyter-widgets/controls",
            "_model_module_version": "1.5.0",
            "_model_name": "DescriptionStyleModel",
            "_view_count": null,
            "_view_module": "@jupyter-widgets/base",
            "_view_module_version": "1.2.0",
            "_view_name": "StyleView",
            "description_width": ""
          }
        },
        "a2640f6cbefa40ca9177bcf126c6a078": {
          "model_module": "@jupyter-widgets/base",
          "model_module_version": "1.2.0",
          "model_name": "LayoutModel",
          "state": {
            "_model_module": "@jupyter-widgets/base",
            "_model_module_version": "1.2.0",
            "_model_name": "LayoutModel",
            "_view_count": null,
            "_view_module": "@jupyter-widgets/base",
            "_view_module_version": "1.2.0",
            "_view_name": "LayoutView",
            "align_content": null,
            "align_items": null,
            "align_self": null,
            "border": null,
            "bottom": null,
            "display": null,
            "flex": null,
            "flex_flow": null,
            "grid_area": null,
            "grid_auto_columns": null,
            "grid_auto_flow": null,
            "grid_auto_rows": null,
            "grid_column": null,
            "grid_gap": null,
            "grid_row": null,
            "grid_template_areas": null,
            "grid_template_columns": null,
            "grid_template_rows": null,
            "height": null,
            "justify_content": null,
            "justify_items": null,
            "left": null,
            "margin": null,
            "max_height": null,
            "max_width": null,
            "min_height": null,
            "min_width": null,
            "object_fit": null,
            "object_position": null,
            "order": null,
            "overflow": null,
            "overflow_x": null,
            "overflow_y": null,
            "padding": null,
            "right": null,
            "top": null,
            "visibility": null,
            "width": null
          }
        },
        "a4d87d07f7764a538b015bd2abf7f1c9": {
          "model_module": "@jupyter-widgets/base",
          "model_module_version": "1.2.0",
          "model_name": "LayoutModel",
          "state": {
            "_model_module": "@jupyter-widgets/base",
            "_model_module_version": "1.2.0",
            "_model_name": "LayoutModel",
            "_view_count": null,
            "_view_module": "@jupyter-widgets/base",
            "_view_module_version": "1.2.0",
            "_view_name": "LayoutView",
            "align_content": null,
            "align_items": null,
            "align_self": null,
            "border": null,
            "bottom": null,
            "display": null,
            "flex": null,
            "flex_flow": null,
            "grid_area": null,
            "grid_auto_columns": null,
            "grid_auto_flow": null,
            "grid_auto_rows": null,
            "grid_column": null,
            "grid_gap": null,
            "grid_row": null,
            "grid_template_areas": null,
            "grid_template_columns": null,
            "grid_template_rows": null,
            "height": null,
            "justify_content": null,
            "justify_items": null,
            "left": null,
            "margin": null,
            "max_height": null,
            "max_width": null,
            "min_height": null,
            "min_width": null,
            "object_fit": null,
            "object_position": null,
            "order": null,
            "overflow": null,
            "overflow_x": null,
            "overflow_y": null,
            "padding": null,
            "right": null,
            "top": null,
            "visibility": null,
            "width": null
          }
        },
        "a5748e7ba6304553beebabcfc6f37e16": {
          "model_module": "@jupyter-widgets/controls",
          "model_module_version": "1.5.0",
          "model_name": "DescriptionStyleModel",
          "state": {
            "_model_module": "@jupyter-widgets/controls",
            "_model_module_version": "1.5.0",
            "_model_name": "DescriptionStyleModel",
            "_view_count": null,
            "_view_module": "@jupyter-widgets/base",
            "_view_module_version": "1.2.0",
            "_view_name": "StyleView",
            "description_width": ""
          }
        },
        "a610bc37bb19494b9b27206385d42705": {
          "model_module": "@jupyter-widgets/controls",
          "model_module_version": "1.5.0",
          "model_name": "DescriptionStyleModel",
          "state": {
            "_model_module": "@jupyter-widgets/controls",
            "_model_module_version": "1.5.0",
            "_model_name": "DescriptionStyleModel",
            "_view_count": null,
            "_view_module": "@jupyter-widgets/base",
            "_view_module_version": "1.2.0",
            "_view_name": "StyleView",
            "description_width": ""
          }
        },
        "a7c03cfbb8f74987b8f2950bff9e86a1": {
          "model_module": "@jupyter-widgets/controls",
          "model_module_version": "1.5.0",
          "model_name": "FloatProgressModel",
          "state": {
            "_dom_classes": [],
            "_model_module": "@jupyter-widgets/controls",
            "_model_module_version": "1.5.0",
            "_model_name": "FloatProgressModel",
            "_view_count": null,
            "_view_module": "@jupyter-widgets/controls",
            "_view_module_version": "1.5.0",
            "_view_name": "ProgressView",
            "bar_style": "success",
            "description": "",
            "description_tooltip": null,
            "layout": "IPY_MODEL_22454f4484904d608063e9ac66b2a8a2",
            "max": 124,
            "min": 0,
            "orientation": "horizontal",
            "style": "IPY_MODEL_f4265579b6444bd88e2410b590f19825",
            "value": 124
          }
        },
        "a9c1704e3d5e46688cfb604f419b023f": {
          "model_module": "@jupyter-widgets/base",
          "model_module_version": "1.2.0",
          "model_name": "LayoutModel",
          "state": {
            "_model_module": "@jupyter-widgets/base",
            "_model_module_version": "1.2.0",
            "_model_name": "LayoutModel",
            "_view_count": null,
            "_view_module": "@jupyter-widgets/base",
            "_view_module_version": "1.2.0",
            "_view_name": "LayoutView",
            "align_content": null,
            "align_items": null,
            "align_self": null,
            "border": null,
            "bottom": null,
            "display": null,
            "flex": null,
            "flex_flow": null,
            "grid_area": null,
            "grid_auto_columns": null,
            "grid_auto_flow": null,
            "grid_auto_rows": null,
            "grid_column": null,
            "grid_gap": null,
            "grid_row": null,
            "grid_template_areas": null,
            "grid_template_columns": null,
            "grid_template_rows": null,
            "height": null,
            "justify_content": null,
            "justify_items": null,
            "left": null,
            "margin": null,
            "max_height": null,
            "max_width": null,
            "min_height": null,
            "min_width": null,
            "object_fit": null,
            "object_position": null,
            "order": null,
            "overflow": null,
            "overflow_x": null,
            "overflow_y": null,
            "padding": null,
            "right": null,
            "top": null,
            "visibility": null,
            "width": null
          }
        },
        "ab367844f02a438f8b5c5dcc97e4c493": {
          "model_module": "@jupyter-widgets/base",
          "model_module_version": "1.2.0",
          "model_name": "LayoutModel",
          "state": {
            "_model_module": "@jupyter-widgets/base",
            "_model_module_version": "1.2.0",
            "_model_name": "LayoutModel",
            "_view_count": null,
            "_view_module": "@jupyter-widgets/base",
            "_view_module_version": "1.2.0",
            "_view_name": "LayoutView",
            "align_content": null,
            "align_items": null,
            "align_self": null,
            "border": null,
            "bottom": null,
            "display": null,
            "flex": null,
            "flex_flow": null,
            "grid_area": null,
            "grid_auto_columns": null,
            "grid_auto_flow": null,
            "grid_auto_rows": null,
            "grid_column": null,
            "grid_gap": null,
            "grid_row": null,
            "grid_template_areas": null,
            "grid_template_columns": null,
            "grid_template_rows": null,
            "height": null,
            "justify_content": null,
            "justify_items": null,
            "left": null,
            "margin": null,
            "max_height": null,
            "max_width": null,
            "min_height": null,
            "min_width": null,
            "object_fit": null,
            "object_position": null,
            "order": null,
            "overflow": null,
            "overflow_x": null,
            "overflow_y": null,
            "padding": null,
            "right": null,
            "top": null,
            "visibility": null,
            "width": null
          }
        },
        "afd26cfa366849dcbc75053afe0c1daa": {
          "model_module": "@jupyter-widgets/controls",
          "model_module_version": "1.5.0",
          "model_name": "DescriptionStyleModel",
          "state": {
            "_model_module": "@jupyter-widgets/controls",
            "_model_module_version": "1.5.0",
            "_model_name": "DescriptionStyleModel",
            "_view_count": null,
            "_view_module": "@jupyter-widgets/base",
            "_view_module_version": "1.2.0",
            "_view_name": "StyleView",
            "description_width": ""
          }
        },
        "b1ad7fab33404321a5283a2299f15178": {
          "model_module": "@jupyter-widgets/controls",
          "model_module_version": "1.5.0",
          "model_name": "ProgressStyleModel",
          "state": {
            "_model_module": "@jupyter-widgets/controls",
            "_model_module_version": "1.5.0",
            "_model_name": "ProgressStyleModel",
            "_view_count": null,
            "_view_module": "@jupyter-widgets/base",
            "_view_module_version": "1.2.0",
            "_view_name": "StyleView",
            "bar_color": null,
            "description_width": ""
          }
        },
        "b368695461cb4134b8b92f5c83338096": {
          "model_module": "@jupyter-widgets/controls",
          "model_module_version": "1.5.0",
          "model_name": "HBoxModel",
          "state": {
            "_dom_classes": [],
            "_model_module": "@jupyter-widgets/controls",
            "_model_module_version": "1.5.0",
            "_model_name": "HBoxModel",
            "_view_count": null,
            "_view_module": "@jupyter-widgets/controls",
            "_view_module_version": "1.5.0",
            "_view_name": "HBoxView",
            "box_style": "",
            "children": [
              "IPY_MODEL_042f65894b504aa3ab19d1105c6d7576",
              "IPY_MODEL_8bd1da05d8754baf8e82f801fc094174",
              "IPY_MODEL_42900fa8f77b427d9da1569c095bfc91"
            ],
            "layout": "IPY_MODEL_7ade717385834b92babe4eef6715c512"
          }
        },
        "b7a7b2bb840d4a16b7ec8fc9fac7615f": {
          "model_module": "@jupyter-widgets/controls",
          "model_module_version": "1.5.0",
          "model_name": "HTMLModel",
          "state": {
            "_dom_classes": [],
            "_model_module": "@jupyter-widgets/controls",
            "_model_module_version": "1.5.0",
            "_model_name": "HTMLModel",
            "_view_count": null,
            "_view_module": "@jupyter-widgets/controls",
            "_view_module_version": "1.5.0",
            "_view_name": "HTMLView",
            "description": "",
            "description_tooltip": null,
            "layout": "IPY_MODEL_9ad3d8718cf1410ea3057cc8794843a9",
            "placeholder": "​",
            "style": "IPY_MODEL_eb400f7734d14f9ba48aad4838f042cb",
            "value": "Downloading builder script: 100%"
          }
        },
        "bcb05717933442d788674f679f91b367": {
          "model_module": "@jupyter-widgets/controls",
          "model_module_version": "1.5.0",
          "model_name": "HTMLModel",
          "state": {
            "_dom_classes": [],
            "_model_module": "@jupyter-widgets/controls",
            "_model_module_version": "1.5.0",
            "_model_name": "HTMLModel",
            "_view_count": null,
            "_view_module": "@jupyter-widgets/controls",
            "_view_module_version": "1.5.0",
            "_view_name": "HTMLView",
            "description": "",
            "description_tooltip": null,
            "layout": "IPY_MODEL_6d7e94fce2c04c8089b5df73d3f43fb4",
            "placeholder": "​",
            "style": "IPY_MODEL_4c5c44bc23a745409e19c16cd77695bf",
            "value": " 353M/353M [00:03&lt;00:00, 160MB/s]"
          }
        },
        "bd8bd5ab4c2c40b386020c69c23819a6": {
          "model_module": "@jupyter-widgets/controls",
          "model_module_version": "1.5.0",
          "model_name": "HTMLModel",
          "state": {
            "_dom_classes": [],
            "_model_module": "@jupyter-widgets/controls",
            "_model_module_version": "1.5.0",
            "_model_name": "HTMLModel",
            "_view_count": null,
            "_view_module": "@jupyter-widgets/controls",
            "_view_module_version": "1.5.0",
            "_view_name": "HTMLView",
            "description": "",
            "description_tooltip": null,
            "layout": "IPY_MODEL_35c4ed7b8ec348d8ad81eb8c9252d487",
            "placeholder": "​",
            "style": "IPY_MODEL_29fe2ff390334bac9cac5fbde39c28d0",
            "value": "generation_config.json: 100%"
          }
        },
        "beffac0b227f4c70926ae31afb3e1cb8": {
          "model_module": "@jupyter-widgets/controls",
          "model_module_version": "1.5.0",
          "model_name": "HBoxModel",
          "state": {
            "_dom_classes": [],
            "_model_module": "@jupyter-widgets/controls",
            "_model_module_version": "1.5.0",
            "_model_name": "HBoxModel",
            "_view_count": null,
            "_view_module": "@jupyter-widgets/controls",
            "_view_module_version": "1.5.0",
            "_view_name": "HBoxView",
            "box_style": "",
            "children": [
              "IPY_MODEL_173a08c4729c43ab955494561925372b",
              "IPY_MODEL_38e91e90244f42aab36d755691a26e4b",
              "IPY_MODEL_e4e4c1d49d0d4f05839f1cfb73fe73fd"
            ],
            "layout": "IPY_MODEL_a9c1704e3d5e46688cfb604f419b023f"
          }
        },
        "bf0f6bc04cde462494f5c458c2ad46d4": {
          "model_module": "@jupyter-widgets/base",
          "model_module_version": "1.2.0",
          "model_name": "LayoutModel",
          "state": {
            "_model_module": "@jupyter-widgets/base",
            "_model_module_version": "1.2.0",
            "_model_name": "LayoutModel",
            "_view_count": null,
            "_view_module": "@jupyter-widgets/base",
            "_view_module_version": "1.2.0",
            "_view_name": "LayoutView",
            "align_content": null,
            "align_items": null,
            "align_self": null,
            "border": null,
            "bottom": null,
            "display": null,
            "flex": null,
            "flex_flow": null,
            "grid_area": null,
            "grid_auto_columns": null,
            "grid_auto_flow": null,
            "grid_auto_rows": null,
            "grid_column": null,
            "grid_gap": null,
            "grid_row": null,
            "grid_template_areas": null,
            "grid_template_columns": null,
            "grid_template_rows": null,
            "height": null,
            "justify_content": null,
            "justify_items": null,
            "left": null,
            "margin": null,
            "max_height": null,
            "max_width": null,
            "min_height": null,
            "min_width": null,
            "object_fit": null,
            "object_position": null,
            "order": null,
            "overflow": null,
            "overflow_x": null,
            "overflow_y": null,
            "padding": null,
            "right": null,
            "top": null,
            "visibility": null,
            "width": null
          }
        },
        "c0951a4ed08d4a129a95fd7573df6ca3": {
          "model_module": "@jupyter-widgets/controls",
          "model_module_version": "1.5.0",
          "model_name": "DescriptionStyleModel",
          "state": {
            "_model_module": "@jupyter-widgets/controls",
            "_model_module_version": "1.5.0",
            "_model_name": "DescriptionStyleModel",
            "_view_count": null,
            "_view_module": "@jupyter-widgets/base",
            "_view_module_version": "1.2.0",
            "_view_name": "StyleView",
            "description_width": ""
          }
        },
        "c2b0d347fce04288901310dbb7a07cf7": {
          "model_module": "@jupyter-widgets/base",
          "model_module_version": "1.2.0",
          "model_name": "LayoutModel",
          "state": {
            "_model_module": "@jupyter-widgets/base",
            "_model_module_version": "1.2.0",
            "_model_name": "LayoutModel",
            "_view_count": null,
            "_view_module": "@jupyter-widgets/base",
            "_view_module_version": "1.2.0",
            "_view_name": "LayoutView",
            "align_content": null,
            "align_items": null,
            "align_self": null,
            "border": null,
            "bottom": null,
            "display": null,
            "flex": null,
            "flex_flow": null,
            "grid_area": null,
            "grid_auto_columns": null,
            "grid_auto_flow": null,
            "grid_auto_rows": null,
            "grid_column": null,
            "grid_gap": null,
            "grid_row": null,
            "grid_template_areas": null,
            "grid_template_columns": null,
            "grid_template_rows": null,
            "height": null,
            "justify_content": null,
            "justify_items": null,
            "left": null,
            "margin": null,
            "max_height": null,
            "max_width": null,
            "min_height": null,
            "min_width": null,
            "object_fit": null,
            "object_position": null,
            "order": null,
            "overflow": null,
            "overflow_x": null,
            "overflow_y": null,
            "padding": null,
            "right": null,
            "top": null,
            "visibility": null,
            "width": null
          }
        },
        "c31d3ebddca44cdbaa255e4bb9722089": {
          "model_module": "@jupyter-widgets/controls",
          "model_module_version": "1.5.0",
          "model_name": "DescriptionStyleModel",
          "state": {
            "_model_module": "@jupyter-widgets/controls",
            "_model_module_version": "1.5.0",
            "_model_name": "DescriptionStyleModel",
            "_view_count": null,
            "_view_module": "@jupyter-widgets/base",
            "_view_module_version": "1.2.0",
            "_view_name": "StyleView",
            "description_width": ""
          }
        },
        "c495c2eacf1d4426825fd14cafdbae54": {
          "model_module": "@jupyter-widgets/base",
          "model_module_version": "1.2.0",
          "model_name": "LayoutModel",
          "state": {
            "_model_module": "@jupyter-widgets/base",
            "_model_module_version": "1.2.0",
            "_model_name": "LayoutModel",
            "_view_count": null,
            "_view_module": "@jupyter-widgets/base",
            "_view_module_version": "1.2.0",
            "_view_name": "LayoutView",
            "align_content": null,
            "align_items": null,
            "align_self": null,
            "border": null,
            "bottom": null,
            "display": null,
            "flex": null,
            "flex_flow": null,
            "grid_area": null,
            "grid_auto_columns": null,
            "grid_auto_flow": null,
            "grid_auto_rows": null,
            "grid_column": null,
            "grid_gap": null,
            "grid_row": null,
            "grid_template_areas": null,
            "grid_template_columns": null,
            "grid_template_rows": null,
            "height": null,
            "justify_content": null,
            "justify_items": null,
            "left": null,
            "margin": null,
            "max_height": null,
            "max_width": null,
            "min_height": null,
            "min_width": null,
            "object_fit": null,
            "object_position": null,
            "order": null,
            "overflow": null,
            "overflow_x": null,
            "overflow_y": null,
            "padding": null,
            "right": null,
            "top": null,
            "visibility": null,
            "width": null
          }
        },
        "c556e77afa0147feb589ff20f278dd38": {
          "model_module": "@jupyter-widgets/controls",
          "model_module_version": "1.5.0",
          "model_name": "DescriptionStyleModel",
          "state": {
            "_model_module": "@jupyter-widgets/controls",
            "_model_module_version": "1.5.0",
            "_model_name": "DescriptionStyleModel",
            "_view_count": null,
            "_view_module": "@jupyter-widgets/base",
            "_view_module_version": "1.2.0",
            "_view_name": "StyleView",
            "description_width": ""
          }
        },
        "c6903c5f57d145f6b18fcb30164f6547": {
          "model_module": "@jupyter-widgets/controls",
          "model_module_version": "1.5.0",
          "model_name": "ProgressStyleModel",
          "state": {
            "_model_module": "@jupyter-widgets/controls",
            "_model_module_version": "1.5.0",
            "_model_name": "ProgressStyleModel",
            "_view_count": null,
            "_view_module": "@jupyter-widgets/base",
            "_view_module_version": "1.2.0",
            "_view_name": "StyleView",
            "bar_color": null,
            "description_width": ""
          }
        },
        "c8510dc2d8474bae833baa8f6c71cf77": {
          "model_module": "@jupyter-widgets/controls",
          "model_module_version": "1.5.0",
          "model_name": "HTMLModel",
          "state": {
            "_dom_classes": [],
            "_model_module": "@jupyter-widgets/controls",
            "_model_module_version": "1.5.0",
            "_model_name": "HTMLModel",
            "_view_count": null,
            "_view_module": "@jupyter-widgets/controls",
            "_view_module_version": "1.5.0",
            "_view_name": "HTMLView",
            "description": "",
            "description_tooltip": null,
            "layout": "IPY_MODEL_22a31c5123ab4531b35ff4d4071c5614",
            "placeholder": "​",
            "style": "IPY_MODEL_a5748e7ba6304553beebabcfc6f37e16",
            "value": " 3512/3512 [00:08&lt;00:00, 398.62 examples/s]"
          }
        },
        "c9a06ea4603c481d9d297f5fd4ddd7f4": {
          "model_module": "@jupyter-widgets/controls",
          "model_module_version": "1.5.0",
          "model_name": "HTMLModel",
          "state": {
            "_dom_classes": [],
            "_model_module": "@jupyter-widgets/controls",
            "_model_module_version": "1.5.0",
            "_model_name": "HTMLModel",
            "_view_count": null,
            "_view_module": "@jupyter-widgets/controls",
            "_view_module_version": "1.5.0",
            "_view_name": "HTMLView",
            "description": "",
            "description_tooltip": null,
            "layout": "IPY_MODEL_eda5e4097f264a25ab9ee73f412812f0",
            "placeholder": "​",
            "style": "IPY_MODEL_9e50c33f997244a0b6d65c81c6c49002",
            "value": " 1.36M/1.36M [00:00&lt;00:00, 4.14MB/s]"
          }
        },
        "cb349d87b3844fb281000235c404ba80": {
          "model_module": "@jupyter-widgets/controls",
          "model_module_version": "1.5.0",
          "model_name": "HTMLModel",
          "state": {
            "_dom_classes": [],
            "_model_module": "@jupyter-widgets/controls",
            "_model_module_version": "1.5.0",
            "_model_name": "HTMLModel",
            "_view_count": null,
            "_view_module": "@jupyter-widgets/controls",
            "_view_module_version": "1.5.0",
            "_view_name": "HTMLView",
            "description": "",
            "description_tooltip": null,
            "layout": "IPY_MODEL_0be3d65f6bc84699b9417495f8628078",
            "placeholder": "​",
            "style": "IPY_MODEL_0d986dc23260497686ffc2af94ac256a",
            "value": "tokenizer_config.json: 100%"
          }
        },
        "cc93269e36c04ba88052834c05dbfc6b": {
          "model_module": "@jupyter-widgets/base",
          "model_module_version": "1.2.0",
          "model_name": "LayoutModel",
          "state": {
            "_model_module": "@jupyter-widgets/base",
            "_model_module_version": "1.2.0",
            "_model_name": "LayoutModel",
            "_view_count": null,
            "_view_module": "@jupyter-widgets/base",
            "_view_module_version": "1.2.0",
            "_view_name": "LayoutView",
            "align_content": null,
            "align_items": null,
            "align_self": null,
            "border": null,
            "bottom": null,
            "display": null,
            "flex": null,
            "flex_flow": null,
            "grid_area": null,
            "grid_auto_columns": null,
            "grid_auto_flow": null,
            "grid_auto_rows": null,
            "grid_column": null,
            "grid_gap": null,
            "grid_row": null,
            "grid_template_areas": null,
            "grid_template_columns": null,
            "grid_template_rows": null,
            "height": null,
            "justify_content": null,
            "justify_items": null,
            "left": null,
            "margin": null,
            "max_height": null,
            "max_width": null,
            "min_height": null,
            "min_width": null,
            "object_fit": null,
            "object_position": null,
            "order": null,
            "overflow": null,
            "overflow_x": null,
            "overflow_y": null,
            "padding": null,
            "right": null,
            "top": null,
            "visibility": null,
            "width": null
          }
        },
        "d2d699769a93415a90cd11171d2fc107": {
          "model_module": "@jupyter-widgets/controls",
          "model_module_version": "1.5.0",
          "model_name": "FloatProgressModel",
          "state": {
            "_dom_classes": [],
            "_model_module": "@jupyter-widgets/controls",
            "_model_module_version": "1.5.0",
            "_model_name": "FloatProgressModel",
            "_view_count": null,
            "_view_module": "@jupyter-widgets/controls",
            "_view_module_version": "1.5.0",
            "_view_name": "ProgressView",
            "bar_style": "success",
            "description": "",
            "description_tooltip": null,
            "layout": "IPY_MODEL_0babf96ce6824f30bbf1341c28dfd21c",
            "max": 1355256,
            "min": 0,
            "orientation": "horizontal",
            "style": "IPY_MODEL_36a5c6c9ccaf463c875b47d4222173b1",
            "value": 1355256
          }
        },
        "d6f4880693184f7d96767c57c4be20ee": {
          "model_module": "@jupyter-widgets/base",
          "model_module_version": "1.2.0",
          "model_name": "LayoutModel",
          "state": {
            "_model_module": "@jupyter-widgets/base",
            "_model_module_version": "1.2.0",
            "_model_name": "LayoutModel",
            "_view_count": null,
            "_view_module": "@jupyter-widgets/base",
            "_view_module_version": "1.2.0",
            "_view_name": "LayoutView",
            "align_content": null,
            "align_items": null,
            "align_self": null,
            "border": null,
            "bottom": null,
            "display": null,
            "flex": null,
            "flex_flow": null,
            "grid_area": null,
            "grid_auto_columns": null,
            "grid_auto_flow": null,
            "grid_auto_rows": null,
            "grid_column": null,
            "grid_gap": null,
            "grid_row": null,
            "grid_template_areas": null,
            "grid_template_columns": null,
            "grid_template_rows": null,
            "height": null,
            "justify_content": null,
            "justify_items": null,
            "left": null,
            "margin": null,
            "max_height": null,
            "max_width": null,
            "min_height": null,
            "min_width": null,
            "object_fit": null,
            "object_position": null,
            "order": null,
            "overflow": null,
            "overflow_x": null,
            "overflow_y": null,
            "padding": null,
            "right": null,
            "top": null,
            "visibility": null,
            "width": null
          }
        },
        "d7ed5a892c784924b0df639ede1d23f2": {
          "model_module": "@jupyter-widgets/base",
          "model_module_version": "1.2.0",
          "model_name": "LayoutModel",
          "state": {
            "_model_module": "@jupyter-widgets/base",
            "_model_module_version": "1.2.0",
            "_model_name": "LayoutModel",
            "_view_count": null,
            "_view_module": "@jupyter-widgets/base",
            "_view_module_version": "1.2.0",
            "_view_name": "LayoutView",
            "align_content": null,
            "align_items": null,
            "align_self": null,
            "border": null,
            "bottom": null,
            "display": null,
            "flex": null,
            "flex_flow": null,
            "grid_area": null,
            "grid_auto_columns": null,
            "grid_auto_flow": null,
            "grid_auto_rows": null,
            "grid_column": null,
            "grid_gap": null,
            "grid_row": null,
            "grid_template_areas": null,
            "grid_template_columns": null,
            "grid_template_rows": null,
            "height": null,
            "justify_content": null,
            "justify_items": null,
            "left": null,
            "margin": null,
            "max_height": null,
            "max_width": null,
            "min_height": null,
            "min_width": null,
            "object_fit": null,
            "object_position": null,
            "order": null,
            "overflow": null,
            "overflow_x": null,
            "overflow_y": null,
            "padding": null,
            "right": null,
            "top": null,
            "visibility": null,
            "width": null
          }
        },
        "dd81e19e5b384b70bb72103062b83f09": {
          "model_module": "@jupyter-widgets/base",
          "model_module_version": "1.2.0",
          "model_name": "LayoutModel",
          "state": {
            "_model_module": "@jupyter-widgets/base",
            "_model_module_version": "1.2.0",
            "_model_name": "LayoutModel",
            "_view_count": null,
            "_view_module": "@jupyter-widgets/base",
            "_view_module_version": "1.2.0",
            "_view_name": "LayoutView",
            "align_content": null,
            "align_items": null,
            "align_self": null,
            "border": null,
            "bottom": null,
            "display": null,
            "flex": null,
            "flex_flow": null,
            "grid_area": null,
            "grid_auto_columns": null,
            "grid_auto_flow": null,
            "grid_auto_rows": null,
            "grid_column": null,
            "grid_gap": null,
            "grid_row": null,
            "grid_template_areas": null,
            "grid_template_columns": null,
            "grid_template_rows": null,
            "height": null,
            "justify_content": null,
            "justify_items": null,
            "left": null,
            "margin": null,
            "max_height": null,
            "max_width": null,
            "min_height": null,
            "min_width": null,
            "object_fit": null,
            "object_position": null,
            "order": null,
            "overflow": null,
            "overflow_x": null,
            "overflow_y": null,
            "padding": null,
            "right": null,
            "top": null,
            "visibility": null,
            "width": null
          }
        },
        "de622c1c71bb4183a8e92b63b395ad7c": {
          "model_module": "@jupyter-widgets/controls",
          "model_module_version": "1.5.0",
          "model_name": "DescriptionStyleModel",
          "state": {
            "_model_module": "@jupyter-widgets/controls",
            "_model_module_version": "1.5.0",
            "_model_name": "DescriptionStyleModel",
            "_view_count": null,
            "_view_module": "@jupyter-widgets/base",
            "_view_module_version": "1.2.0",
            "_view_name": "StyleView",
            "description_width": ""
          }
        },
        "deb46e6b778b4c21bef602b7429699b2": {
          "model_module": "@jupyter-widgets/controls",
          "model_module_version": "1.5.0",
          "model_name": "FloatProgressModel",
          "state": {
            "_dom_classes": [],
            "_model_module": "@jupyter-widgets/controls",
            "_model_module_version": "1.5.0",
            "_model_name": "FloatProgressModel",
            "_view_count": null,
            "_view_module": "@jupyter-widgets/controls",
            "_view_module_version": "1.5.0",
            "_view_name": "ProgressView",
            "bar_style": "success",
            "description": "",
            "description_tooltip": null,
            "layout": "IPY_MODEL_78d77d357acb40029e1fe76a3b786288",
            "max": 762,
            "min": 0,
            "orientation": "horizontal",
            "style": "IPY_MODEL_4ea0a97f7ca2467597d7dd25455edfa6",
            "value": 762
          }
        },
        "e15272e5bd754c08baad9df5c52010de": {
          "model_module": "@jupyter-widgets/controls",
          "model_module_version": "1.5.0",
          "model_name": "HTMLModel",
          "state": {
            "_dom_classes": [],
            "_model_module": "@jupyter-widgets/controls",
            "_model_module_version": "1.5.0",
            "_model_name": "HTMLModel",
            "_view_count": null,
            "_view_module": "@jupyter-widgets/controls",
            "_view_module_version": "1.5.0",
            "_view_name": "HTMLView",
            "description": "",
            "description_tooltip": null,
            "layout": "IPY_MODEL_00823bd820a3472aba1a98d5acbbcaa6",
            "placeholder": "​",
            "style": "IPY_MODEL_6203c231c4014d95b2fce3bf2dff146c",
            "value": " 4.79M/4.79M [00:00&lt;00:00, 9.72MB/s]"
          }
        },
        "e318ca9b66e14e989957e89e2b629d57": {
          "model_module": "@jupyter-widgets/controls",
          "model_module_version": "1.5.0",
          "model_name": "DescriptionStyleModel",
          "state": {
            "_model_module": "@jupyter-widgets/controls",
            "_model_module_version": "1.5.0",
            "_model_name": "DescriptionStyleModel",
            "_view_count": null,
            "_view_module": "@jupyter-widgets/base",
            "_view_module_version": "1.2.0",
            "_view_name": "StyleView",
            "description_width": ""
          }
        },
        "e4e4c1d49d0d4f05839f1cfb73fe73fd": {
          "model_module": "@jupyter-widgets/controls",
          "model_module_version": "1.5.0",
          "model_name": "HTMLModel",
          "state": {
            "_dom_classes": [],
            "_model_module": "@jupyter-widgets/controls",
            "_model_module_version": "1.5.0",
            "_model_name": "HTMLModel",
            "_view_count": null,
            "_view_module": "@jupyter-widgets/controls",
            "_view_module_version": "1.5.0",
            "_view_name": "HTMLView",
            "description": "",
            "description_tooltip": null,
            "layout": "IPY_MODEL_77935d82aabc46aa9dce6fcaa5411226",
            "placeholder": "​",
            "style": "IPY_MODEL_61e727f41635486f9e81e94ddcb0f502",
            "value": " 2.82k/2.82k [00:00&lt;00:00, 46.4kB/s]"
          }
        },
        "ea5d0938a55149b9acb891ef991207fd": {
          "model_module": "@jupyter-widgets/controls",
          "model_module_version": "1.5.0",
          "model_name": "HBoxModel",
          "state": {
            "_dom_classes": [],
            "_model_module": "@jupyter-widgets/controls",
            "_model_module_version": "1.5.0",
            "_model_name": "HBoxModel",
            "_view_count": null,
            "_view_module": "@jupyter-widgets/controls",
            "_view_module_version": "1.5.0",
            "_view_name": "HBoxView",
            "box_style": "",
            "children": [
              "IPY_MODEL_23d284a1ef064e0db3d3e33cf8cd06f7",
              "IPY_MODEL_12be1c7136a14b01b06c9f9fd2874a2a",
              "IPY_MODEL_bcb05717933442d788674f679f91b367"
            ],
            "layout": "IPY_MODEL_2f66fad2fb3d40b383ed48c7ae052f3a"
          }
        },
        "eb400f7734d14f9ba48aad4838f042cb": {
          "model_module": "@jupyter-widgets/controls",
          "model_module_version": "1.5.0",
          "model_name": "DescriptionStyleModel",
          "state": {
            "_model_module": "@jupyter-widgets/controls",
            "_model_module_version": "1.5.0",
            "_model_name": "DescriptionStyleModel",
            "_view_count": null,
            "_view_module": "@jupyter-widgets/base",
            "_view_module_version": "1.2.0",
            "_view_name": "StyleView",
            "description_width": ""
          }
        },
        "ec2b0a4ca88e43a49b75afae636624f0": {
          "model_module": "@jupyter-widgets/controls",
          "model_module_version": "1.5.0",
          "model_name": "FloatProgressModel",
          "state": {
            "_dom_classes": [],
            "_model_module": "@jupyter-widgets/controls",
            "_model_module_version": "1.5.0",
            "_model_name": "FloatProgressModel",
            "_view_count": null,
            "_view_module": "@jupyter-widgets/controls",
            "_view_module_version": "1.5.0",
            "_view_name": "ProgressView",
            "bar_style": "success",
            "description": "",
            "description_tooltip": null,
            "layout": "IPY_MODEL_2c54e5355c034d999f56d361ea5291c7",
            "max": 6270,
            "min": 0,
            "orientation": "horizontal",
            "style": "IPY_MODEL_218c902074b74b628a99284bb56f8d76",
            "value": 6270
          }
        },
        "eda5e4097f264a25ab9ee73f412812f0": {
          "model_module": "@jupyter-widgets/base",
          "model_module_version": "1.2.0",
          "model_name": "LayoutModel",
          "state": {
            "_model_module": "@jupyter-widgets/base",
            "_model_module_version": "1.2.0",
            "_model_name": "LayoutModel",
            "_view_count": null,
            "_view_module": "@jupyter-widgets/base",
            "_view_module_version": "1.2.0",
            "_view_name": "LayoutView",
            "align_content": null,
            "align_items": null,
            "align_self": null,
            "border": null,
            "bottom": null,
            "display": null,
            "flex": null,
            "flex_flow": null,
            "grid_area": null,
            "grid_auto_columns": null,
            "grid_auto_flow": null,
            "grid_auto_rows": null,
            "grid_column": null,
            "grid_gap": null,
            "grid_row": null,
            "grid_template_areas": null,
            "grid_template_columns": null,
            "grid_template_rows": null,
            "height": null,
            "justify_content": null,
            "justify_items": null,
            "left": null,
            "margin": null,
            "max_height": null,
            "max_width": null,
            "min_height": null,
            "min_width": null,
            "object_fit": null,
            "object_position": null,
            "order": null,
            "overflow": null,
            "overflow_x": null,
            "overflow_y": null,
            "padding": null,
            "right": null,
            "top": null,
            "visibility": null,
            "width": null
          }
        },
        "edc22a209cdb4910a89935a33d89719b": {
          "model_module": "@jupyter-widgets/controls",
          "model_module_version": "1.5.0",
          "model_name": "ProgressStyleModel",
          "state": {
            "_model_module": "@jupyter-widgets/controls",
            "_model_module_version": "1.5.0",
            "_model_name": "ProgressStyleModel",
            "_view_count": null,
            "_view_module": "@jupyter-widgets/base",
            "_view_module_version": "1.2.0",
            "_view_name": "StyleView",
            "bar_color": null,
            "description_width": ""
          }
        },
        "f4265579b6444bd88e2410b590f19825": {
          "model_module": "@jupyter-widgets/controls",
          "model_module_version": "1.5.0",
          "model_name": "ProgressStyleModel",
          "state": {
            "_model_module": "@jupyter-widgets/controls",
            "_model_module_version": "1.5.0",
            "_model_name": "ProgressStyleModel",
            "_view_count": null,
            "_view_module": "@jupyter-widgets/base",
            "_view_module_version": "1.2.0",
            "_view_name": "StyleView",
            "bar_color": null,
            "description_width": ""
          }
        },
        "f639dfbf190b472083db3774f56932fa": {
          "model_module": "@jupyter-widgets/controls",
          "model_module_version": "1.5.0",
          "model_name": "HTMLModel",
          "state": {
            "_dom_classes": [],
            "_model_module": "@jupyter-widgets/controls",
            "_model_module_version": "1.5.0",
            "_model_name": "HTMLModel",
            "_view_count": null,
            "_view_module": "@jupyter-widgets/controls",
            "_view_module_version": "1.5.0",
            "_view_name": "HTMLView",
            "description": "",
            "description_tooltip": null,
            "layout": "IPY_MODEL_bf0f6bc04cde462494f5c458c2ad46d4",
            "placeholder": "​",
            "style": "IPY_MODEL_3c20c9e8bacf42dfbee5cb65c834db51",
            "value": " 6.27k/6.27k [00:00&lt;00:00, 617kB/s]"
          }
        },
        "f69e7db22c5e4b0e9480f5641fa8ecfd": {
          "model_module": "@jupyter-widgets/base",
          "model_module_version": "1.2.0",
          "model_name": "LayoutModel",
          "state": {
            "_model_module": "@jupyter-widgets/base",
            "_model_module_version": "1.2.0",
            "_model_name": "LayoutModel",
            "_view_count": null,
            "_view_module": "@jupyter-widgets/base",
            "_view_module_version": "1.2.0",
            "_view_name": "LayoutView",
            "align_content": null,
            "align_items": null,
            "align_self": null,
            "border": null,
            "bottom": null,
            "display": null,
            "flex": null,
            "flex_flow": null,
            "grid_area": null,
            "grid_auto_columns": null,
            "grid_auto_flow": null,
            "grid_auto_rows": null,
            "grid_column": null,
            "grid_gap": null,
            "grid_row": null,
            "grid_template_areas": null,
            "grid_template_columns": null,
            "grid_template_rows": null,
            "height": null,
            "justify_content": null,
            "justify_items": null,
            "left": null,
            "margin": null,
            "max_height": null,
            "max_width": null,
            "min_height": null,
            "min_width": null,
            "object_fit": null,
            "object_position": null,
            "order": null,
            "overflow": null,
            "overflow_x": null,
            "overflow_y": null,
            "padding": null,
            "right": null,
            "top": null,
            "visibility": null,
            "width": null
          }
        },
        "fb81271cf37e47a19fa98d2e7abd55d4": {
          "model_module": "@jupyter-widgets/controls",
          "model_module_version": "1.5.0",
          "model_name": "HTMLModel",
          "state": {
            "_dom_classes": [],
            "_model_module": "@jupyter-widgets/controls",
            "_model_module_version": "1.5.0",
            "_model_name": "HTMLModel",
            "_view_count": null,
            "_view_module": "@jupyter-widgets/controls",
            "_view_module_version": "1.5.0",
            "_view_name": "HTMLView",
            "description": "",
            "description_tooltip": null,
            "layout": "IPY_MODEL_8a4b2823d18347edbc8abaae9835f17c",
            "placeholder": "​",
            "style": "IPY_MODEL_4d8670f2577748199e8a4f06a6240ef4",
            "value": "vocab.json: 100%"
          }
        },
        "fba8d9448c4847f39e11a41cea731f86": {
          "model_module": "@jupyter-widgets/base",
          "model_module_version": "1.2.0",
          "model_name": "LayoutModel",
          "state": {
            "_model_module": "@jupyter-widgets/base",
            "_model_module_version": "1.2.0",
            "_model_name": "LayoutModel",
            "_view_count": null,
            "_view_module": "@jupyter-widgets/base",
            "_view_module_version": "1.2.0",
            "_view_name": "LayoutView",
            "align_content": null,
            "align_items": null,
            "align_self": null,
            "border": null,
            "bottom": null,
            "display": null,
            "flex": null,
            "flex_flow": null,
            "grid_area": null,
            "grid_auto_columns": null,
            "grid_auto_flow": null,
            "grid_auto_rows": null,
            "grid_column": null,
            "grid_gap": null,
            "grid_row": null,
            "grid_template_areas": null,
            "grid_template_columns": null,
            "grid_template_rows": null,
            "height": null,
            "justify_content": null,
            "justify_items": null,
            "left": null,
            "margin": null,
            "max_height": null,
            "max_width": null,
            "min_height": null,
            "min_width": null,
            "object_fit": null,
            "object_position": null,
            "order": null,
            "overflow": null,
            "overflow_x": null,
            "overflow_y": null,
            "padding": null,
            "right": null,
            "top": null,
            "visibility": null,
            "width": null
          }
        },
        "fdbd70e070af4b14a9b93a6aadf9fd73": {
          "model_module": "@jupyter-widgets/base",
          "model_module_version": "1.2.0",
          "model_name": "LayoutModel",
          "state": {
            "_model_module": "@jupyter-widgets/base",
            "_model_module_version": "1.2.0",
            "_model_name": "LayoutModel",
            "_view_count": null,
            "_view_module": "@jupyter-widgets/base",
            "_view_module_version": "1.2.0",
            "_view_name": "LayoutView",
            "align_content": null,
            "align_items": null,
            "align_self": null,
            "border": null,
            "bottom": null,
            "display": null,
            "flex": null,
            "flex_flow": null,
            "grid_area": null,
            "grid_auto_columns": null,
            "grid_auto_flow": null,
            "grid_auto_rows": null,
            "grid_column": null,
            "grid_gap": null,
            "grid_row": null,
            "grid_template_areas": null,
            "grid_template_columns": null,
            "grid_template_rows": null,
            "height": null,
            "justify_content": null,
            "justify_items": null,
            "left": null,
            "margin": null,
            "max_height": null,
            "max_width": null,
            "min_height": null,
            "min_width": null,
            "object_fit": null,
            "object_position": null,
            "order": null,
            "overflow": null,
            "overflow_x": null,
            "overflow_y": null,
            "padding": null,
            "right": null,
            "top": null,
            "visibility": null,
            "width": null
          }
        },
        "fdcd70659a194b8cb6d77827b20daeb9": {
          "model_module": "@jupyter-widgets/controls",
          "model_module_version": "1.5.0",
          "model_name": "FloatProgressModel",
          "state": {
            "_dom_classes": [],
            "_model_module": "@jupyter-widgets/controls",
            "_model_module_version": "1.5.0",
            "_model_name": "FloatProgressModel",
            "_view_count": null,
            "_view_module": "@jupyter-widgets/controls",
            "_view_module_version": "1.5.0",
            "_view_name": "ProgressView",
            "bar_style": "success",
            "description": "",
            "description_tooltip": null,
            "layout": "IPY_MODEL_7f5a73d98d924d0f81ee197a73bc3191",
            "max": 456318,
            "min": 0,
            "orientation": "horizontal",
            "style": "IPY_MODEL_edc22a209cdb4910a89935a33d89719b",
            "value": 456318
          }
        },
        "fe8a0f52a16c4e67ab9ce2aad00d7af7": {
          "model_module": "@jupyter-widgets/base",
          "model_module_version": "1.2.0",
          "model_name": "LayoutModel",
          "state": {
            "_model_module": "@jupyter-widgets/base",
            "_model_module_version": "1.2.0",
            "_model_name": "LayoutModel",
            "_view_count": null,
            "_view_module": "@jupyter-widgets/base",
            "_view_module_version": "1.2.0",
            "_view_name": "LayoutView",
            "align_content": null,
            "align_items": null,
            "align_self": null,
            "border": null,
            "bottom": null,
            "display": null,
            "flex": null,
            "flex_flow": null,
            "grid_area": null,
            "grid_auto_columns": null,
            "grid_auto_flow": null,
            "grid_auto_rows": null,
            "grid_column": null,
            "grid_gap": null,
            "grid_row": null,
            "grid_template_areas": null,
            "grid_template_columns": null,
            "grid_template_rows": null,
            "height": null,
            "justify_content": null,
            "justify_items": null,
            "left": null,
            "margin": null,
            "max_height": null,
            "max_width": null,
            "min_height": null,
            "min_width": null,
            "object_fit": null,
            "object_position": null,
            "order": null,
            "overflow": null,
            "overflow_x": null,
            "overflow_y": null,
            "padding": null,
            "right": null,
            "top": null,
            "visibility": null,
            "width": null
          }
        },
        "ff3ff07a726347eaa360a243ba4fe866": {
          "model_module": "@jupyter-widgets/controls",
          "model_module_version": "1.5.0",
          "model_name": "HBoxModel",
          "state": {
            "_dom_classes": [],
            "_model_module": "@jupyter-widgets/controls",
            "_model_module_version": "1.5.0",
            "_model_name": "HBoxModel",
            "_view_count": null,
            "_view_module": "@jupyter-widgets/controls",
            "_view_module_version": "1.5.0",
            "_view_name": "HBoxView",
            "box_style": "",
            "children": [
              "IPY_MODEL_b7a7b2bb840d4a16b7ec8fc9fac7615f",
              "IPY_MODEL_ec2b0a4ca88e43a49b75afae636624f0",
              "IPY_MODEL_f639dfbf190b472083db3774f56932fa"
            ],
            "layout": "IPY_MODEL_d7ed5a892c784924b0df639ede1d23f2"
          }
        }
      }
    }
  },
  "nbformat": 4,
  "nbformat_minor": 0
}
